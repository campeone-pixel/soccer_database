{
 "cells": [
  {
   "cell_type": "code",
   "execution_count": 67,
   "metadata": {},
   "outputs": [],
   "source": [
    "import sqlite3\n",
    "import pandas as pd\n",
    "import numpy as np \n",
    "import pandas as pd\n",
    "import seaborn as sns\n",
    "import matplotlib.pyplot as plt\n",
    "\n",
    "pd.set_option('display.max_columns', None)\n",
    "pd.set_option('display.max_rows', 40)\n",
    "\n",
    "\n",
    "\n",
    "df_games = pd.read_csv(\"df_game_new.csv\")\n",
    "df_teams = pd.read_csv(\"df_teams_new.csv\")\n",
    "df_appearances = pd.read_csv(\"df_appearances_new.csv\")\n",
    "df_players = pd.read_csv(\"df_players_new.csv\")"
   ]
  },
  {
   "cell_type": "code",
   "execution_count": 68,
   "metadata": {},
   "outputs": [],
   "source": [
    "df_games.isna().sum()\n",
    "df_appearances=df_appearances.dropna(axis=0)\n",
    "df_teams[\"total_market_value\"] = df_teams[\"total_market_value\"].fillna(\n",
    "    df_teams[\"total_market_value\"].median()\n",
    ")\n",
    "df_teams[\"average_age\"] = df_teams[\"average_age\"].fillna(\n",
    "    df_teams[\"average_age\"].median()\n",
    ")\n",
    "df_teams[\"foreigners_percentage\"] = df_teams[\"foreigners_percentage\"].fillna(\n",
    "    df_teams[\"foreigners_percentage\"].median()\n",
    ")\n",
    "\n",
    "\n",
    "df_players[\"sub_position\"] = df_players[\"sub_position\"].fillna(\n",
    "    df_players[\"sub_position\"].value_counts().index[0]\n",
    ")\n",
    "df_players[\"foot\"] = df_players[\"foot\"].fillna(\n",
    "    df_players[\"foot\"].value_counts().index[0]\n",
    ")\n",
    "\n",
    "df_players[\"market_value_in_gbp\"] = df_players[\"market_value_in_gbp\"].fillna(\n",
    "    df_players[\"market_value_in_gbp\"].median()\n",
    ")\n",
    "\n",
    "df_players[\"highest_market_value_in_gbp\"] = df_players[\"highest_market_value_in_gbp\"].fillna(\n",
    "    df_players[\"highest_market_value_in_gbp\"].median()\n",
    ")\n",
    "\n",
    "df_players['date_of_birth'].fillna(value=pd.to_datetime('1/1/1985'), inplace=True)\n",
    "\n",
    "df_teams.rename(columns={'name_x':'name'},inplace=True)\n",
    "df_teams.drop(columns=['name_y','url'],inplace=True)\n",
    "\n",
    "\n",
    "\n",
    "df_players=df_players.dropna(axis=0)"
   ]
  },
  {
   "cell_type": "code",
   "execution_count": 69,
   "metadata": {},
   "outputs": [],
   "source": [
    "df_games.to_csv('df_game_new.csv',index=False)\n",
    "df_appearances.to_csv('df_appearances_new.csv',index=False)\n",
    "df_teams.to_csv('df_teams_new.csv',index=False)\n",
    "df_players.to_csv('df_players_new.csv',index=False)"
   ]
  },
  {
   "cell_type": "code",
   "execution_count": 70,
   "metadata": {},
   "outputs": [
    {
     "name": "stdout",
     "output_type": "stream",
     "text": [
      "<class 'pandas.core.frame.DataFrame'>\n",
      "Int64Index: 1853 entries, 2 to 5022\n",
      "Data columns (total 24 columns):\n",
      " #   Column                       Non-Null Count  Dtype  \n",
      "---  ------                       --------------  -----  \n",
      " 0   playerID                     1853 non-null   int64  \n",
      " 1   playerID_df2                 1853 non-null   float64\n",
      " 2   name                         1853 non-null   object \n",
      " 3   player_id                    1853 non-null   int64  \n",
      " 4   pretty_name                  1853 non-null   object \n",
      " 5   club_id                      1853 non-null   int64  \n",
      " 6   club_pretty_name             1853 non-null   object \n",
      " 7   current_club_id              1853 non-null   int64  \n",
      " 8   country_of_citizenship       1853 non-null   object \n",
      " 9   country_of_birth             1853 non-null   object \n",
      " 10  date_of_birth                1853 non-null   object \n",
      " 11  position                     1853 non-null   object \n",
      " 12  sub_position                 1853 non-null   object \n",
      " 13  foot                         1853 non-null   object \n",
      " 14  height_in_cm                 1853 non-null   int64  \n",
      " 15  market_value_in_gbp          1853 non-null   float64\n",
      " 16  highest_market_value_in_gbp  1853 non-null   float64\n",
      " 17  agent_name                   1853 non-null   object \n",
      " 18  contract_expiration_date     1853 non-null   object \n",
      " 19  domestic_competition_id      1853 non-null   object \n",
      " 20  club_name                    1853 non-null   object \n",
      " 21  image_url                    1853 non-null   object \n",
      " 22  last_season                  1853 non-null   int64  \n",
      " 23  url                          1853 non-null   object \n",
      "dtypes: float64(3), int64(6), object(15)\n",
      "memory usage: 361.9+ KB\n"
     ]
    }
   ],
   "source": [
    "df_players.info()"
   ]
  },
  {
   "cell_type": "code",
   "execution_count": null,
   "metadata": {},
   "outputs": [],
   "source": []
  }
 ],
 "metadata": {
  "kernelspec": {
   "display_name": "Python 3",
   "language": "python",
   "name": "python3"
  },
  "language_info": {
   "codemirror_mode": {
    "name": "ipython",
    "version": 3
   },
   "file_extension": ".py",
   "mimetype": "text/x-python",
   "name": "python",
   "nbconvert_exporter": "python",
   "pygments_lexer": "ipython3",
   "version": "3.10.5"
  },
  "orig_nbformat": 4,
  "vscode": {
   "interpreter": {
    "hash": "0f7c5ce30e5f0d7cc845aa124c9e975c020ec21fe98e4a7c7b29adf0872a8c47"
   }
  }
 },
 "nbformat": 4,
 "nbformat_minor": 2
}
