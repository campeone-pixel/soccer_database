{
 "cells": [
  {
   "cell_type": "code",
   "execution_count": 1,
   "metadata": {},
   "outputs": [],
   "source": [
    "import sqlite3\n",
    "import pandas as pd\n",
    "import numpy as np \n",
    "import pandas as pd\n",
    "import seaborn as sns\n",
    "import matplotlib.pyplot as plt\n",
    "\n",
    "pd.set_option('display.max_columns', None)\n",
    "pd.set_option('display.max_rows', 40)\n",
    "\n",
    "\n",
    "\n",
    "df_games = pd.read_csv(\"df_game_new.csv\")\n",
    "df_teams = pd.read_csv(\"df_teams_new.csv\")\n",
    "df_appearances = pd.read_csv(\"df_appearances_new.csv\")\n",
    "df_players = pd.read_csv(\"df_players_new.csv\")"
   ]
  },
  {
   "cell_type": "code",
   "execution_count": null,
   "metadata": {},
   "outputs": [],
   "source": [
    "df_games.isna().sum()\n",
    "df_appearances=df_appearances.dropna(axis=0)\n",
    "df_teams[\"total_market_value\"] = df_teams[\"total_market_value\"].fillna(\n",
    "    df_teams[\"total_market_value\"].median()\n",
    ")\n",
    "df_teams[\"average_age\"] = df_teams[\"average_age\"].fillna(\n",
    "    df_teams[\"average_age\"].median()\n",
    ")\n",
    "df_teams[\"foreigners_percentage\"] = df_teams[\"foreigners_percentage\"].fillna(\n",
    "    df_teams[\"foreigners_percentage\"].median()\n",
    ")\n",
    "\n",
    "\n",
    "df_players[\"sub_position\"] = df_players[\"sub_position\"].fillna(\n",
    "    df_players[\"sub_position\"].value_counts().index[0]\n",
    ")\n",
    "df_players[\"foot\"] = df_players[\"foot\"].fillna(\n",
    "    df_players[\"foot\"].value_counts().index[0]\n",
    ")\n",
    "\n",
    "df_players[\"market_value_in_gbp\"] = df_players[\"market_value_in_gbp\"].fillna(\n",
    "    df_players[\"market_value_in_gbp\"].median()\n",
    ")\n",
    "\n",
    "df_players[\"highest_market_value_in_gbp\"] = df_players[\"highest_market_value_in_gbp\"].fillna(\n",
    "    df_players[\"highest_market_value_in_gbp\"].median()\n",
    ")\n",
    "\n",
    "df_players['date_of_birth'].fillna(value=pd.to_datetime('1/1/1985'), inplace=True)\n",
    "\n",
    "df_teams.rename(columns={'name_x':'name'},inplace=True)\n",
    "df_teams.drop(columns=['name_y','url'],inplace=True)\n",
    "\n",
    "\n",
    "\n"
   ]
  },
  {
   "cell_type": "code",
   "execution_count": null,
   "metadata": {},
   "outputs": [],
   "source": [
    "df_games.to_csv('df_game_new.csv',index=False)\n",
    "df_appearances.to_csv('df_appearances_new.csv',index=False)\n",
    "df_teams.to_csv('df_teams_new.csv',index=False)\n",
    "df_players.to_csv('df_players_new.csv',index=False)"
   ]
  }
 ],
 "metadata": {
  "kernelspec": {
   "display_name": "Python 3 (ipykernel)",
   "language": "python",
   "name": "python3"
  },
  "language_info": {
   "codemirror_mode": {
    "name": "ipython",
    "version": 3
   },
   "file_extension": ".py",
   "mimetype": "text/x-python",
   "name": "python",
   "nbconvert_exporter": "python",
   "pygments_lexer": "ipython3",
   "version": "3.10.5"
  },
  "vscode": {
   "interpreter": {
    "hash": "0f7c5ce30e5f0d7cc845aa124c9e975c020ec21fe98e4a7c7b29adf0872a8c47"
   }
  }
 },
 "nbformat": 4,
 "nbformat_minor": 2
}
