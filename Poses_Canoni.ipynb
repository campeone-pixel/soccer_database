{
  "nbformat": 4,
  "nbformat_minor": 0,
  "metadata": {
    "colab": {
      "provenance": [],
      "authorship_tag": "ABX9TyNCR6Z3g3Tg54zo76F0ghSP",
      "include_colab_link": true
    },
    "kernelspec": {
      "name": "python3",
      "display_name": "Python 3"
    },
    "language_info": {
      "name": "python"
    }
  },
  "cells": [
    {
      "cell_type": "markdown",
      "metadata": {
        "id": "view-in-github",
        "colab_type": "text"
      },
      "source": [
        "<a href=\"https://colab.research.google.com/github/campeone-pixel/soccer_database/blob/master/Poses_Canoni.ipynb\" target=\"_parent\"><img src=\"https://colab.research.google.com/assets/colab-badge.svg\" alt=\"Open In Colab\"/></a>"
      ]
    },
    {
      "cell_type": "markdown",
      "source": [
        "<h1 ><font color='#c14364'><strong>MODELO PREDICTIVO DE LAS MEJORES LIGAS DE FUTBOL</strong></font></h1>\n",
        "\n",
        "<h1 ><font color='#ff916b'><strong>MODELO PREDICTIVO DE LAS MEJORES LIGAS DE FUTBOL</strong></font></h1>\n",
        "\n",
        "<h1 ><font color='#F2ECAD'><strong>MODELO PREDICTIVO DE LAS MEJORES LIGAS DE FUTBOL</strong></font></h1>\n",
        "\n",
        "<h1 ><font color='#2ca18c'><strong>MODELO PREDICTIVO DE LAS MEJORES LIGAS DE FUTBOL</strong></font></h1>\n",
        "\n",
        "<h1 ><font color=\"#1A3371\"><strong>MODELO PREDICTIVO DE LAS MEJORES LIGAS DE FUTBOL</strong></font></h1>\n",
        "'#c14364',  \n",
        "                \n",
        "\n",
        "\n",
        "\n"
      ],
      "metadata": {
        "id": "3T4LSJK4ynXC"
      }
    },
    {
      "cell_type": "markdown",
      "metadata": {
        "id": "7qjeb2Gz3djj"
      },
      "source": [
        "\n",
        "\n",
        "<center>\n",
        "<img src=\"https://media.ambito.com/p/d92912540da60cadcb52104b87cfdd0f/adjuntos/239/imagenes/040/434/0040434979/messi-copajpg.jpg\" height=\"300\" />\n",
        "</center>\n",
        "\n",
        "\n",
        "\n",
        "<h1 ><font color='#2ca18c'><strong>MODELO PREDICTIVO DE LAS MEJORES LIGAS DE FUTBOL</strong></font></h1>\n",
        "\n",
        "---\n",
        "\n"
      ]
    },
    {
      "cell_type": "markdown",
      "source": [
        "# Table of contents\n",
        "1. [Introduccion](#introduction)\n",
        "  - [Objetivos](#Objetivos)\n",
        "  - [Contexto comercial](#Contexto)\n",
        "2. [Datos obtenidos](#Datos)\n",
        "\n",
        "\n",
        "4. [Limpieza del dataset](#Limpieza)\n",
        "5. [Analisis exploratorio](#Analisis)\n",
        "6. [Ingenieria de datos](#Ingenieria)\n",
        "7. [Modelado](#Modelado)\n",
        "8. [Utilizacion API](#API)\n",
        "9. [Conclusiones](#Conclusiones)\n",
        "\n",
        "\n",
        "---\n",
        "\n",
        "\n"
      ],
      "metadata": {
        "id": "_VCIIbopzg_E"
      }
    },
    {
      "cell_type": "markdown",
      "source": [
        "\n",
        "## <font color='#2ca18c'>1 - INTRODUCCION</font> <a name=\"introduction\"></a>\n",
        "\n",
        "> Lorem ipsum dolor sit amet, consectetur adipiscing elit, sed do eiusmod tempor incididunt ut labore et dolore magna aliqua. Ut enim ad minim veniam, quis nostrud exercitation ullamco laboris nisi ut aliquip ex e\n",
        "a commodo consequat. Duis aute irure dolor in reprehenderit in voluptate velit esse cillum dolore eu fugiat nulla pariatur. Excepteur sint occaecat cupidatat non proident, sunt in culpa qui officia deserunt mollit anim id est laborum.\n",
        "\n"
      ],
      "metadata": {
        "id": "PdIJb5NiuuXw"
      }
    },
    {
      "cell_type": "markdown",
      "metadata": {
        "id": "4p0ueh2Nvhbh"
      },
      "source": [
        "\n",
        "\n",
        "\n",
        "### <font color='#2ca18c'>OBJETIVOS</font><a name=\"Objetivos\"></a>\n",
        "\n",
        "\n",
        "\n",
        " > El objetivo del trabajo es poder predecir resultados de partidos, con el fin de poder ayudar a los cuerpos técnicos de los clubes a obtener más información a la hora de plantear los partidos.\n",
        "Algunas de las preguntas que nos queremos responder son:\n",
        "\n",
        "\n",
        "*   ¿El equipo local, gana mucho más que el visitante?\n",
        "*   ¿A medida que avanza el tiempo, es más fácil o más difícil hacer goles? Teniendo en cuenta que se estudia mucho más al rival, su manera de jugar, y se analizan datos estadísticos.\n",
        "\n",
        "\n",
        "*   ¿Todas las ligas disputan la misma cantidad de partidos, es decir los jugadores sufren igual degaste en todas las ligas?\n",
        "*   ¿Se mantienen constante los partidos disputados en las ligas durante todo el año?\n",
        "\n",
        "\n",
        "*   ¿Que liga es la más atractiva para ver fútbol, o sea en cual hay más goles por partido?\n",
        "*   ¿Los jugadores con más goles, son los más reconocidos mundialmente?"
      ]
    },
    {
      "cell_type": "markdown",
      "metadata": {
        "id": "8wCe2GQOiXuZ"
      },
      "source": [
        "\n",
        "\n",
        "### <font color='#2ca18c'>CONTEXTO COMERCIAL</font> <a name=\"Contexto\"></a>\n",
        "\n",
        "> La estadística se está utilizando cada vez más en el ámbito del fútbol. El cuerpo técnico corrobora, en cada partido, los rendimientos que han tenido sus futbolistas particularmente y a los mismos en su conjunto, es decir al equipo. Esto les da una idea de qué aspectos debe corregir para los siguientes compromisos para obtener mejores versiones. \n",
        "Con este trabajo se busca que los cuerpos técnicos tengan una nueva herramienta a la hora de planificar sus partidos, con el fin de obtener resultados positivos. Así tendrán una mayor chance de lograr los objetivos deportivos que se propusieron. \n",
        "#### <font color='#2ca18c'>PROBLEMA COMERCIAL</font> <a name=\"introduction\"></a>\n",
        "\n",
        "> Los stakeholders serían los cuerpos técnicos de los distintos clubes. Lo que se les quisiera mostrar serían predicciones de resultados de los partidos para que ellos tomen medidas en base a los mismos y así beneficiar al equipo.\n",
        "#### <font color='#2ca18c'>CONTEXTO ANALITICO</font> <a name=\"introduction\"></a>\n",
        "\n",
        "> Una casa de apuesta nos contrató debido a que las ganancias que solían tener se están reduciendo con el paso del tiempo. Necesitan volver a la rentabilidad a la cual estaban acostumbrados para mantener su estructura.\n",
        "Para poder predecir los resultados de los partidos se utilizará un modelo de aprendizaje supervisado, ya que con los datos etiquetados con los que contamos se podrá predecir cómo finalizará. Dentro del mismo, estaría dentro de la categoría de clasificación, ya que el modelo permitirá determinar si el equipo gana, pierde o empata.\n",
        "Las variables a tener en cuenta para el mismo será:\n",
        "\n",
        "\n",
        "    * xGoals promedio (Goles esperados)\n",
        "    * xGoals de los últimos 3 partidos\n",
        "    * Localía\n",
        "    * Liga\n",
        "    * Goles convertidos en el torneo\n",
        "\n",
        "> En el proximo video podemos entender mejor que representa la estadistica llamada xGoals\n",
        "\n",
        "\n",
        "\n",
        "\n",
        "\n",
        "\n"
      ]
    },
    {
      "cell_type": "code",
      "source": [
        "#@title\n",
        "%%html\n",
        "<iframe width=\"560\" height=\"315\" src=\"https://www.youtube.com/embed/5flVB9ef0uM\" frameborder=\"0\" allow=\"accelerometer; autoplay; encrypted-media; gyroscope; picture-in-picture\" allowfullscreen></iframe>"
      ],
      "metadata": {
        "cellView": "form",
        "colab": {
          "base_uri": "https://localhost:8080/",
          "height": 336
        },
        "id": "XAs8NDdpWWvJ",
        "outputId": "dddb0f3e-2c17-4586-999f-548bbf51264f"
      },
      "execution_count": 11,
      "outputs": [
        {
          "output_type": "display_data",
          "data": {
            "text/plain": [
              "<IPython.core.display.HTML object>"
            ],
            "text/html": [
              "<iframe width=\"560\" height=\"315\" src=\"https://www.youtube.com/embed/5flVB9ef0uM\" frameborder=\"0\" allow=\"accelerometer; autoplay; encrypted-media; gyroscope; picture-in-picture\" allowfullscreen></iframe>\n"
            ]
          },
          "metadata": {}
        }
      ]
    },
    {
      "cell_type": "markdown",
      "source": [
        "---"
      ],
      "metadata": {
        "id": "7VdfX6sKXQnB"
      }
    },
    {
      "cell_type": "markdown",
      "metadata": {
        "id": "t-33dQby33Od"
      },
      "source": [
        "## <font color='#2ca18c'>2 - DATOS OBTENIDOS</font> <a name=\"Datos\"></a>\n",
        "El dataset escogido es relacionado al fútbol. Tiene una muy completa información desde el 2014 hasta el 2020.\n",
        "El mismo se encuentra dividido en 7 partes.\n",
        "En el dataset \"appearences\" se hallan estadísticas de cada futbolista en cada aparición en un partido. Tales como goles, disparos, asistencias, posición, tarjeta amarilla, tarjeta roja, cuánto tiempo jugó, si lo sustituyeron.\n",
        "El dataset \"games\" refiere a estadísticas relacionadas con los partidos disputados en dicho rango de tiempo. En el mismo se encuentra, como lo más sobresaliente, la temporada, el día y la hora en el que se disputó el encuentro, qué equipos lo hicieron, los goles convertidos por parte de cada uno.\n",
        "El dataset \"leagues\" refiere a las 5 ligas más importantes del mundo, de las cuales se obtuvieron la información. Estas son la española, la inglesa, la italiana, la alemana y la francesa.\n",
        "El dataset \"players\" es acerca de todos los jugadores que disputaron partidos en dicho periodo de tiempo y en dichas ligas.\n",
        "El dataset \"shots\" es sobre los disparos efectuados por los jugadores en los partidos, en qué minuto de juego, en qué situación de juego, con qué parte del cuerpo y el resultado de ese remate, entre otras.\n",
        "El dataset \"teams\" se refiere a los equipos que disputaron los partidos en las ligas y periodo mencionados anteriormente.\n",
        "El dataset \"teamstats\" es acerca de las estadísticas de cada equipo en cada partido, tales como el año que se disputó, el día y la hora, en qué condición lo hizo, la cantidad de goles que realizó y le concedieron, los disparos, las faltas, los corners, las tarjetas amarillas y rojas.\n",
        "\n",
        "\n",
        "\n",
        "\n",
        "\n",
        "\n",
        "\n",
        "\n",
        "\n",
        "\n",
        "\n"
      ]
    },
    {
      "cell_type": "markdown",
      "source": [
        "## <font color='#2ca18c'>3 - LIMPIEZA DEL DATASET</font> <a name=\"Limpieza\"></a>"
      ],
      "metadata": {
        "id": "Rpk7J6uZw_0m"
      }
    },
    {
      "cell_type": "markdown",
      "source": [
        "> Importamos los paquetes necesarios para realizar la limpieza de los datasets y tambien leemos los datasets con el link de GITHUB"
      ],
      "metadata": {
        "id": "CMCJtez2xX9G"
      }
    },
    {
      "cell_type": "code",
      "execution_count": 12,
      "metadata": {
        "id": "mBf4OyDwVT9l"
      },
      "outputs": [],
      "source": [
        "import pandas as pd\n",
        "import numpy as np \n",
        "\n",
        "\n",
        "#df_games = pd.read_csv(\"df_game_new.csv\")\n",
        "#df_teams = pd.read_csv(\"df_teams_new.csv\")\n",
        "#df_appearances = pd.read_csv(\"df_appearances_new.csv\")\n",
        "#df_players = pd.read_csv(\"df_players_new.csv\")\n",
        "\n",
        "df_games = pd.read_csv(\"https://raw.githubusercontent.com/campeone-pixel/soccer_database/master/df_game_new.csv\")\n",
        "df_teams = pd.read_csv(\"https://raw.githubusercontent.com/campeone-pixel/soccer_database/master/df_teams_new.csv\")\n",
        "df_appearances = pd.read_csv(\"https://raw.githubusercontent.com/campeone-pixel/soccer_database/master/df_appearances_new.csv\")\n",
        "df_players = pd.read_csv(\"https://raw.githubusercontent.com/campeone-pixel/soccer_database/master/df_players_new.csv\")"
      ]
    },
    {
      "cell_type": "markdown",
      "source": [
        "> Eliminamos las columnas repetidas y las que no necesitamos. Luego nos quedamos con las columnas mas importantes"
      ],
      "metadata": {
        "id": "Dfp_CR3nXpoR"
      }
    },
    {
      "cell_type": "code",
      "source": [
        "df_appearances=df_appearances.rename(columns={'playerID_df2':'player_id',\"player_club_id\":'club_id'})\n",
        "df_appearances=df_appearances.drop(columns=['name','pretty_name'], axis=1)\n",
        "\n",
        "df_appearances=df_appearances[['gameID', 'leagueID', 'playerID','appearance_id', 'club_id','player_id', 'goals', 'ownGoals', 'shots', 'xGoals',\n",
        "       'xGoalsChain', 'xGoalsBuildup', 'assists', 'keyPasses', 'xAssists',\n",
        "       'position', 'positionOrder', 'yellowCard', 'redCard', 'time',\n",
        "       'substituteIn', 'substituteOut', 'date',\n",
        "       ]]\n",
        "\n",
        "\n",
        "df_players.rename(columns={'playerID_df2':'player_id'})"
      ],
      "metadata": {
        "colab": {
          "base_uri": "https://localhost:8080/",
          "height": 731
        },
        "id": "qZElpXXEjHIS",
        "outputId": "3a193157-ba08-4eda-8855-b61a6a8a9024"
      },
      "execution_count": 13,
      "outputs": [
        {
          "output_type": "execute_result",
          "data": {
            "text/plain": [
              "      playerID  player_id                name  player_id  \\\n",
              "0            1      82361  Christian Mathenia      82361   \n",
              "1            2       2926       Gyorgy Garics       2926   \n",
              "2            3      88680      Luca Caldirola      88680   \n",
              "3            4      11765          Aytac Sulu      11765   \n",
              "4            5      54846      Fabian Holland      54846   \n",
              "...        ...        ...                 ...        ...   \n",
              "6205      9562     842425        Sacha Delaye     842425   \n",
              "6206      9565     783799        Mathys Saban     783799   \n",
              "6207      9566     654414         Yanis Lhery     654414   \n",
              "6208      9567     894205      Erwan Belhadji     894205   \n",
              "6209      9568     854973      Charles Costes     854973   \n",
              "\n",
              "               pretty_name  club_id  club_pretty_name  current_club_id  \\\n",
              "0       Christian Mathenia        4     1 Fc Nurnberg                4   \n",
              "1            Gyorgy Garics      105   Sv Darmstadt 98              105   \n",
              "2           Luca Caldirola     2919          Ac Monza             2919   \n",
              "3               Aytac Sulu      105   Sv Darmstadt 98              105   \n",
              "4           Fabian Holland      105   Sv Darmstadt 98              105   \n",
              "...                    ...      ...               ...              ...   \n",
              "6205          Sacha Delaye      969   Montpellier Hsc              969   \n",
              "6206          Mathys Saban      618  As Saint Etienne              618   \n",
              "6207           Yanis Lhery      618  As Saint Etienne              618   \n",
              "6208        Erwan Belhadji     2969         Dijon Fco             2969   \n",
              "6209  Charles Elyan Costes     2969         Dijon Fco             2969   \n",
              "\n",
              "     country_of_citizenship country_of_birth  ... height_in_cm  \\\n",
              "0                   Germany          Germany  ...          189   \n",
              "1                   Austria          Hungary  ...            0   \n",
              "2                     Italy            Italy  ...          186   \n",
              "3                   Germany          Germany  ...          183   \n",
              "4                   Germany          Germany  ...          172   \n",
              "...                     ...              ...  ...          ...   \n",
              "6205                 France           France  ...          171   \n",
              "6206                 France           France  ...          177   \n",
              "6207                 France           France  ...            0   \n",
              "6208                 France           France  ...            0   \n",
              "6209                 France              NaN  ...            0   \n",
              "\n",
              "     market_value_in_gbp highest_market_value_in_gbp  \\\n",
              "0               720000.0                   2250000.0   \n",
              "1                    NaN                   2700000.0   \n",
              "2              1000000.0                   4000000.0   \n",
              "3                    NaN                   1800000.0   \n",
              "4               540000.0                    900000.0   \n",
              "...                  ...                         ...   \n",
              "6205            500000.0                    800000.0   \n",
              "6206            270000.0                    360000.0   \n",
              "6207            360000.0                    360000.0   \n",
              "6208            180000.0                    180000.0   \n",
              "6209                 NaN                         NaN   \n",
              "\n",
              "                                 agent_name  contract_expiration_date  \\\n",
              "0                                      ROOF                2024-06-30   \n",
              "1                                       NaN                       NaN   \n",
              "2                           Reset Group Srl                2023-06-30   \n",
              "3                                       NaN                       NaN   \n",
              "4                                       NaN                2024-06-30   \n",
              "...                                     ...                       ...   \n",
              "6205                                    NaN                       NaN   \n",
              "6206                                    NaN                2023-06-30   \n",
              "6207                                    NaN                       NaN   \n",
              "6208  Sport Avenir Management International                2022-06-30   \n",
              "6209                           Carrierefoot                       NaN   \n",
              "\n",
              "      domestic_competition_id         club_name  \\\n",
              "0                          L1     1-fc-nurnberg   \n",
              "1                          L1   sv-darmstadt-98   \n",
              "2                         IT1          ac-monza   \n",
              "3                          L1   sv-darmstadt-98   \n",
              "4                          L1   sv-darmstadt-98   \n",
              "...                       ...               ...   \n",
              "6205                      FR1   montpellier-hsc   \n",
              "6206                      FR1  as-saint-etienne   \n",
              "6207                      FR1  as-saint-etienne   \n",
              "6208                      FR1         dijon-fco   \n",
              "6209                      FR1         dijon-fco   \n",
              "\n",
              "                                              image_url last_season  \\\n",
              "0                                                   NaN        2018   \n",
              "1                                                   NaN        2015   \n",
              "2     https://img.a.transfermarkt.technology/portrai...        2022   \n",
              "3                                                   NaN        2016   \n",
              "4                                                   NaN        2016   \n",
              "...                                                 ...         ...   \n",
              "6205  https://img.a.transfermarkt.technology/portrai...        2022   \n",
              "6206  https://img.a.transfermarkt.technology/portrai...        2021   \n",
              "6207  https://img.a.transfermarkt.technology/portrai...        2021   \n",
              "6208                                                NaN        2020   \n",
              "6209                                                NaN        2020   \n",
              "\n",
              "                                                    url  \n",
              "0     https://www.transfermarkt.co.uk/christian-math...  \n",
              "1     https://www.transfermarkt.co.uk/gyorgy-garics/...  \n",
              "2     https://www.transfermarkt.co.uk/luca-caldirola...  \n",
              "3     https://www.transfermarkt.co.uk/aytac-sulu/pro...  \n",
              "4     https://www.transfermarkt.co.uk/fabian-holland...  \n",
              "...                                                 ...  \n",
              "6205  https://www.transfermarkt.co.uk/sacha-delaye/p...  \n",
              "6206  https://www.transfermarkt.co.uk/mathys-saban/p...  \n",
              "6207  https://www.transfermarkt.co.uk/yanis-lhery/pr...  \n",
              "6208  https://www.transfermarkt.co.uk/erwan-belhadji...  \n",
              "6209  https://www.transfermarkt.co.uk/charles-elyan-...  \n",
              "\n",
              "[6210 rows x 24 columns]"
            ],
            "text/html": [
              "\n",
              "  <div id=\"df-5866565e-8070-479e-85d6-7dfb3935997a\">\n",
              "    <div class=\"colab-df-container\">\n",
              "      <div>\n",
              "<style scoped>\n",
              "    .dataframe tbody tr th:only-of-type {\n",
              "        vertical-align: middle;\n",
              "    }\n",
              "\n",
              "    .dataframe tbody tr th {\n",
              "        vertical-align: top;\n",
              "    }\n",
              "\n",
              "    .dataframe thead th {\n",
              "        text-align: right;\n",
              "    }\n",
              "</style>\n",
              "<table border=\"1\" class=\"dataframe\">\n",
              "  <thead>\n",
              "    <tr style=\"text-align: right;\">\n",
              "      <th></th>\n",
              "      <th>playerID</th>\n",
              "      <th>player_id</th>\n",
              "      <th>name</th>\n",
              "      <th>player_id</th>\n",
              "      <th>pretty_name</th>\n",
              "      <th>club_id</th>\n",
              "      <th>club_pretty_name</th>\n",
              "      <th>current_club_id</th>\n",
              "      <th>country_of_citizenship</th>\n",
              "      <th>country_of_birth</th>\n",
              "      <th>...</th>\n",
              "      <th>height_in_cm</th>\n",
              "      <th>market_value_in_gbp</th>\n",
              "      <th>highest_market_value_in_gbp</th>\n",
              "      <th>agent_name</th>\n",
              "      <th>contract_expiration_date</th>\n",
              "      <th>domestic_competition_id</th>\n",
              "      <th>club_name</th>\n",
              "      <th>image_url</th>\n",
              "      <th>last_season</th>\n",
              "      <th>url</th>\n",
              "    </tr>\n",
              "  </thead>\n",
              "  <tbody>\n",
              "    <tr>\n",
              "      <th>0</th>\n",
              "      <td>1</td>\n",
              "      <td>82361</td>\n",
              "      <td>Christian Mathenia</td>\n",
              "      <td>82361</td>\n",
              "      <td>Christian Mathenia</td>\n",
              "      <td>4</td>\n",
              "      <td>1 Fc Nurnberg</td>\n",
              "      <td>4</td>\n",
              "      <td>Germany</td>\n",
              "      <td>Germany</td>\n",
              "      <td>...</td>\n",
              "      <td>189</td>\n",
              "      <td>720000.0</td>\n",
              "      <td>2250000.0</td>\n",
              "      <td>ROOF</td>\n",
              "      <td>2024-06-30</td>\n",
              "      <td>L1</td>\n",
              "      <td>1-fc-nurnberg</td>\n",
              "      <td>NaN</td>\n",
              "      <td>2018</td>\n",
              "      <td>https://www.transfermarkt.co.uk/christian-math...</td>\n",
              "    </tr>\n",
              "    <tr>\n",
              "      <th>1</th>\n",
              "      <td>2</td>\n",
              "      <td>2926</td>\n",
              "      <td>Gyorgy Garics</td>\n",
              "      <td>2926</td>\n",
              "      <td>Gyorgy Garics</td>\n",
              "      <td>105</td>\n",
              "      <td>Sv Darmstadt 98</td>\n",
              "      <td>105</td>\n",
              "      <td>Austria</td>\n",
              "      <td>Hungary</td>\n",
              "      <td>...</td>\n",
              "      <td>0</td>\n",
              "      <td>NaN</td>\n",
              "      <td>2700000.0</td>\n",
              "      <td>NaN</td>\n",
              "      <td>NaN</td>\n",
              "      <td>L1</td>\n",
              "      <td>sv-darmstadt-98</td>\n",
              "      <td>NaN</td>\n",
              "      <td>2015</td>\n",
              "      <td>https://www.transfermarkt.co.uk/gyorgy-garics/...</td>\n",
              "    </tr>\n",
              "    <tr>\n",
              "      <th>2</th>\n",
              "      <td>3</td>\n",
              "      <td>88680</td>\n",
              "      <td>Luca Caldirola</td>\n",
              "      <td>88680</td>\n",
              "      <td>Luca Caldirola</td>\n",
              "      <td>2919</td>\n",
              "      <td>Ac Monza</td>\n",
              "      <td>2919</td>\n",
              "      <td>Italy</td>\n",
              "      <td>Italy</td>\n",
              "      <td>...</td>\n",
              "      <td>186</td>\n",
              "      <td>1000000.0</td>\n",
              "      <td>4000000.0</td>\n",
              "      <td>Reset Group Srl</td>\n",
              "      <td>2023-06-30</td>\n",
              "      <td>IT1</td>\n",
              "      <td>ac-monza</td>\n",
              "      <td>https://img.a.transfermarkt.technology/portrai...</td>\n",
              "      <td>2022</td>\n",
              "      <td>https://www.transfermarkt.co.uk/luca-caldirola...</td>\n",
              "    </tr>\n",
              "    <tr>\n",
              "      <th>3</th>\n",
              "      <td>4</td>\n",
              "      <td>11765</td>\n",
              "      <td>Aytac Sulu</td>\n",
              "      <td>11765</td>\n",
              "      <td>Aytac Sulu</td>\n",
              "      <td>105</td>\n",
              "      <td>Sv Darmstadt 98</td>\n",
              "      <td>105</td>\n",
              "      <td>Germany</td>\n",
              "      <td>Germany</td>\n",
              "      <td>...</td>\n",
              "      <td>183</td>\n",
              "      <td>NaN</td>\n",
              "      <td>1800000.0</td>\n",
              "      <td>NaN</td>\n",
              "      <td>NaN</td>\n",
              "      <td>L1</td>\n",
              "      <td>sv-darmstadt-98</td>\n",
              "      <td>NaN</td>\n",
              "      <td>2016</td>\n",
              "      <td>https://www.transfermarkt.co.uk/aytac-sulu/pro...</td>\n",
              "    </tr>\n",
              "    <tr>\n",
              "      <th>4</th>\n",
              "      <td>5</td>\n",
              "      <td>54846</td>\n",
              "      <td>Fabian Holland</td>\n",
              "      <td>54846</td>\n",
              "      <td>Fabian Holland</td>\n",
              "      <td>105</td>\n",
              "      <td>Sv Darmstadt 98</td>\n",
              "      <td>105</td>\n",
              "      <td>Germany</td>\n",
              "      <td>Germany</td>\n",
              "      <td>...</td>\n",
              "      <td>172</td>\n",
              "      <td>540000.0</td>\n",
              "      <td>900000.0</td>\n",
              "      <td>NaN</td>\n",
              "      <td>2024-06-30</td>\n",
              "      <td>L1</td>\n",
              "      <td>sv-darmstadt-98</td>\n",
              "      <td>NaN</td>\n",
              "      <td>2016</td>\n",
              "      <td>https://www.transfermarkt.co.uk/fabian-holland...</td>\n",
              "    </tr>\n",
              "    <tr>\n",
              "      <th>...</th>\n",
              "      <td>...</td>\n",
              "      <td>...</td>\n",
              "      <td>...</td>\n",
              "      <td>...</td>\n",
              "      <td>...</td>\n",
              "      <td>...</td>\n",
              "      <td>...</td>\n",
              "      <td>...</td>\n",
              "      <td>...</td>\n",
              "      <td>...</td>\n",
              "      <td>...</td>\n",
              "      <td>...</td>\n",
              "      <td>...</td>\n",
              "      <td>...</td>\n",
              "      <td>...</td>\n",
              "      <td>...</td>\n",
              "      <td>...</td>\n",
              "      <td>...</td>\n",
              "      <td>...</td>\n",
              "      <td>...</td>\n",
              "      <td>...</td>\n",
              "    </tr>\n",
              "    <tr>\n",
              "      <th>6205</th>\n",
              "      <td>9562</td>\n",
              "      <td>842425</td>\n",
              "      <td>Sacha Delaye</td>\n",
              "      <td>842425</td>\n",
              "      <td>Sacha Delaye</td>\n",
              "      <td>969</td>\n",
              "      <td>Montpellier Hsc</td>\n",
              "      <td>969</td>\n",
              "      <td>France</td>\n",
              "      <td>France</td>\n",
              "      <td>...</td>\n",
              "      <td>171</td>\n",
              "      <td>500000.0</td>\n",
              "      <td>800000.0</td>\n",
              "      <td>NaN</td>\n",
              "      <td>NaN</td>\n",
              "      <td>FR1</td>\n",
              "      <td>montpellier-hsc</td>\n",
              "      <td>https://img.a.transfermarkt.technology/portrai...</td>\n",
              "      <td>2022</td>\n",
              "      <td>https://www.transfermarkt.co.uk/sacha-delaye/p...</td>\n",
              "    </tr>\n",
              "    <tr>\n",
              "      <th>6206</th>\n",
              "      <td>9565</td>\n",
              "      <td>783799</td>\n",
              "      <td>Mathys Saban</td>\n",
              "      <td>783799</td>\n",
              "      <td>Mathys Saban</td>\n",
              "      <td>618</td>\n",
              "      <td>As Saint Etienne</td>\n",
              "      <td>618</td>\n",
              "      <td>France</td>\n",
              "      <td>France</td>\n",
              "      <td>...</td>\n",
              "      <td>177</td>\n",
              "      <td>270000.0</td>\n",
              "      <td>360000.0</td>\n",
              "      <td>NaN</td>\n",
              "      <td>2023-06-30</td>\n",
              "      <td>FR1</td>\n",
              "      <td>as-saint-etienne</td>\n",
              "      <td>https://img.a.transfermarkt.technology/portrai...</td>\n",
              "      <td>2021</td>\n",
              "      <td>https://www.transfermarkt.co.uk/mathys-saban/p...</td>\n",
              "    </tr>\n",
              "    <tr>\n",
              "      <th>6207</th>\n",
              "      <td>9566</td>\n",
              "      <td>654414</td>\n",
              "      <td>Yanis Lhery</td>\n",
              "      <td>654414</td>\n",
              "      <td>Yanis Lhery</td>\n",
              "      <td>618</td>\n",
              "      <td>As Saint Etienne</td>\n",
              "      <td>618</td>\n",
              "      <td>France</td>\n",
              "      <td>France</td>\n",
              "      <td>...</td>\n",
              "      <td>0</td>\n",
              "      <td>360000.0</td>\n",
              "      <td>360000.0</td>\n",
              "      <td>NaN</td>\n",
              "      <td>NaN</td>\n",
              "      <td>FR1</td>\n",
              "      <td>as-saint-etienne</td>\n",
              "      <td>https://img.a.transfermarkt.technology/portrai...</td>\n",
              "      <td>2021</td>\n",
              "      <td>https://www.transfermarkt.co.uk/yanis-lhery/pr...</td>\n",
              "    </tr>\n",
              "    <tr>\n",
              "      <th>6208</th>\n",
              "      <td>9567</td>\n",
              "      <td>894205</td>\n",
              "      <td>Erwan Belhadji</td>\n",
              "      <td>894205</td>\n",
              "      <td>Erwan Belhadji</td>\n",
              "      <td>2969</td>\n",
              "      <td>Dijon Fco</td>\n",
              "      <td>2969</td>\n",
              "      <td>France</td>\n",
              "      <td>France</td>\n",
              "      <td>...</td>\n",
              "      <td>0</td>\n",
              "      <td>180000.0</td>\n",
              "      <td>180000.0</td>\n",
              "      <td>Sport Avenir Management International</td>\n",
              "      <td>2022-06-30</td>\n",
              "      <td>FR1</td>\n",
              "      <td>dijon-fco</td>\n",
              "      <td>NaN</td>\n",
              "      <td>2020</td>\n",
              "      <td>https://www.transfermarkt.co.uk/erwan-belhadji...</td>\n",
              "    </tr>\n",
              "    <tr>\n",
              "      <th>6209</th>\n",
              "      <td>9568</td>\n",
              "      <td>854973</td>\n",
              "      <td>Charles Costes</td>\n",
              "      <td>854973</td>\n",
              "      <td>Charles Elyan Costes</td>\n",
              "      <td>2969</td>\n",
              "      <td>Dijon Fco</td>\n",
              "      <td>2969</td>\n",
              "      <td>France</td>\n",
              "      <td>NaN</td>\n",
              "      <td>...</td>\n",
              "      <td>0</td>\n",
              "      <td>NaN</td>\n",
              "      <td>NaN</td>\n",
              "      <td>Carrierefoot</td>\n",
              "      <td>NaN</td>\n",
              "      <td>FR1</td>\n",
              "      <td>dijon-fco</td>\n",
              "      <td>NaN</td>\n",
              "      <td>2020</td>\n",
              "      <td>https://www.transfermarkt.co.uk/charles-elyan-...</td>\n",
              "    </tr>\n",
              "  </tbody>\n",
              "</table>\n",
              "<p>6210 rows × 24 columns</p>\n",
              "</div>\n",
              "      <button class=\"colab-df-convert\" onclick=\"convertToInteractive('df-5866565e-8070-479e-85d6-7dfb3935997a')\"\n",
              "              title=\"Convert this dataframe to an interactive table.\"\n",
              "              style=\"display:none;\">\n",
              "        \n",
              "  <svg xmlns=\"http://www.w3.org/2000/svg\" height=\"24px\"viewBox=\"0 0 24 24\"\n",
              "       width=\"24px\">\n",
              "    <path d=\"M0 0h24v24H0V0z\" fill=\"none\"/>\n",
              "    <path d=\"M18.56 5.44l.94 2.06.94-2.06 2.06-.94-2.06-.94-.94-2.06-.94 2.06-2.06.94zm-11 1L8.5 8.5l.94-2.06 2.06-.94-2.06-.94L8.5 2.5l-.94 2.06-2.06.94zm10 10l.94 2.06.94-2.06 2.06-.94-2.06-.94-.94-2.06-.94 2.06-2.06.94z\"/><path d=\"M17.41 7.96l-1.37-1.37c-.4-.4-.92-.59-1.43-.59-.52 0-1.04.2-1.43.59L10.3 9.45l-7.72 7.72c-.78.78-.78 2.05 0 2.83L4 21.41c.39.39.9.59 1.41.59.51 0 1.02-.2 1.41-.59l7.78-7.78 2.81-2.81c.8-.78.8-2.07 0-2.86zM5.41 20L4 18.59l7.72-7.72 1.47 1.35L5.41 20z\"/>\n",
              "  </svg>\n",
              "      </button>\n",
              "      \n",
              "  <style>\n",
              "    .colab-df-container {\n",
              "      display:flex;\n",
              "      flex-wrap:wrap;\n",
              "      gap: 12px;\n",
              "    }\n",
              "\n",
              "    .colab-df-convert {\n",
              "      background-color: #E8F0FE;\n",
              "      border: none;\n",
              "      border-radius: 50%;\n",
              "      cursor: pointer;\n",
              "      display: none;\n",
              "      fill: #1967D2;\n",
              "      height: 32px;\n",
              "      padding: 0 0 0 0;\n",
              "      width: 32px;\n",
              "    }\n",
              "\n",
              "    .colab-df-convert:hover {\n",
              "      background-color: #E2EBFA;\n",
              "      box-shadow: 0px 1px 2px rgba(60, 64, 67, 0.3), 0px 1px 3px 1px rgba(60, 64, 67, 0.15);\n",
              "      fill: #174EA6;\n",
              "    }\n",
              "\n",
              "    [theme=dark] .colab-df-convert {\n",
              "      background-color: #3B4455;\n",
              "      fill: #D2E3FC;\n",
              "    }\n",
              "\n",
              "    [theme=dark] .colab-df-convert:hover {\n",
              "      background-color: #434B5C;\n",
              "      box-shadow: 0px 1px 3px 1px rgba(0, 0, 0, 0.15);\n",
              "      filter: drop-shadow(0px 1px 2px rgba(0, 0, 0, 0.3));\n",
              "      fill: #FFFFFF;\n",
              "    }\n",
              "  </style>\n",
              "\n",
              "      <script>\n",
              "        const buttonEl =\n",
              "          document.querySelector('#df-5866565e-8070-479e-85d6-7dfb3935997a button.colab-df-convert');\n",
              "        buttonEl.style.display =\n",
              "          google.colab.kernel.accessAllowed ? 'block' : 'none';\n",
              "\n",
              "        async function convertToInteractive(key) {\n",
              "          const element = document.querySelector('#df-5866565e-8070-479e-85d6-7dfb3935997a');\n",
              "          const dataTable =\n",
              "            await google.colab.kernel.invokeFunction('convertToInteractive',\n",
              "                                                     [key], {});\n",
              "          if (!dataTable) return;\n",
              "\n",
              "          const docLinkHtml = 'Like what you see? Visit the ' +\n",
              "            '<a target=\"_blank\" href=https://colab.research.google.com/notebooks/data_table.ipynb>data table notebook</a>'\n",
              "            + ' to learn more about interactive tables.';\n",
              "          element.innerHTML = '';\n",
              "          dataTable['output_type'] = 'display_data';\n",
              "          await google.colab.output.renderOutput(dataTable, element);\n",
              "          const docLink = document.createElement('div');\n",
              "          docLink.innerHTML = docLinkHtml;\n",
              "          element.appendChild(docLink);\n",
              "        }\n",
              "      </script>\n",
              "    </div>\n",
              "  </div>\n",
              "  "
            ]
          },
          "metadata": {},
          "execution_count": 13
        }
      ]
    },
    {
      "cell_type": "markdown",
      "source": [
        "> Revisamos los datasets en busqueda de valores nulos"
      ],
      "metadata": {
        "id": "_1tG--PEYIpa"
      }
    },
    {
      "cell_type": "code",
      "source": [
        "import missingno as msno\n",
        "\n",
        "msno.matrix(df_teams,color=(26 / 255, 51 / 255, 113 / 255))"
      ],
      "metadata": {
        "id": "09i4sJL6asBm",
        "outputId": "39b7065d-f197-42f3-9885-81adf51a5fdd",
        "colab": {
          "base_uri": "https://localhost:8080/",
          "height": 761
        }
      },
      "execution_count": 14,
      "outputs": [
        {
          "output_type": "execute_result",
          "data": {
            "text/plain": [
              "<matplotlib.axes._subplots.AxesSubplot at 0x7f35c7694040>"
            ]
          },
          "metadata": {},
          "execution_count": 14
        },
        {
          "output_type": "display_data",
          "data": {
            "text/plain": [
              "<Figure size 1800x720 with 2 Axes>"
            ],
            "image/png": "[encoded data removed]"
          },
          "metadata": {
            "needs_background": "light"
          }
        }
      ]
    },
    {
      "cell_type": "code",
      "source": [
        "msno.matrix(df_games,color=(26 / 255, 51 / 255, 113 / 255))"
      ],
      "metadata": {
        "id": "t81bZt2abA20",
        "colab": {
          "base_uri": "https://localhost:8080/",
          "height": 610
        },
        "outputId": "007ebbbb-5acd-444a-8a42-dc8b58a5e46a"
      },
      "execution_count": 15,
      "outputs": [
        {
          "output_type": "execute_result",
          "data": {
            "text/plain": [
              "<matplotlib.axes._subplots.AxesSubplot at 0x7f35c7d034c0>"
            ]
          },
          "metadata": {},
          "execution_count": 15
        },
        {
          "output_type": "display_data",
          "data": {
            "text/plain": [
              "<Figure size 1800x720 with 2 Axes>"
            ],
            "image/png": "[encoded data removed]"
          },
          "metadata": {
            "needs_background": "light"
          }
        }
      ]
    },
    {
      "cell_type": "code",
      "source": [
        "msno.matrix(df_players,color=(26 / 255, 51 / 255, 113 / 255))"
      ],
      "metadata": {
        "id": "XHc8DT1CbA-_",
        "colab": {
          "base_uri": "https://localhost:8080/",
          "height": 790
        },
        "outputId": "b09559cd-4e65-4e88-fa52-60bf387c82be"
      },
      "execution_count": 16,
      "outputs": [
        {
          "output_type": "execute_result",
          "data": {
            "text/plain": [
              "<matplotlib.axes._subplots.AxesSubplot at 0x7f35d5211310>"
            ]
          },
          "metadata": {},
          "execution_count": 16
        },
        {
          "output_type": "display_data",
          "data": {
            "text/plain": [
              "<Figure size 1800x720 with 2 Axes>"
            ],
            "image/png": "[encoded data removed]"
          },
          "metadata": {
            "needs_background": "light"
          }
        }
      ]
    },
    {
      "cell_type": "code",
      "source": [
        "msno.matrix(df_appearances,color=(26 / 255, 51 / 255, 113 / 255))"
      ],
      "metadata": {
        "id": "s-Qi67zvbBGY",
        "colab": {
          "base_uri": "https://localhost:8080/",
          "height": 705
        },
        "outputId": "d89cb8b5-95be-4833-98e2-1f70b387727c"
      },
      "execution_count": 17,
      "outputs": [
        {
          "output_type": "execute_result",
          "data": {
            "text/plain": [
              "<matplotlib.axes._subplots.AxesSubplot at 0x7f35d4559cd0>"
            ]
          },
          "metadata": {},
          "execution_count": 17
        },
        {
          "output_type": "display_data",
          "data": {
            "text/plain": [
              "<Figure size 1800x720 with 2 Axes>"
            ],
            "image/png": "[encoded data removed]"
          },
          "metadata": {
            "needs_background": "light"
          }
        }
      ]
    },
    {
      "cell_type": "markdown",
      "source": [
        "> llenamos las celdas con valores nulos con las medianas de cada columna"
      ],
      "metadata": {
        "id": "bWofiCqVj3CF"
      }
    },
    {
      "cell_type": "code",
      "source": [
        "df_games.isna().sum()\n",
        "\n",
        "df_teams[\"total_market_value\"] = df_teams[\"total_market_value\"].fillna(\n",
        "    df_teams[\"total_market_value\"].median()\n",
        ")\n",
        "df_teams[\"average_age\"] = df_teams[\"average_age\"].fillna(\n",
        "    df_teams[\"average_age\"].median()\n",
        ")\n",
        "df_teams[\"foreigners_percentage\"] = df_teams[\"foreigners_percentage\"].fillna(\n",
        "    df_teams[\"foreigners_percentage\"].median()\n",
        ")\n",
        "\n",
        "\n",
        "df_players[\"sub_position\"] = df_players[\"sub_position\"].fillna(\n",
        "    df_players[\"sub_position\"].value_counts().index[0]\n",
        ")\n",
        "df_players[\"foot\"] = df_players[\"foot\"].fillna(\n",
        "    df_players[\"foot\"].value_counts().index[0]\n",
        ")\n",
        "\n",
        "df_players[\"market_value_in_gbp\"] = df_players[\"market_value_in_gbp\"].fillna(\n",
        "    df_players[\"market_value_in_gbp\"].median()\n",
        ")\n",
        "\n",
        "df_players[\"highest_market_value_in_gbp\"] = df_players[\"highest_market_value_in_gbp\"].fillna(\n",
        "    df_players[\"highest_market_value_in_gbp\"].median()\n",
        ")\n",
        "\n",
        "df_players['date_of_birth'].fillna(value=pd.to_datetime('1/1/1985'), inplace=True)\n",
        "\n",
        "df_teams.rename(columns={'name_x':'name'},inplace=True)\n",
        "df_teams.drop(columns=['name_y','url'],inplace=True)\n",
        "\n"
      ],
      "metadata": {
        "id": "T0jH9r9ijHQX"
      },
      "execution_count": 18,
      "outputs": []
    },
    {
      "cell_type": "markdown",
      "source": [
        "## <font color='#2ca18c'>4 - ANALISIS EXPLORATORIO</font> <a name=\"Analisis\"></a>"
      ],
      "metadata": {
        "id": "PvETccqyx8yP"
      }
    },
    {
      "cell_type": "code",
      "source": [
        "import seaborn as sns\n",
        "\n",
        "from cycler import cycler\n",
        "import matplotlib as plt\n",
        "\n",
        "\n",
        "from matplotlib import cycler\n",
        "colors = cycler('color',\n",
        "                ['#c14364',  \n",
        "                 '#ff916b', \n",
        "                 '#F2ECAD',  \n",
        "                 '#2ca18c',\n",
        "                 \"#1A3371\"])\n",
        "plt.rc('axes', facecolor='#E6E6E6', edgecolor='none',\n",
        "       axisbelow=True, grid=True, prop_cycle=colors)\n",
        "plt.rc('grid', color='#2ca18c', linestyle='solid')\n",
        "plt.rc('xtick', direction='out', color='#1A3371')\n",
        "plt.rc('ytick', direction='out', color='#1A3371')\n",
        "plt.rc('patch', edgecolor=\"#1A3371\")\n",
        "plt.rc('lines', linewidth=2)\n",
        "plt.rcParams['font.size'] =  20.0\n",
        "plt.rcParams['axes.formatter.useoffset']= True\n"
      ],
      "metadata": {
        "id": "zXr2Pe_m0kMJ"
      },
      "execution_count": 19,
      "outputs": []
    },
    {
      "cell_type": "markdown",
      "metadata": {
        "id": "kUH4hZKNP9Ke"
      },
      "source": [
        "> **¿El equipo local, gana mucho más que el visitante?**"
      ]
    },
    {
      "cell_type": "code",
      "execution_count": 20,
      "metadata": {
        "id": "ayrQZ2tsp4v-",
        "colab": {
          "base_uri": "https://localhost:8080/",
          "height": 456
        },
        "outputId": "b6abbd44-3c08-4d71-d02c-3453f60b7cc1"
      },
      "outputs": [
        {
          "output_type": "error",
          "ename": "AttributeError",
          "evalue": "ignored",
          "traceback": [
            "\u001b[0;31m---------------------------------------------------------------------------\u001b[0m",
            "\u001b[0;31mAttributeError\u001b[0m                            Traceback (most recent call last)",
            "\u001b[0;32m<ipython-input-20-36e277c413dd>\u001b[0m in \u001b[0;36m<module>\u001b[0;34m\u001b[0m\n\u001b[1;32m      1\u001b[0m \u001b[0mdf_games\u001b[0m\u001b[0;34m.\u001b[0m\u001b[0mgroupby\u001b[0m\u001b[0;34m(\u001b[0m\u001b[0;34m[\u001b[0m\u001b[0;34m'result_home'\u001b[0m\u001b[0;34m]\u001b[0m\u001b[0;34m)\u001b[0m\u001b[0;34m[\u001b[0m\u001b[0;34m'gameID'\u001b[0m\u001b[0;34m]\u001b[0m\u001b[0;34m.\u001b[0m\u001b[0mcount\u001b[0m\u001b[0;34m(\u001b[0m\u001b[0;34m)\u001b[0m\u001b[0;34m.\u001b[0m\u001b[0mplot\u001b[0m\u001b[0;34m(\u001b[0m\u001b[0mkind\u001b[0m \u001b[0;34m=\u001b[0m \u001b[0;34m\"pie\"\u001b[0m\u001b[0;34m,\u001b[0m\u001b[0mautopct\u001b[0m\u001b[0;34m=\u001b[0m\u001b[0;34m'%1.1f%%'\u001b[0m\u001b[0;34m)\u001b[0m\u001b[0;34m.\u001b[0m\u001b[0mset_title\u001b[0m\u001b[0;34m(\u001b[0m\u001b[0;34m'Porcentaje de victorias segun localia'\u001b[0m\u001b[0;34m)\u001b[0m\u001b[0;34m\u001b[0m\u001b[0;34m\u001b[0m\u001b[0m\n\u001b[1;32m      2\u001b[0m \u001b[0;34m\u001b[0m\u001b[0m\n\u001b[0;32m----> 3\u001b[0;31m \u001b[0mplt\u001b[0m\u001b[0;34m.\u001b[0m\u001b[0mshow\u001b[0m\u001b[0;34m(\u001b[0m\u001b[0;34m)\u001b[0m\u001b[0;34m\u001b[0m\u001b[0;34m\u001b[0m\u001b[0m\n\u001b[0m",
            "\u001b[0;31mAttributeError\u001b[0m: module 'matplotlib' has no attribute 'show'"
          ]
        },
        {
          "output_type": "display_data",
          "data": {
            "text/plain": [
              "<Figure size 432x288 with 1 Axes>"
            ],
            "image/png": "[encoded data removed]"
          },
          "metadata": {}
        }
      ],
      "source": [
        "df_games.groupby(['result_home'])['gameID'].count().plot(kind = \"pie\",autopct='%1.1f%%').set_title('Porcentaje de victorias segun localia')\n",
        "\n",
        "plt.show()"
      ]
    },
    {
      "cell_type": "markdown",
      "metadata": {
        "id": "4YJU6mzSQCRb"
      },
      "source": [
        "Como era de esperarse el equipo local resulta más victorioso que el visitante, aunque la diferencia es más acotada de lo que podíamos pensar.\n",
        "L = Derrota del local\n",
        "D = Empate\n",
        "W = Victoria del local"
      ]
    },
    {
      "cell_type": "code",
      "execution_count": null,
      "metadata": {
        "id": "xtCq8m6eG-Jp"
      },
      "outputs": [],
      "source": [
        "\n",
        "\n",
        "df_games[\"goal_diff\"]= abs(df_games[\"homeGoals\"]  - df_games[\"awayGoals\"])\n",
        "\n",
        "df_games[\"diff_labels\"]= df_games['goal_diff'].apply(lambda x: str(x) if x<4 else '4 o mas' )\n",
        "df_games[\"totalGoals\"]= df_games[\"homeGoals\"]  + df_games[\"awayGoals\"]\n",
        "\n",
        "\n",
        "\n"
      ]
    },
    {
      "cell_type": "markdown",
      "source": [],
      "metadata": {
        "id": "s7YVsGlYrNHR"
      }
    },
    {
      "cell_type": "markdown",
      "source": [],
      "metadata": {
        "id": "8VvdKjbEs5av"
      }
    },
    {
      "cell_type": "code",
      "source": [
        "\n",
        "df_games.groupby(['season'])['totalGoals'].sum().plot()\n",
        "plt.show()"
      ],
      "metadata": {
        "id": "iKzlObbQm9qT"
      },
      "execution_count": null,
      "outputs": []
    },
    {
      "cell_type": "markdown",
      "metadata": {
        "id": "P-fmPEvfQxlP"
      },
      "source": [
        "Como puede apreciarse en el gráfico, no existe una relación sobre la hipótesis planteada, ya que si bien parecía que la tendencia después del año 2016 era decreciente hasta el año 2019, en el año 2020 se revirtió y casi igualó la cúspide alcanzada en el año 2016 del rango de tiempo analizado."
      ]
    },
    {
      "cell_type": "markdown",
      "metadata": {
        "id": "Hi-OelzvR2VB"
      },
      "source": [
        "**¿Todas las ligas disputan la misma cantidad de partidos, es decir los jugadores sufren igual degaste en todas las ligas?**"
      ]
    },
    {
      "cell_type": "markdown",
      "metadata": {
        "id": "nKhecAAcu4J-"
      },
      "source": [
        "**¿Que liga es la más atractiva para ver fútbol, o sea en cual hay más goles por partido?**"
      ]
    },
    {
      "cell_type": "code",
      "execution_count": null,
      "metadata": {
        "id": "bG9vF4SXreSv"
      },
      "outputs": [],
      "source": [
        "df_games['month'] = pd.DatetimeIndex(df_games['date']).month\n",
        "\n",
        "\n",
        "df_f_game_seriea=df_games.loc[df_games['liga']==\"Serie A\"]\n",
        "df_f_game_laliga=df_games.loc[df_games['liga']==\"La Liga\"]\n",
        "df_f_game_premier=df_games.loc[df_games['liga']==\"Premier League\"]\n",
        "df_f_game_bundesliga=df_games.loc[df_games['liga']==\"Bundesliga\"]\n",
        "df_f_game_ligue1=df_games.loc[df_games['liga']==\"Ligue 1\"]\n",
        "\n",
        "x_seriea=df_f_game_seriea.groupby(['diff_labels'])['gameID']\n",
        "x_laliga=df_f_game_laliga.groupby(['diff_labels'])['gameID']\n",
        "x_premier=df_f_game_premier.groupby(['diff_labels'])['gameID']\n",
        "x_bundesliga=df_f_game_bundesliga.groupby(['diff_labels'])['gameID']\n",
        "x_ligue1=df_f_game_ligue1.groupby(['diff_labels'])['gameID']\n",
        "\n",
        "\n",
        "fig, ax = plt.subplots(3, 2, figsize=(15, 15))\n",
        "autopct='%.1f%%'\n",
        "wedgeprops={'linewidth': 3.0, 'edgecolor': 'white'}\n",
        "textprops={'size': 'x-large'}\n",
        "ax[0,0].pie(x_seriea.count(),labels= x_seriea.groups.keys(), autopct=autopct,wedgeprops=wedgeprops,\n",
        "    textprops=textprops)\n",
        "ax[0,1].pie(x_laliga.count(),labels= x_laliga.groups.keys(), autopct=autopct,wedgeprops=wedgeprops,\n",
        "    textprops=textprops)\n",
        "ax[1,0].pie(x_premier.count(),labels= x_premier.groups.keys(), autopct=autopct,wedgeprops=wedgeprops,\n",
        "    textprops=textprops)\n",
        "ax[1,1].pie(x_bundesliga.count(),labels= x_bundesliga.groups.keys(), autopct=autopct,wedgeprops=wedgeprops,\n",
        "    textprops=textprops)\n",
        "ax[2,0].pie(x_ligue1.count(),labels= x_ligue1.groups.keys(), autopct=autopct,wedgeprops=wedgeprops,\n",
        "    textprops=textprops)\n",
        "ax[0,0].set_title('Serie A')\n",
        "ax[0,1].set_title('La Liga')\n",
        "ax[1,0].set_title('Premier League')\n",
        "ax[1,1].set_title('Bundesliga')\n",
        "ax[2,0].set_title('Ligue 1')\n",
        "plt.show()"
      ]
    },
    {
      "cell_type": "markdown",
      "metadata": {
        "id": "7cwKxB6uu9e8"
      },
      "source": [
        "Como se puede visualizar en los gráficos, la Bundesliga y la Premier League son las más atractiva, debido a que son las que tienen el porcentaje más alto de varios goles por partido. También son las que tienen el menor porcentaje de 0 goles por partido."
      ]
    },
    {
      "cell_type": "code",
      "execution_count": null,
      "metadata": {
        "id": "AD6KvbBKtXk9"
      },
      "outputs": [],
      "source": [
        "\n",
        "df_games.groupby(['liga','season'])['gameID'].count().plot(kind='bar', color=\"#c14364\").set_title(\"Cantidad partidos por liga/season\")\n",
        "plt.show()"
      ]
    },
    {
      "cell_type": "markdown",
      "metadata": {
        "id": "_x7CAsfoSAbA"
      },
      "source": [
        "Como conclusión se puede obtener que los jugadores que juegan en la liga alemana (Bundesliga) sufren un menor desgaste que los que disputan las demás ligas, ya que tienen una gran diferencia de partidos jugados por año."
      ]
    },
    {
      "cell_type": "markdown",
      "metadata": {
        "id": "zfghhkEpeaey"
      },
      "source": [
        "**¿Se mantienen constante los partidos disputados en las ligas durante todo el año?**\n",
        "\n"
      ]
    },
    {
      "cell_type": "code",
      "execution_count": null,
      "metadata": {
        "id": "qv_GoKIMJUXQ"
      },
      "outputs": [],
      "source": [
        "\n",
        "\n",
        "figure, axis = plt.subplots(3, 2, figsize=(10, 10), constrained_layout = True)\n",
        "\n",
        "sns.histplot(data=df_f_game_seriea, x=\"month\",  color=\"#c14364\",shrink=.8, alpha=.4, legend=False,ax=axis[0,0]).set_title(\"Serie A\")\n",
        "sns.histplot(data=df_f_game_laliga, x=\"month\",  color=\"#c14364\",shrink=.8, alpha=.5, legend=False,ax=axis[0,1]).set_title(\"La Liga\")\n",
        "sns.histplot(data=df_f_game_premier, x=\"month\",  color=\"#c14364\",shrink=.8, alpha=.6, legend=False,ax=axis[1,0]).set_title(\"Premier League\")\n",
        "sns.histplot(data=df_f_game_bundesliga, x=\"month\",  color=\"#c14364\",shrink=.8, alpha=.7, legend=False,ax=axis[1,1]).set_title(\"Bundesliga\")\n",
        "sns.histplot(data=df_f_game_ligue1, x=\"month\",  color=\"#c14364\",shrink=.8, alpha=.8, legend=False,ax=axis[2,0]).set_title(\"Ligue 1\")\n",
        "\n"
      ]
    },
    {
      "cell_type": "markdown",
      "metadata": {
        "id": "STsTDRcwtrKj"
      },
      "source": [
        "Se puede comprobar que en promedio hay una cantidad de 250 y 300 partidos por mes. A su vez, se refleja una merma en la cantidad de los mismos entre los meses de junio a agosto, debido al receso existente entre el fin de la temporada y comienzo de la nueva.\n",
        "Como dato a destacar, se puede visualizar la gran cantidad de partidos que hay en Inglaterra en el mes de diciembre, debido a que existe el Boxing Day, la fecha que se juega siempre en Navidad."
      ]
    },
    {
      "cell_type": "markdown",
      "metadata": {
        "id": "IGLYlSmhv4nv"
      },
      "source": [
        "**¿Los jugadores con más goles, son los más reconocidos mundialmente?**"
      ]
    },
    {
      "cell_type": "code",
      "execution_count": null,
      "metadata": {
        "id": "mX36jESNeOYh"
      },
      "outputs": [],
      "source": [
        "\n",
        "\n",
        "df_p_app= pd.merge(\n",
        "    df_appearances,\n",
        "    df_players,\n",
        "    left_on=[\"playerID\"],\n",
        "    right_on=[\"playerID\"],\n",
        "    how=\"left\",\n",
        ")\n",
        "\n",
        "\n",
        "df_p_app= pd.merge(\n",
        "    df_p_app,\n",
        "    df_games[['gameID','season']],\n",
        "    on='gameID',\n",
        "    how=\"left\",\n",
        ")\n",
        "df_prob_stats= pd.merge(\n",
        "    df_p_app[[\"gameID\",\"goals\",\"playerID\",\"xGoals\",\"xGoalsChain\",\"xGoalsBuildup\",\"xAssists\",'season']],\n",
        "    df_players[['name',\"playerID\"]],\n",
        "    left_on=[\"playerID\"],\n",
        "    right_on=[\"playerID\"],\n",
        "    how=\"left\",\n",
        ")\n",
        "\n",
        "df_prob_stats= df_prob_stats[['gameID','season','name', 'playerID', 'goals', 'xGoals', 'xGoalsChain', 'xGoalsBuildup',\n",
        "       'xAssists' ]]\n",
        "\n",
        "\n"
      ]
    },
    {
      "cell_type": "code",
      "execution_count": null,
      "metadata": {
        "id": "CRJpV9FOy-SI"
      },
      "outputs": [],
      "source": [
        "grouped_goal_total=df_prob_stats.groupby([\"name\"],as_index=False)[\"goals\"].sum()\n",
        "\n",
        "mas_de_100=grouped_goal_total.loc[grouped_goal_total['goals']>100]\n",
        "mas_de_100.sort_values(by='goals',inplace=True )\n",
        "\n",
        "fig, ax = plt.subplots(figsize=(15, 15))\n",
        "ax.barh(list(mas_de_100[\"name\"])  ,  list(mas_de_100['goals'])  )\n",
        "\n",
        "df_filtered=df_prob_stats[df_prob_stats['name'].isin(mas_de_100['name'])]\n",
        "df_filtered=df_filtered.groupby([\"name\",'season'],as_index=False)[\"goals\"].sum()\n",
        "df_filtered.sort_values(by=['season',\"name\"],inplace=True)"
      ]
    },
    {
      "cell_type": "markdown",
      "metadata": {
        "id": "Co_PgopDwD1f"
      },
      "source": [
        "Como puede comprobarse en el gráfico precendete, tanto Lionel Messi como Cristiano Ronaldo, las máximas figuras de los últimos años, lideran la tabla de artilleros del periodo analizado, superando los 200 goles a nivel clubes."
      ]
    },
    {
      "cell_type": "code",
      "execution_count": null,
      "metadata": {
        "id": "z8koaNsFy-SI"
      },
      "outputs": [],
      "source": [
        "fig1, ax1 = plt.subplots()\n",
        "\n",
        "ax1.plot(df_filtered[df_filtered['name'].str.contains(\"Messi\")].season,   df_filtered[df_filtered['name'].str.contains(\"Messi\")].goals, label=df_filtered[df_filtered['name'].str.contains(\"Messi\")].name)"
      ]
    },
    {
      "cell_type": "markdown",
      "metadata": {
        "id": "O_TdrFlswat6"
      },
      "source": [
        "En este último gráfico se puede observar como fue variando los goles de Lionel Messi a lo largo del periodo de tiempo en cuestión. Después de una espectacular temporada en el 2014, su rendimiento mermó, lógicamente por una cuestión natural como es la edad."
      ]
    },
    {
      "cell_type": "markdown",
      "source": [
        "## <font color='#2ca18c'>4 - INGENIERIA DE DATOS</font> <a name=\"Ingenieria\"></a>"
      ],
      "metadata": {
        "id": "9D7O6ywey7tP"
      }
    },
    {
      "cell_type": "markdown",
      "metadata": {
        "id": "GIaoTPut7PVv"
      },
      "source": [
        "Analizamos xGoals"
      ]
    },
    {
      "cell_type": "markdown",
      "metadata": {
        "id": "n1d1U3Sf7bCI"
      },
      "source": [
        "Agrupamos los equipos por localía y tomamos los xGoals en esa condición (local o visitante)."
      ]
    },
    {
      "cell_type": "code",
      "execution_count": null,
      "metadata": {
        "id": "Kgl6hKPpIYSg"
      },
      "outputs": [],
      "source": [
        "prom_home_xgoal=df_games.groupby(['homeTeamID'],as_index=False)\n",
        "prom_away_xgoal=df_games.groupby(['awayTeamID'],as_index=False)\n",
        "prom_home_xgoal=prom_home_xgoal['xGoals_home'].mean().sort_values(by=\"xGoals_home\",ascending=False)\n",
        "prom_away_xgoal=prom_away_xgoal['xGoals_away'].mean().sort_values(by=\"xGoals_away\",ascending=False)\n",
        "\n",
        "#se mergea con el dataset principal\n",
        "\n",
        "df_games=pd.merge(df_games,prom_home_xgoal,   \n",
        "    \n",
        "    \n",
        "    left_on=\"homeTeamID\",\n",
        "    right_on=\"homeTeamID\",\n",
        "    suffixes=(\"\", \"_prom\")\n",
        "  )\n",
        "\n",
        "\n",
        "df_games=pd.merge(df_games,prom_away_xgoal,   \n",
        "    \n",
        "    \n",
        "    left_on=\"awayTeamID\",\n",
        "    right_on=\"awayTeamID\",\n",
        "    suffixes=(\"\", \"_prom\")\n",
        "  )\n",
        "df_games\n",
        "\n",
        "\n",
        "df_games[\"xgoal_diff\"]= df_games[\"xGoals_home_prom\"]  - df_games[\"xGoals_away_prom\"]\n",
        "\n",
        "\n",
        "\n",
        "\n",
        "\n",
        "\n"
      ]
    },
    {
      "cell_type": "code",
      "execution_count": null,
      "metadata": {
        "id": "tSNHj5Q67yRa"
      },
      "outputs": [],
      "source": [
        "\n",
        "figbi, axesbi = plt.subplots(1, 2, figsize=(20, 5))\n",
        "sns.boxplot(x=df_games.result_away, y=df_games.xgoal_diff, data=df_games,ax=axesbi[0])\n",
        "sns.boxplot(x=df_games.result_home, y=df_games.xgoal_diff, data=df_games,ax=axesbi[1])\n",
        "\n",
        "\n"
      ]
    },
    {
      "cell_type": "code",
      "source": [
        "\n",
        "\n",
        "fig, axs = plt.subplots(3, 1,\n",
        "                        figsize =(10, 15),\n",
        "                        tight_layout = True)\n",
        " \n",
        "axs[0].hist(df_games['xgoal_diff'].loc[ (df_games['result_home'] == \"L\")], bins = 50)\n",
        "axs[1].hist(df_games['xgoal_diff'].loc[ (df_games['result_home'] == \"W\")], bins = 50)\n",
        "axs[2].hist(df_games['xgoal_diff'].loc[ (df_games['result_home'] == \"D\")], bins = 50)\n",
        "\n",
        "plt.show()"
      ],
      "metadata": {
        "id": "VjcU1beNspA7"
      },
      "execution_count": null,
      "outputs": []
    },
    {
      "cell_type": "markdown",
      "metadata": {
        "id": "xrJ5DfA888Tf"
      },
      "source": [
        "En el gráfico que precede se puede observar cómo cambia el resultado según la condición de localía. Si se juega de visitante, se necesita una mayor diferencia de xGoals para ganar que si se juega de local.\n",
        "También se observan varios outliers que en el siguiente paso los vamos a eliminar."
      ]
    },
    {
      "cell_type": "code",
      "execution_count": null,
      "metadata": {
        "id": "nYc-2umC8WX2"
      },
      "outputs": [],
      "source": [
        "figbi, axesbi = plt.subplots( figsize=(10, 10))\n",
        "sns.scatterplot(x=df_games.xGoals_home_prom, y=df_games.xGoals_away_prom, hue=df_games.result_home)\n"
      ]
    },
    {
      "cell_type": "markdown",
      "metadata": {
        "id": "SPi2O6ph8H-s"
      },
      "source": [
        "Se puede concluir que a mayor xGoals, hay más chances que el equipo gane el partido.\n",
        "Es interesante notar que el equipo local tiene menos probabilidades de perder cuando su rival le lleva una mayor diferencia de xGoals."
      ]
    },
    {
      "cell_type": "code",
      "execution_count": null,
      "metadata": {
        "id": "zM6NrABELcId"
      },
      "outputs": [],
      "source": [
        "\n",
        "\n",
        "\n",
        "Q1_w =  df_games['xgoal_diff'].loc[ (df_games['result_home'] == \"W\")].quantile(0.25)\n",
        "Q3_w = df_games['xgoal_diff'].loc[ (df_games['result_home'] == \"W\")].quantile(0.75)\n",
        "\n",
        "IQR_w = Q3_w - Q1_w\n",
        "\n",
        "Higher_outlier_w = Q3_w + (IQR_w * 1.5)\n",
        "lower_outlier_w = Q1_w - (IQR_w * 1.5)\n",
        "\n",
        "Q1_l =  df_games['xgoal_diff'].loc[ (df_games['result_home'] == \"L\")].quantile(0.25)\n",
        "Q3_l = df_games['xgoal_diff'].loc[ (df_games['result_home'] == \"L\")].quantile(0.75)\n",
        "\n",
        "IQR_l = Q3_l - Q1_l\n",
        "Higher_outlier_l = Q3_l + (IQR_l * 1.5)\n",
        "lower_outlier_l = Q1_l - (IQR_l * 1.5)\n",
        "\n",
        "Q1_d =  df_games['xgoal_diff'].loc[ (df_games['result_home'] == \"D\")].quantile(0.25)\n",
        "Q3_d = df_games['xgoal_diff'].loc[ (df_games['result_home'] == \"D\")].quantile(0.75)\n",
        "\n",
        "IQR_d = Q3_d - Q1_d\n",
        "Higher_outlier_d = Q3_d + (IQR_d * 1.5)\n",
        "lower_outlier_d = Q1_d - (IQR_d * 1.5)\n",
        "\n",
        "df_games = df_games[ ~((df_games['result_home'] == \"W\") & ((df_games['xgoal_diff'] > 1.4) | (df_games['xgoal_diff'] < -0.5 )))]\n",
        "df_games = df_games[ ~((df_games['result_home'] == \"L\") & ((df_games['xgoal_diff'] > 0.9) | (df_games['xgoal_diff'] < -0.9 ))) ]\n",
        "df_games = df_games[ ~((df_games['result_home'] == \"D\") & ((df_games['xgoal_diff'] > 1) | (df_games['xgoal_diff'] < -0.5 )))]\n"
      ]
    },
    {
      "cell_type": "code",
      "execution_count": null,
      "metadata": {
        "id": "F-gYfX70LcId"
      },
      "outputs": [],
      "source": [
        "figbi, axesbi = plt.subplots(1, 2, figsize=(20, 5))\n",
        "sns.boxplot(x=df_games.result_away, y=df_games.xgoal_diff, data=df_games,ax=axesbi[0])\n",
        "sns.boxplot(x=df_games.result_home, y=df_games.xgoal_diff, data=df_games,ax=axesbi[1])\n"
      ]
    },
    {
      "cell_type": "code",
      "source": [
        "fig, axs = plt.subplots(3, 1,\n",
        "                        figsize =(10, 15),\n",
        "                        tight_layout = True)\n",
        " \n",
        "axs[0].hist(df_games['xgoal_diff'].loc[ (df_games['result_home'] == \"L\")], bins = 50)\n",
        "axs[1].hist(df_games['xgoal_diff'].loc[ (df_games['result_home'] == \"W\")], bins = 50)\n",
        "axs[2].hist(df_games['xgoal_diff'].loc[ (df_games['result_home'] == \"D\")], bins = 50)\n",
        "\n",
        "plt.show()"
      ],
      "metadata": {
        "id": "Q_9S1yhhtjPP"
      },
      "execution_count": null,
      "outputs": []
    },
    {
      "cell_type": "markdown",
      "metadata": {
        "id": "SBIVmxGDTrUX"
      },
      "source": [
        "\n",
        "\n",
        "\n",
        "\n",
        "Optimización de feature engineering"
      ]
    },
    {
      "cell_type": "code",
      "execution_count": null,
      "metadata": {
        "id": "OvsffDLaCm-V"
      },
      "outputs": [],
      "source": [
        "df_games_df_teams=pd.merge(df_games,df_teams,left_on='homeTeamID',right_on='teamID')\n",
        "df_games_df_teams=pd.merge(df_games_df_teams,df_teams,left_on='awayTeamID',right_on='teamID',suffixes=('_home','_away'))"
      ]
    },
    {
      "cell_type": "code",
      "execution_count": null,
      "metadata": {
        "id": "W5amTaEDCm-W"
      },
      "outputs": [],
      "source": [
        "def whowin(x):\n",
        "  if x=='W':\n",
        "    return 1\n",
        " \n",
        "  else:\n",
        "    return 0"
      ]
    },
    {
      "cell_type": "markdown",
      "metadata": {
        "id": "DFImgr6z0Y1E"
      },
      "source": [
        "**Método para escalar**\n",
        "\n",
        "Standard Scaler"
      ]
    },
    {
      "cell_type": "markdown",
      "metadata": {
        "id": "HVkpE9KlzRd9"
      },
      "source": [
        "Se escaló utilizando el método de standard scaler  en todas las columnas salvo en season."
      ]
    },
    {
      "cell_type": "code",
      "execution_count": null,
      "metadata": {
        "id": "Xml4vEUoTrUP"
      },
      "outputs": [],
      "source": [
        "df_games_df_teams_col=df_games_df_teams[['season','xgoal_diff','B365H',\n",
        "       'B365D', 'B365A']]\n"
      ]
    },
    {
      "cell_type": "code",
      "execution_count": null,
      "metadata": {
        "id": "avK0l3C_Cm-X"
      },
      "outputs": [],
      "source": [
        "from sklearn.preprocessing import StandardScaler\n",
        "df_games_df_teams_sum_season=df_games_df_teams_col[['season']]\n",
        "df_games_df_teams_col_no_season=df_games_df_teams_col[['xgoal_diff','B365H',\n",
        "       'B365D', 'B365A']]\n",
        "datos_escalados=StandardScaler().fit_transform(df_games_df_teams_col_no_season[['xgoal_diff','B365H',\n",
        "       'B365D', 'B365A']])"
      ]
    },
    {
      "cell_type": "code",
      "execution_count": null,
      "metadata": {
        "id": "JlmcBApYTrUP"
      },
      "outputs": [],
      "source": [
        "df1_scaled=pd.DataFrame(datos_escalados,columns=['xgoal_diff','B365H',\n",
        "       'B365D', 'B365A'],index=df_games_df_teams_col_no_season.index)\n",
        "\n",
        "df_games_df_teams_sum=pd.concat([df_games_df_teams_sum_season,df1_scaled], axis=1)\n",
        "\n",
        "\n",
        "df_games_df_teams_sum['all_result']=df_games_df_teams['result_home'].apply(lambda x: whowin(x))\n"
      ]
    },
    {
      "cell_type": "code",
      "execution_count": null,
      "metadata": {
        "id": "5OZx-bgnTrUQ"
      },
      "outputs": [],
      "source": [
        "df_games_df_teams_sum.dropna(inplace=True)"
      ]
    },
    {
      "cell_type": "code",
      "execution_count": null,
      "metadata": {
        "id": "vABajwuRrZ-C"
      },
      "outputs": [],
      "source": [
        "df_games_df_teams_sum.loc[df_games_df_teams_sum.isna().any(axis=1)]"
      ]
    },
    {
      "cell_type": "code",
      "execution_count": null,
      "metadata": {
        "id": "B_Atewc3TrUX"
      },
      "outputs": [],
      "source": [
        "df_roll=df_games_df_teams[['date','gameID','homeTeamID','awayTeamID' ,'xgoal_diff','xGoals_home', 'shots_home', 'shotsOnTarget_home', 'deep_home',\n",
        "       'ppda_home',  'corners_home',\n",
        "       'xGoals_away', 'shots_away',\n",
        "       'shotsOnTarget_away', 'deep_away', 'ppda_away',\n",
        "       'corners_away','result_home']]\n",
        "\n",
        "df_roll['result']=df_roll['result_home'].apply(lambda x: whowin(x))\n",
        "df_roll.drop(columns='result_home',axis=1,inplace=True)\n"
      ]
    },
    {
      "cell_type": "code",
      "execution_count": null,
      "metadata": {
        "id": "EJfczwEZTrUX"
      },
      "outputs": [],
      "source": [
        "def rolling_averages(group,cols,new_cols):\n",
        "    group=group.sort_values('date')\n",
        "    rolling_stats=group[cols].rolling(3,closed='left').mean()\n",
        "    group[new_cols]=rolling_stats\n",
        "    group=group.dropna(subset=new_cols)\n",
        "    return group"
      ]
    },
    {
      "cell_type": "code",
      "execution_count": null,
      "metadata": {
        "id": "l3t5ILE3TrUX"
      },
      "outputs": [],
      "source": [
        "cols_home=['xGoals_home', 'shots_home', 'shotsOnTarget_home', 'deep_home',\n",
        "       'ppda_home',  'corners_home']\n",
        "new_cols_home=[f'{c}_rolling' for c in cols_home]\n"
      ]
    },
    {
      "cell_type": "code",
      "execution_count": null,
      "metadata": {
        "id": "jy7sZG-RTrUX"
      },
      "outputs": [],
      "source": [
        "cols_away=['xGoals_away', 'shots_away',\n",
        "       'shotsOnTarget_away', 'deep_away', 'ppda_away',\n",
        "       'corners_away']\n",
        "new_cols_away=[f'{c}_rolling' for c in cols_away]"
      ]
    },
    {
      "cell_type": "code",
      "execution_count": null,
      "metadata": {
        "id": "4uac0yUATrUY"
      },
      "outputs": [],
      "source": [
        "home_grouped_matches=df_roll.groupby('homeTeamID').apply(lambda x: rolling_averages(x,cols_home,new_cols_home) )\n",
        "away_grouped_matches=df_roll.groupby('awayTeamID').apply(lambda x: rolling_averages(x,cols_away,new_cols_away) )"
      ]
    },
    {
      "cell_type": "code",
      "execution_count": null,
      "metadata": {
        "id": "ZPdFRHWpTrUY"
      },
      "outputs": [],
      "source": [
        "home_grouped_matches=home_grouped_matches.droplevel('homeTeamID')\n",
        "away_grouped_matches=away_grouped_matches.droplevel('awayTeamID')"
      ]
    },
    {
      "cell_type": "code",
      "execution_count": null,
      "metadata": {
        "id": "xKQmnaeyTrUY"
      },
      "outputs": [],
      "source": [
        "home_rolling=home_grouped_matches[['gameID','xGoals_home_rolling', 'shots_home_rolling',\n",
        "       'shotsOnTarget_home_rolling', 'deep_home_rolling', 'ppda_home_rolling',\n",
        "       'corners_home_rolling']]\n",
        "\n",
        "away_rolling=away_grouped_matches[['gameID','xGoals_away_rolling', 'shots_away_rolling',\n",
        "       'shotsOnTarget_away_rolling', 'deep_away_rolling', 'ppda_away_rolling',\n",
        "       'corners_away_rolling']]\n",
        "\n",
        "home_away=pd.merge(home_rolling,away_rolling)\n",
        "df_roll=pd.merge(df_roll,home_away)\n"
      ]
    },
    {
      "cell_type": "code",
      "execution_count": null,
      "metadata": {
        "id": "Iz4Y5GKDTrUY"
      },
      "outputs": [],
      "source": [
        "df_roll=df_roll[['date', 'xgoal_diff',\n",
        "       'xGoals_home_rolling', 'shots_home_rolling',\n",
        "       'shotsOnTarget_home_rolling', 'deep_home_rolling', 'ppda_home_rolling',\n",
        "       'corners_home_rolling', 'xGoals_away_rolling', 'shots_away_rolling',\n",
        "       'shotsOnTarget_away_rolling', 'deep_away_rolling', 'ppda_away_rolling',\n",
        "       'corners_away_rolling','result']]\n",
        "\n",
        "df_roll['date']=pd.to_datetime(df_roll['date'])\n",
        "df_roll['date']=pd.to_datetime(df_roll['date'].dt.date)\n",
        "df_roll.sort_values(by='date',inplace=True)\n"
      ]
    },
    {
      "cell_type": "markdown",
      "source": [
        "Diagrama de correlaciones de variables numéricas"
      ],
      "metadata": {
        "id": "aTaxAIwlY6mM"
      }
    },
    {
      "cell_type": "code",
      "execution_count": null,
      "metadata": {
        "id": "RcrJl3L9TrUY"
      },
      "outputs": [],
      "source": [
        "x = df_roll.loc[:, df_roll.columns != 'result']\n",
        "y = df_roll.loc[:, df_roll.columns == 'result']\n",
        "x.drop(columns='date',inplace=True)\n",
        "\n",
        "\n",
        "\n",
        "\n"
      ]
    },
    {
      "cell_type": "code",
      "execution_count": null,
      "metadata": {
        "id": "wqIgPdr-TrUY"
      },
      "outputs": [],
      "source": [
        "\n",
        "df_roll_no_date=df_roll.drop(columns=['date','result'],axis=1)\n",
        "corr_df = df_roll_no_date.corr(method='pearson') #method= standard correlation coefficient, hay otros metodos pero este es el mas popular \n",
        "\n",
        "plt.figure(figsize=(20, 20))\n",
        "\n",
        "sns.heatmap(corr_df\n",
        "            ,annot=True\n",
        "            )\n",
        "plt.show()\n"
      ]
    },
    {
      "cell_type": "markdown",
      "source": [
        "## <font color='#2ca18c'>5 - MODELADO </font> <a name=\"Modelado\"></a>"
      ],
      "metadata": {
        "id": "C0frlJ89S6Hg"
      }
    },
    {
      "cell_type": "code",
      "source": [
        "import sklearn.preprocessing \n",
        "\n",
        "from sklearn import metrics\n",
        "from sklearn.metrics import accuracy_score\n",
        "from sklearn.tree import DecisionTreeClassifier  #arbol de decision\n",
        "from sklearn import tree #arbol de decision\n",
        "from sklearn.ensemble import RandomForestClassifier\n",
        "from sklearn.linear_model import LogisticRegression\n",
        "from sklearn.model_selection import train_test_split\n",
        "\n",
        "from sklearn.metrics import confusion_matrix, ConfusionMatrixDisplay"
      ],
      "metadata": {
        "id": "8dLH5yyQnmNs"
      },
      "execution_count": null,
      "outputs": []
    },
    {
      "cell_type": "markdown",
      "metadata": {
        "id": "XuWUSj6MsnOy"
      },
      "source": [
        " Árbol de decisión\n",
        "\n",
        "Se optó por utilizar un árbol de decisión como algoritmo de clasificación para entrenar el modelo con los datos elegidos.\n",
        "Antes de utilizarlo, se decidió asignarle un 1 a las victorias y un 0 a cualquier otro tipo de resultados (empates y derrotas)."
      ]
    },
    {
      "cell_type": "markdown",
      "metadata": {
        "id": "KcAsjGKiuPKf"
      },
      "source": [
        "Se utilizó un training set con los datos menores obtenidos al año 2017 inclusive. El test set se realizó con los años posteriores a dicho año."
      ]
    },
    {
      "cell_type": "code",
      "execution_count": null,
      "metadata": {
        "id": "s2jwOzGzCm-Y"
      },
      "outputs": [],
      "source": [
        "test=df_games_df_teams_sum.loc[df_games_df_teams_sum[\"season\"]>2018]\n",
        "train=df_games_df_teams_sum.loc[df_games_df_teams_sum[\"season\"]<=2017]\n",
        "train = train.drop('season',axis= 1)\n",
        "test = test.drop('season',axis= 1)\n",
        "\n",
        "\n",
        "y_train = train['all_result']\n",
        "x_train = train.drop('all_result',axis= 1)\n",
        "\n",
        "y_test = test['all_result']\n",
        "x_test = test.drop('all_result',axis= 1)\n",
        "\n"
      ]
    },
    {
      "cell_type": "code",
      "execution_count": null,
      "metadata": {
        "id": "PodSHqDRTrUQ"
      },
      "outputs": [],
      "source": [
        "from sklearn.ensemble import RandomForestClassifier\n",
        "rf=RandomForestClassifier(n_estimators=50, min_samples_split=10, random_state=1)\n",
        "rf.fit(x_train,y_train)\n",
        "predictions=rf.predict(x_test)\n",
        "from sklearn.metrics import accuracy_score\n",
        "acc=accuracy_score(y_test,predictions)\n",
        "acc "
      ]
    },
    {
      "cell_type": "code",
      "execution_count": null,
      "metadata": {
        "id": "ee5Pn54MPOrL"
      },
      "outputs": [],
      "source": [
        "# ajustar arbol de decisión simple con hiperparametros (defecto)\n",
        "clf = DecisionTreeClassifier(random_state=435)\n",
        "\n",
        "clf.fit(x_train, y_train ) \n",
        "\n",
        "y_pred = clf.predict(x_test)\n",
        "\n",
        "def accuracy_manual(y_test,y_pred):\n",
        "  posicion=0\n",
        "  valores_iguales=0\n",
        "\n",
        "  while posicion<len(y_test):\n",
        "    if y_test[posicion]==y_pred[posicion]:\n",
        "      valores_iguales+=1\n",
        "    posicion+=1\n",
        "\n",
        "  return valores_iguales\n",
        "\n",
        "numero_predicciones_correctas=accuracy_manual(y_test.values, y_pred)\n",
        "\n",
        "numero_total_predicciones=len(y_test)\n",
        "\n",
        "accuracy_score_arbol= numero_predicciones_correctas/numero_total_predicciones\n",
        "\n",
        "print(\"Accuracy:\",accuracy_score_arbol)"
      ]
    },
    {
      "cell_type": "markdown",
      "metadata": {
        "id": "Lq1_c2uFuVmy"
      },
      "source": [
        "Se utilizó la métrica del accuracy para demostrar la eficiencia del método. El mismo es de un 0.64, es decir que las predicciones efectuadas sobre si un equipo gana o no tiene una precisión de un 64%, o sea en la mayor cantidad de los casos acierta."
      ]
    },
    {
      "cell_type": "code",
      "execution_count": null,
      "metadata": {
        "id": "T14MAgjhrbc-"
      },
      "outputs": [],
      "source": [
        "sklearn.metrics.SCORERS.keys() \n",
        "plt.figure(figsize=(10,6))\n",
        "ConfusionMatrixDisplay.from_estimator(clf, x_test, y_test, display_labels=['Negative', 'Positive'])"
      ]
    },
    {
      "cell_type": "markdown",
      "metadata": {
        "id": "L5sSupykusMj"
      },
      "source": [
        "**Precision**"
      ]
    },
    {
      "cell_type": "code",
      "execution_count": null,
      "metadata": {
        "id": "IkKykBPzB_Ky"
      },
      "outputs": [],
      "source": [
        "preds = clf.predict(x_test) \n",
        "\n",
        "precision = metrics.precision_score(y_test, preds)\n",
        "precision"
      ]
    },
    {
      "cell_type": "markdown",
      "metadata": {
        "id": "Qoy_UwkYuwUo"
      },
      "source": [
        "**Recall**"
      ]
    },
    {
      "cell_type": "code",
      "execution_count": null,
      "metadata": {
        "id": "rURgy1J0CB6f"
      },
      "outputs": [],
      "source": [
        "recall = metrics.recall_score(y_test, preds)\n",
        "recall"
      ]
    },
    {
      "cell_type": "markdown",
      "metadata": {
        "id": "iHpKN2x2u2hR"
      },
      "source": [
        "Con la métrica precisión se busca minimizar los falsos positivos y con recall se busca minimizar los falsos negativos. Ambos valores son muy similares, como puede visualizarse."
      ]
    },
    {
      "cell_type": "markdown",
      "metadata": {
        "id": "-TVTdr03u9Tk"
      },
      "source": [
        "**F1**"
      ]
    },
    {
      "cell_type": "code",
      "execution_count": null,
      "metadata": {
        "id": "ojcKUtA1CGbS"
      },
      "outputs": [],
      "source": [
        "f1_score = metrics.f1_score(y_test, preds)\n",
        "f1_score "
      ]
    },
    {
      "cell_type": "markdown",
      "metadata": {
        "id": "UqITZrLhvAB4"
      },
      "source": [
        "Como era de esperarse al no ser valores muy altos de precisión y de recall, el F1 tampoco lo será, ya que su cálculo depende de los parámetros mencionados."
      ]
    },
    {
      "cell_type": "code",
      "execution_count": null,
      "metadata": {
        "id": "MPavSgxnL2kp"
      },
      "outputs": [],
      "source": [
        "preds_train = clf.predict(x_train) "
      ]
    },
    {
      "cell_type": "markdown",
      "metadata": {
        "id": "3fuqULwTvrU3"
      },
      "source": [
        "**Underfitting u Overfitting**"
      ]
    },
    {
      "cell_type": "code",
      "execution_count": null,
      "metadata": {
        "id": "Czf-YzeLHyRL"
      },
      "outputs": [],
      "source": [
        "train_accuracy = metrics.accuracy_score(y_train, preds_train)\n",
        "train_accuracy "
      ]
    },
    {
      "cell_type": "code",
      "execution_count": null,
      "metadata": {
        "id": "2AHNuhnCHyOc"
      },
      "outputs": [],
      "source": [
        "preds_test = clf.predict(x_test) \n",
        "\n",
        "test_accuracy = metrics.accuracy_score(y_test, preds_test)\n",
        "test_accuracy "
      ]
    },
    {
      "cell_type": "markdown",
      "metadata": {
        "id": "62v4ZsmNvzL4"
      },
      "source": [
        "Al evaluar si encuadra dentro de un modelo underfitting-overfitting, se puede concluir que está dentro de esta última categoría, debido a que con los datos del entrenamiento se obtiene una precisión del 100%, pero cuando se tiene en cuenta los datos del test, la misma baja a un 64%, esto da una idea que el modelo se adapta mucho a los datos existentes y no así a los datos nuevos.\n",
        "Para aumentar esta precisión, quizás habría que probar con más modelos o realizar un future engineering más exhaustivo\n"
      ]
    },
    {
      "cell_type": "markdown",
      "source": [
        "\n",
        "\n",
        "Regresión logística"
      ],
      "metadata": {
        "id": "xFSnodhDVM61"
      }
    },
    {
      "cell_type": "markdown",
      "source": [
        "Se analizará el dataset con otro modelo, en este caso regresión logística, para ver si se tiene una precisión mayor.\n",
        "Para el mismo se utilizará los mismos datos del dataset original, pero con la salvedad que se hará un promedio de los datos correspondientes a los últimos 3 partidos."
      ],
      "metadata": {
        "id": "TE-jBtzVVcLe"
      }
    },
    {
      "cell_type": "markdown",
      "source": [
        "Se revisó las distintas correlaciones del nuevo set de datos. Para destacar, se puede visualizar que hay una fuerte relación positiva en shots_on_target con x_goals_home"
      ],
      "metadata": {
        "id": "FKRkxsSMYYGr"
      }
    },
    {
      "cell_type": "markdown",
      "source": [
        "Empezamos a implementar el modelo de regresión logística"
      ],
      "metadata": {
        "id": "i_WGrLTQbLkN"
      }
    },
    {
      "cell_type": "markdown",
      "source": [
        "Usamos el paquete Statmodels para ver la calidad de los datos del modelo que tenemos.\n"
      ],
      "metadata": {
        "id": "1KRYfQJHba4A"
      }
    },
    {
      "cell_type": "code",
      "execution_count": null,
      "metadata": {
        "id": "Y6gtk4MYTrUY"
      },
      "outputs": [],
      "source": [
        "import statsmodels.api as sm\n",
        "logit_model=sm.Logit(y,x)\n",
        "result=logit_model.fit()\n",
        "print(result.summary2())\n"
      ]
    },
    {
      "cell_type": "code",
      "execution_count": null,
      "metadata": {
        "id": "rhfS3ZsFTrUZ"
      },
      "outputs": [],
      "source": [
        "##dropeamos las columnas con un p-value>0.05\n",
        "x=x.drop(columns=['xGoals_home_rolling','corners_home_rolling','shotsOnTarget_away_rolling','deep_away_rolling','corners_away_rolling']) "
      ]
    },
    {
      "cell_type": "code",
      "execution_count": null,
      "metadata": {
        "id": "EUCgClp-TrUZ"
      },
      "outputs": [],
      "source": [
        "from sklearn.linear_model import LogisticRegression\n",
        "from sklearn import metrics\n",
        "x_train, x_test, y_train, y_test = train_test_split(x, y, test_size=0.2, random_state=0)\n",
        "scaler = StandardScaler()\n",
        "x_train = scaler.fit_transform(x_train)\n",
        "x_test = scaler.transform(x_test)\n",
        "logreg = LogisticRegression(max_iter=20000, n_jobs=-1)\n",
        "logreg.fit(x_train, y_train)"
      ]
    },
    {
      "cell_type": "code",
      "execution_count": null,
      "metadata": {
        "id": "P96QhmQQTrUZ"
      },
      "outputs": [],
      "source": [
        "y_pred = logreg.predict(x_test)\n",
        "print('Accuracy con el modelo de regresión logística: {:.2f}'.format(logreg.score(x_test, y_test)))"
      ]
    },
    {
      "cell_type": "markdown",
      "source": [
        "Se puede observar que el accuracy aumenta con el nuevo modelo y un feature engineering más exhaustivo."
      ],
      "metadata": {
        "id": "fuQPpuoovarV"
      }
    },
    {
      "cell_type": "markdown",
      "source": [
        " Matriz de confusión según regresión logística"
      ],
      "metadata": {
        "id": "YzW1v66PvWjw"
      }
    },
    {
      "cell_type": "code",
      "execution_count": null,
      "metadata": {
        "id": "kr3McMb9TrUZ"
      },
      "outputs": [],
      "source": [
        "sklearn.metrics.SCORERS.keys() \n",
        "plt.figure(figsize=(10,6))\n",
        "ConfusionMatrixDisplay.from_estimator(logreg, x_test, y_test, display_labels=['Negative', 'Positive'])"
      ]
    },
    {
      "cell_type": "markdown",
      "source": [
        "Cuadro resumen de métricas "
      ],
      "metadata": {
        "id": "1lnkwA9GsVhY"
      }
    },
    {
      "cell_type": "code",
      "execution_count": null,
      "metadata": {
        "id": "gS45pkTOTrUZ"
      },
      "outputs": [],
      "source": [
        "from sklearn.metrics import classification_report\n",
        "print(classification_report(y_test, y_pred))"
      ]
    },
    {
      "cell_type": "markdown",
      "source": [
        "## <font color='#2ca18c'>8 - UTILIZACION API</font> <a name=\"API\"></a>\n"
      ],
      "metadata": {
        "id": "vXIjpq3x5ued"
      }
    },
    {
      "cell_type": "code",
      "source": [
        "import requests\n",
        "import pandas as pd\n",
        "import json\n",
        "from pandas import json_normalize "
      ],
      "metadata": {
        "id": "2jEHytOy9kjW"
      },
      "execution_count": null,
      "outputs": []
    },
    {
      "cell_type": "code",
      "source": [
        "from google.colab import drive\n",
        "import os\n",
        "drive.mount('/content/gdrive')\n",
        "# Establecer ruta de acceso en drive\n",
        "import os\n",
        "print(os.getcwd())\n",
        "os.chdir(\"/content/gdrive/My Drive\")"
      ],
      "metadata": {
        "id": "iL9vEG1evDfY"
      },
      "execution_count": null,
      "outputs": []
    },
    {
      "cell_type": "markdown",
      "source": [
        "Se creó la Key de la API por seguridad"
      ],
      "metadata": {
        "id": "Tnzq_Fn7z0_L"
      }
    },
    {
      "cell_type": "code",
      "source": [
        "api_txt = \"api_credentials.txt\" #en este archivo guarde solo el string con el api_key\n",
        "file1 = open(api_txt, \"r\")\n",
        "api_key = file1.read() #aca lo guardo en una variable"
      ],
      "metadata": {
        "id": "M4lMGlYsu12F"
      },
      "execution_count": null,
      "outputs": []
    },
    {
      "cell_type": "markdown",
      "source": [
        "La API se obtuvo del marketplace \"Rapidapi\", la cuál ofrece 100 request gratis. La cuenta ya fue dada de baja ya que estaba próximo a llegar al límite gratuito."
      ],
      "metadata": {
        "id": "b3nOuMj80pWM"
      }
    },
    {
      "cell_type": "markdown",
      "source": [
        "Se utilizó un for loop para pasar de JSON a DataFrame en todas las páginas"
      ],
      "metadata": {
        "id": "ZfZT82W6z5Uh"
      }
    },
    {
      "cell_type": "code",
      "source": [
        "df_all_players=pd.DataFrame()\n",
        "for pagina in range(1,30):\n",
        "  url = \"https://api-football-v1.p.rapidapi.com/v3/players\"\n",
        "\n",
        "  querystring = {\"league\":\"39\",\"season\":\"2020\",\"page\":f\"{pagina}\"}\n",
        "\n",
        "  headers = {\n",
        "    \"X-RapidAPI-Key\": api_key,\n",
        "    \"X-RapidAPI-Host\": \"api-football-v1.p.rapidapi.com\"\n",
        "  }\n",
        "\n",
        "  response = requests.request(\"GET\", url, headers=headers, params=querystring)\n",
        "  response_json = response.json()\n",
        "  df1_json=response_json['response']\n",
        "\n",
        "  df_final=pd.DataFrame()\n",
        "  for key in df1_json:\n",
        "      player_data = key['player']\n",
        "      player_stat = key['statistics']\n",
        "      df1=pd.json_normalize(player_data)\n",
        "      \n",
        "      df2=pd.json_normalize(player_stat)\n",
        "      \n",
        "      df=pd.concat([df1, df2], axis=1)\n",
        "      \n",
        "      df_final= df_final.append(df)\n",
        "      \n",
        "  df_all_players=df_all_players.append(df_final)\n"
      ],
      "metadata": {
        "id": "JWqo14sCuMNm"
      },
      "execution_count": null,
      "outputs": []
    },
    {
      "cell_type": "markdown",
      "source": [
        "## <font color='#2ca18c'>9 - CONCLUSIONES</font> <a name=\"API\"></a>"
      ],
      "metadata": {
        "id": "l4ihdF8t4N3G"
      }
    }
  ]
}