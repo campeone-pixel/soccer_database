{
  "cells": [
    {
      "cell_type": "markdown",
      "metadata": {
        "id": "view-in-github",
        "colab_type": "text"
      },
      "source": [
        "<a href=\"https://colab.research.google.com/github/campeone-pixel/soccer_database/blob/master/Poses_Cannoni.ipynb\" target=\"_parent\"><img src=\"https://colab.research.google.com/assets/colab-badge.svg\" alt=\"Open In Colab\"/></a>"
      ]
    },
    {
      "cell_type": "markdown",
      "metadata": {
        "id": "7qjeb2Gz3djj"
      },
      "source": [
        "\n",
        "\n",
        "<center>\n",
        "<img src=\"https://media.ambito.com/p/d92912540da60cadcb52104b87cfdd0f/adjuntos/239/imagenes/040/434/0040434979/messi-copajpg.jpg\" height=\"300\" />\n",
        "</center>\n",
        "\n",
        "\n",
        "\n",
        "<h1 ><font color='#2ca18c'><strong>MODELO PREDICTIVO DE LAS MEJORES LIGAS DE FUTBOL</strong></font></h1>\n",
        "\n",
        "---\n",
        "\n"
      ]
    },
    {
      "cell_type": "markdown",
      "metadata": {
        "id": "_VCIIbopzg_E"
      },
      "source": [
        "# Table of contents\n",
        "1. [Introduccion](#introduction)\n",
        "  - [Objetivos](#Objetivos)\n",
        "  - [Contexto comercial](#Contexto)\n",
        "2. [Datos obtenidos](#Datos)\n",
        "\n",
        "\n",
        "4. [Limpieza del dataset](#Limpieza)\n",
        "5. [Analisis exploratorio](#Analisis)\n",
        "6. [Ingenieria de datos](#Ingenieria)\n",
        "7. [Modelado](#Modelado)\n",
        "8. [Utilizacion API](#API)\n",
        "9. [Conclusiones](#Conclusiones)\n",
        "\n",
        "\n",
        "---\n",
        "\n",
        "\n"
      ]
    },
    {
      "cell_type": "markdown",
      "metadata": {
        "id": "PdIJb5NiuuXw"
      },
      "source": [
        "\n",
        "## <font color='#2ca18c'>1 - INTRODUCCION</font> <a name=\"introduction\"></a>\n",
        "\n",
        "> La ciencia de datos se está utilizando con una mayor frecuencia en gran cantidad de rubros. El fútbol no es una excepción y estos últimos años ha tenido un crecimiento exponencial, ya que es de una gran utilidad para que los cuerpos técnicos y médicos saquen conclusiones. \n",
        "Es muy común ver estadísticas en el entretiempo, final del partido e incluso en medio del mismo, en donde se puede analizar los diferentes rendimientos de los futbolistas.\n",
        "\n"
      ]
    },
    {
      "cell_type": "markdown",
      "metadata": {
        "id": "4p0ueh2Nvhbh"
      },
      "source": [
        "\n",
        "\n",
        "\n",
        "### <font color='#2ca18c'>OBJETIVOS</font><a name=\"Objetivos\"></a>\n",
        "\n",
        "\n",
        "\n",
        " > El objetivo del trabajo es poder predecir resultados de partidos, con el fin de poder ayudar a los cuerpos técnicos de los clubes a obtener más información a la hora de plantear los partidos.\n",
        "Algunas de las preguntas que nos queremos responder son:\n",
        "\n",
        "\n",
        "*   ¿El equipo local, gana mucho más que el visitante?\n",
        "*   ¿A medida que avanza el tiempo, es más fácil o más difícil hacer goles? Teniendo en cuenta que se estudia mucho más al rival, su manera de jugar, y se analizan datos estadísticos.\n",
        "\n",
        "\n",
        "*   ¿Todas las ligas disputan la misma cantidad de partidos, es decir los jugadores sufren igual degaste en todas las ligas?\n",
        "*   ¿Se mantienen constante los partidos disputados en las ligas durante todo el año?\n",
        "\n",
        "\n",
        "*   ¿Que liga es la más atractiva para ver fútbol, o sea en cual hay más goles por partido?\n",
        "*   ¿Los jugadores con más goles, son los más reconocidos mundialmente?"
      ]
    },
    {
      "cell_type": "markdown",
      "metadata": {
        "id": "8wCe2GQOiXuZ"
      },
      "source": [
        "\n",
        "\n",
        "### <font color='#2ca18c'>CONTEXTO COMERCIAL</font> <a name=\"Contexto\"></a>\n",
        "\n",
        "> La estadística se está utilizando cada vez más en el ámbito del fútbol. El cuerpo técnico corrobora, en cada partido, los rendimientos que han tenido sus futbolistas particularmente y a los mismos en su conjunto, es decir al equipo. Esto les da una idea de qué aspectos debe corregir para los siguientes compromisos para obtener mejores versiones. \n",
        "Con este trabajo se busca que los cuerpos técnicos tengan una nueva herramienta a la hora de planificar sus partidos, con el fin de obtener resultados positivos. Así tendrán una mayor chance de lograr los objetivos deportivos que se propusieron. \n",
        "#### <font color='#2ca18c'>PROBLEMA COMERCIAL</font> <a name=\"introduction\"></a>\n",
        "\n",
        "> Los stakeholders serían los cuerpos técnicos de los distintos clubes. Lo que se les quisiera mostrar serían predicciones de resultados de los partidos para que ellos tomen medidas en base a los mismos y así beneficiar al equipo.\n",
        "#### <font color='#2ca18c'>CONTEXTO ANALITICO</font> <a name=\"introduction\"></a>\n",
        "\n",
        "> Una casa de apuesta nos contrató debido a que las ganancias que solían tener se están reduciendo con el paso del tiempo. Necesitan volver a la rentabilidad a la cual estaban acostumbrados para mantener su estructura.\n",
        "Para poder predecir los resultados de los partidos se utilizará un modelo de aprendizaje supervisado, ya que con los datos etiquetados con los que contamos se podrá predecir cómo finalizará. Dentro del mismo, estaría dentro de la categoría de clasificación, ya que el modelo permitirá determinar si el equipo gana, pierde o empata.\n",
        "Las variables a tener en cuenta para el mismo será:\n",
        "\n",
        "\n",
        "    * xGoals promedio (Goles esperados)\n",
        "    * xGoals de los últimos 3 partidos\n",
        "    * Localía\n",
        "    * Liga\n",
        "    * Goles convertidos en el torneo\n",
        "\n",
        "> En el proximo video podemos entender mejor que representa la estadistica llamada xGoals\n",
        "\n",
        "\n",
        "\n",
        "\n",
        "\n",
        "\n"
      ]
    },
    {
      "cell_type": "code",
      "execution_count": 1,
      "metadata": {
        "colab": {
          "base_uri": "https://localhost:8080/",
          "height": 337
        },
        "id": "XAs8NDdpWWvJ",
        "outputId": "3ec9ce22-7772-4603-9e83-cb0a5ab2cb21"
      },
      "outputs": [
        {
          "output_type": "execute_result",
          "data": {
            "text/plain": [
              "<IPython.lib.display.IFrame at 0x7f2d6806d910>"
            ],
            "text/html": [
              "\n",
              "        <iframe\n",
              "            width=\"560\"\n",
              "            height=\"315\"\n",
              "            src=\"https://www.youtube.com/embed/5flVB9ef0uM?frameborder=0&allow=accelerometer%3B+autoplay%3B+encrypted-media%3B+gyroscope%3B+picture-in-picture\"\n",
              "            frameborder=\"0\"\n",
              "            allowfullscreen\n",
              "        ></iframe>\n",
              "        "
            ]
          },
          "metadata": {},
          "execution_count": 1
        }
      ],
      "source": [
        "# #@title\n",
        "# %%html\n",
        "# <iframe width=\"560\" height=\"315\" src=\"https://www.youtube.com/embed/5flVB9ef0uM\" frameborder=\"0\" allow=\"accelerometer; autoplay; encrypted-media; gyroscope; picture-in-picture\" allowfullscreen></iframe>\n",
        "\n",
        "from IPython.display import IFrame\n",
        "IFrame('https://www.youtube.com/embed/5flVB9ef0uM', width=560, height=315,frameborder=\"0\" ,allow=\"accelerometer; autoplay; encrypted-media; gyroscope; picture-in-picture\")"
      ]
    },
    {
      "cell_type": "markdown",
      "metadata": {
        "id": "7VdfX6sKXQnB"
      },
      "source": [
        "---"
      ]
    },
    {
      "cell_type": "markdown",
      "metadata": {
        "id": "t-33dQby33Od"
      },
      "source": [
        "## <font color='#2ca18c'>2 - DATOS OBTENIDOS</font> <a name=\"Datos\"></a>\n",
        "El dataset escogido es relacionado al fútbol. Tiene una muy completa información desde el 2014 hasta el 2020.\n",
        "El mismo se encuentra dividido en 7 partes.\n",
        "En el dataset \"appearences\" se hallan estadísticas de cada futbolista en cada aparición en un partido. Tales como goles, disparos, asistencias, posición, tarjeta amarilla, tarjeta roja, cuánto tiempo jugó, si lo sustituyeron.\n",
        "El dataset \"games\" refiere a estadísticas relacionadas con los partidos disputados en dicho rango de tiempo. En el mismo se encuentra, como lo más sobresaliente, la temporada, el día y la hora en el que se disputó el encuentro, qué equipos lo hicieron, los goles convertidos por parte de cada uno.\n",
        "El dataset \"leagues\" refiere a las 5 ligas más importantes del mundo, de las cuales se obtuvieron la información. Estas son la española, la inglesa, la italiana, la alemana y la francesa.\n",
        "El dataset \"players\" es acerca de todos los jugadores que disputaron partidos en dicho periodo de tiempo y en dichas ligas.\n",
        "El dataset \"shots\" es sobre los disparos efectuados por los jugadores en los partidos, en qué minuto de juego, en qué situación de juego, con qué parte del cuerpo y el resultado de ese remate, entre otras.\n",
        "El dataset \"teams\" se refiere a los equipos que disputaron los partidos en las ligas y periodo mencionados anteriormente.\n",
        "El dataset \"teamstats\" es acerca de las estadísticas de cada equipo en cada partido, tales como el año que se disputó, el día y la hora, en qué condición lo hizo, la cantidad de goles que realizó y le concedieron, los disparos, las faltas, los corners, las tarjetas amarillas y rojas.\n",
        "\n",
        "\n",
        "\n",
        "\n",
        "\n",
        "\n",
        "\n",
        "\n",
        "\n",
        "\n",
        "\n"
      ]
    },
    {
      "cell_type": "markdown",
      "metadata": {
        "id": "Rpk7J6uZw_0m"
      },
      "source": [
        "## <font color='#2ca18c'>3 - LIMPIEZA DEL DATASET</font> <a name=\"Limpieza\"></a>"
      ]
    },
    {
      "cell_type": "markdown",
      "metadata": {
        "id": "CMCJtez2xX9G"
      },
      "source": [
        "> Importamos los paquetes necesarios para realizar la limpieza de los datasets y tambien leemos los datasets con el link de GITHUB"
      ]
    },
    {
      "cell_type": "code",
      "execution_count": 2,
      "metadata": {
        "id": "mBf4OyDwVT9l",
        "outputId": "22c7113c-e360-47be-d79d-b18a505647dc",
        "colab": {
          "base_uri": "https://localhost:8080/"
        }
      },
      "outputs": [
        {
          "output_type": "stream",
          "name": "stdout",
          "text": [
            "Looking in indexes: https://pypi.org/simple, https://us-python.pkg.dev/colab-wheels/public/simple/\n",
            "Collecting git+https://github.com/javadba/mpld3@display_fix\n",
            "  Cloning https://github.com/javadba/mpld3 (to revision display_fix) to /tmp/pip-req-build-nq0tbmw2\n",
            "  Running command git clone --filter=blob:none --quiet https://github.com/javadba/mpld3 /tmp/pip-req-build-nq0tbmw2\n",
            "  Running command git checkout -b display_fix --track origin/display_fix\n",
            "  Switched to a new branch 'display_fix'\n",
            "  Branch 'display_fix' set up to track remote branch 'display_fix' from 'origin'.\n",
            "  Resolved https://github.com/javadba/mpld3 to commit 57ed37dbc4749259b1b46cba8bf28de802972adb\n",
            "  Running command git submodule update --init --recursive -q\n",
            "  Preparing metadata (setup.py) ... \u001b[?25l\u001b[?25hdone\n"
          ]
        }
      ],
      "source": [
        "!python -m pip install \"git+https://github.com/javadba/mpld3@display_fix\"\n",
        "import pandas as pd\n",
        "import numpy as np \n",
        "\n",
        "\n",
        "from pandas_profiling import ProfileReport\n",
        "\n",
        "\n",
        "#df_games = pd.read_csv(\"df_game_new.csv\")\n",
        "#df_teams = pd.read_csv(\"df_teams_new.csv\")\n",
        "#df_appearances = pd.read_csv(\"df_appearances_new.csv\")\n",
        "#df_players = pd.read_csv(\"df_players_new.csv\")\n",
        "\n",
        "df_games = pd.read_csv(\"https://raw.githubusercontent.com/campeone-pixel/soccer_database/master/df_game_new.csv\")\n",
        "df_teams = pd.read_csv(\"https://raw.githubusercontent.com/campeone-pixel/soccer_database/master/df_teams_new.csv\")\n",
        "df_appearances = pd.read_csv(\"https://raw.githubusercontent.com/campeone-pixel/soccer_database/master/df_appearances_new.csv\")\n",
        "df_players = pd.read_csv(\"https://raw.githubusercontent.com/campeone-pixel/soccer_database/master/df_players_new.csv\")"
      ]
    },
    {
      "cell_type": "markdown",
      "metadata": {
        "id": "Dfp_CR3nXpoR"
      },
      "source": [
        "> Eliminamos las columnas repetidas y las que no necesitamos. Luego nos quedamos con las columnas mas importantes"
      ]
    },
    {
      "cell_type": "code",
      "execution_count": 3,
      "metadata": {
        "colab": {
          "base_uri": "https://localhost:8080/",
          "height": 661
        },
        "id": "qZElpXXEjHIS",
        "outputId": "f9f742f6-861b-40f4-ac73-96b62f07c6f1"
      },
      "outputs": [
        {
          "output_type": "execute_result",
          "data": {
            "text/plain": [
              "        gameID  season      date_x  homeTeamID  awayTeamID  homeGoals  \\\n",
              "0         81.0  2015.0  2015-08-08        89.0        82.0        1.0   \n",
              "1         82.0  2015.0  2015-08-08        73.0        71.0        0.0   \n",
              "2         83.0  2015.0  2015-08-08        72.0        90.0        2.0   \n",
              "3         84.0  2015.0  2015-08-08        75.0        77.0        4.0   \n",
              "4         85.0  2015.0  2015-08-08        79.0        78.0        1.0   \n",
              "...        ...     ...         ...         ...         ...        ...   \n",
              "12674  16131.0  2020.0  2021-05-23       168.0       166.0        1.0   \n",
              "12675  16132.0  2020.0  2021-05-23       177.0       176.0        1.0   \n",
              "12676  16133.0  2020.0  2021-05-23       163.0       235.0        2.0   \n",
              "12677  16134.0  2020.0  2021-05-23       175.0       181.0        0.0   \n",
              "12678  16135.0  2020.0  2021-05-23       225.0       179.0        1.0   \n",
              "\n",
              "       awayGoals  xGoals_home  shots_home  shotsOnTarget_home  ...  \\\n",
              "0            0.0     0.627539         9.0                 1.0  ...   \n",
              "1            1.0     0.876106        11.0                 2.0  ...   \n",
              "2            2.0     0.604226        10.0                 5.0  ...   \n",
              "3            2.0     2.568030        19.0                 8.0  ...   \n",
              "4            3.0     1.130760        17.0                 6.0  ...   \n",
              "...          ...          ...         ...                 ...  ...   \n",
              "12674        2.0     1.411190        15.0                 5.0  ...   \n",
              "12675        2.0     1.198190        10.0                 3.0  ...   \n",
              "12676        0.0     1.332690        12.0                 6.0  ...   \n",
              "12677        1.0     1.460500        19.0                 5.0  ...   \n",
              "12678        1.0     0.323960         6.0                 2.0  ...   \n",
              "\n",
              "       shotsOnTarget_away  deep_away  ppda_away corners_away  result_away  \\\n",
              "0                     4.0       10.0     8.2188          2.0            L   \n",
              "1                     3.0        2.0    11.8462          3.0            W   \n",
              "2                     5.0        4.0    17.1579          2.0            D   \n",
              "3                     5.0        6.0     9.5556          3.0            L   \n",
              "4                     7.0       10.0    10.6250          4.0            W   \n",
              "...                   ...        ...        ...          ...          ...   \n",
              "12674                 5.0        3.0     8.3529          5.0            W   \n",
              "12675                 5.0        4.0    27.0000          2.0            W   \n",
              "12676                 2.0        0.0    39.7273          3.0            L   \n",
              "12677                 2.0        3.0    14.7200          3.0            W   \n",
              "12678                 1.0        0.0    15.9524          3.0            D   \n",
              "\n",
              "                 liga          home_name       away_name  home_club_id  \\\n",
              "0      Premier League  Manchester United       Tottenham           985   \n",
              "1      Premier League        Bournemouth     Aston Villa           989   \n",
              "2      Premier League            Everton         Watford            29   \n",
              "3      Premier League          Leicester      Sunderland          1003   \n",
              "4      Premier League            Norwich  Crystal Palace          1123   \n",
              "...               ...                ...             ...           ...   \n",
              "12674         Ligue 1             Nantes     Montpellier           995   \n",
              "12675         Ligue 1              Reims        Bordeaux          1421   \n",
              "12676         Ligue 1             Rennes           Nimes           273   \n",
              "12677         Ligue 1      Saint-Etienne           Dijon           618   \n",
              "12678         Ligue 1         Strasbourg         Lorient           667   \n",
              "\n",
              "       away_club_id  \n",
              "0               148  \n",
              "1               405  \n",
              "2              1010  \n",
              "3               289  \n",
              "4               873  \n",
              "...             ...  \n",
              "12674           969  \n",
              "12675            40  \n",
              "12676          1160  \n",
              "12677          2969  \n",
              "12678          1158  \n",
              "\n",
              "[12679 rows x 26 columns]"
            ],
            "text/html": [
              "\n",
              "  <div id=\"df-24354d1d-0ad5-41d5-8ad6-85eb631472a3\">\n",
              "    <div class=\"colab-df-container\">\n",
              "      <div>\n",
              "<style scoped>\n",
              "    .dataframe tbody tr th:only-of-type {\n",
              "        vertical-align: middle;\n",
              "    }\n",
              "\n",
              "    .dataframe tbody tr th {\n",
              "        vertical-align: top;\n",
              "    }\n",
              "\n",
              "    .dataframe thead th {\n",
              "        text-align: right;\n",
              "    }\n",
              "</style>\n",
              "<table border=\"1\" class=\"dataframe\">\n",
              "  <thead>\n",
              "    <tr style=\"text-align: right;\">\n",
              "      <th></th>\n",
              "      <th>gameID</th>\n",
              "      <th>season</th>\n",
              "      <th>date_x</th>\n",
              "      <th>homeTeamID</th>\n",
              "      <th>awayTeamID</th>\n",
              "      <th>homeGoals</th>\n",
              "      <th>awayGoals</th>\n",
              "      <th>xGoals_home</th>\n",
              "      <th>shots_home</th>\n",
              "      <th>shotsOnTarget_home</th>\n",
              "      <th>...</th>\n",
              "      <th>shotsOnTarget_away</th>\n",
              "      <th>deep_away</th>\n",
              "      <th>ppda_away</th>\n",
              "      <th>corners_away</th>\n",
              "      <th>result_away</th>\n",
              "      <th>liga</th>\n",
              "      <th>home_name</th>\n",
              "      <th>away_name</th>\n",
              "      <th>home_club_id</th>\n",
              "      <th>away_club_id</th>\n",
              "    </tr>\n",
              "  </thead>\n",
              "  <tbody>\n",
              "    <tr>\n",
              "      <th>0</th>\n",
              "      <td>81.0</td>\n",
              "      <td>2015.0</td>\n",
              "      <td>2015-08-08</td>\n",
              "      <td>89.0</td>\n",
              "      <td>82.0</td>\n",
              "      <td>1.0</td>\n",
              "      <td>0.0</td>\n",
              "      <td>0.627539</td>\n",
              "      <td>9.0</td>\n",
              "      <td>1.0</td>\n",
              "      <td>...</td>\n",
              "      <td>4.0</td>\n",
              "      <td>10.0</td>\n",
              "      <td>8.2188</td>\n",
              "      <td>2.0</td>\n",
              "      <td>L</td>\n",
              "      <td>Premier League</td>\n",
              "      <td>Manchester United</td>\n",
              "      <td>Tottenham</td>\n",
              "      <td>985</td>\n",
              "      <td>148</td>\n",
              "    </tr>\n",
              "    <tr>\n",
              "      <th>1</th>\n",
              "      <td>82.0</td>\n",
              "      <td>2015.0</td>\n",
              "      <td>2015-08-08</td>\n",
              "      <td>73.0</td>\n",
              "      <td>71.0</td>\n",
              "      <td>0.0</td>\n",
              "      <td>1.0</td>\n",
              "      <td>0.876106</td>\n",
              "      <td>11.0</td>\n",
              "      <td>2.0</td>\n",
              "      <td>...</td>\n",
              "      <td>3.0</td>\n",
              "      <td>2.0</td>\n",
              "      <td>11.8462</td>\n",
              "      <td>3.0</td>\n",
              "      <td>W</td>\n",
              "      <td>Premier League</td>\n",
              "      <td>Bournemouth</td>\n",
              "      <td>Aston Villa</td>\n",
              "      <td>989</td>\n",
              "      <td>405</td>\n",
              "    </tr>\n",
              "    <tr>\n",
              "      <th>2</th>\n",
              "      <td>83.0</td>\n",
              "      <td>2015.0</td>\n",
              "      <td>2015-08-08</td>\n",
              "      <td>72.0</td>\n",
              "      <td>90.0</td>\n",
              "      <td>2.0</td>\n",
              "      <td>2.0</td>\n",
              "      <td>0.604226</td>\n",
              "      <td>10.0</td>\n",
              "      <td>5.0</td>\n",
              "      <td>...</td>\n",
              "      <td>5.0</td>\n",
              "      <td>4.0</td>\n",
              "      <td>17.1579</td>\n",
              "      <td>2.0</td>\n",
              "      <td>D</td>\n",
              "      <td>Premier League</td>\n",
              "      <td>Everton</td>\n",
              "      <td>Watford</td>\n",
              "      <td>29</td>\n",
              "      <td>1010</td>\n",
              "    </tr>\n",
              "    <tr>\n",
              "      <th>3</th>\n",
              "      <td>84.0</td>\n",
              "      <td>2015.0</td>\n",
              "      <td>2015-08-08</td>\n",
              "      <td>75.0</td>\n",
              "      <td>77.0</td>\n",
              "      <td>4.0</td>\n",
              "      <td>2.0</td>\n",
              "      <td>2.568030</td>\n",
              "      <td>19.0</td>\n",
              "      <td>8.0</td>\n",
              "      <td>...</td>\n",
              "      <td>5.0</td>\n",
              "      <td>6.0</td>\n",
              "      <td>9.5556</td>\n",
              "      <td>3.0</td>\n",
              "      <td>L</td>\n",
              "      <td>Premier League</td>\n",
              "      <td>Leicester</td>\n",
              "      <td>Sunderland</td>\n",
              "      <td>1003</td>\n",
              "      <td>289</td>\n",
              "    </tr>\n",
              "    <tr>\n",
              "      <th>4</th>\n",
              "      <td>85.0</td>\n",
              "      <td>2015.0</td>\n",
              "      <td>2015-08-08</td>\n",
              "      <td>79.0</td>\n",
              "      <td>78.0</td>\n",
              "      <td>1.0</td>\n",
              "      <td>3.0</td>\n",
              "      <td>1.130760</td>\n",
              "      <td>17.0</td>\n",
              "      <td>6.0</td>\n",
              "      <td>...</td>\n",
              "      <td>7.0</td>\n",
              "      <td>10.0</td>\n",
              "      <td>10.6250</td>\n",
              "      <td>4.0</td>\n",
              "      <td>W</td>\n",
              "      <td>Premier League</td>\n",
              "      <td>Norwich</td>\n",
              "      <td>Crystal Palace</td>\n",
              "      <td>1123</td>\n",
              "      <td>873</td>\n",
              "    </tr>\n",
              "    <tr>\n",
              "      <th>...</th>\n",
              "      <td>...</td>\n",
              "      <td>...</td>\n",
              "      <td>...</td>\n",
              "      <td>...</td>\n",
              "      <td>...</td>\n",
              "      <td>...</td>\n",
              "      <td>...</td>\n",
              "      <td>...</td>\n",
              "      <td>...</td>\n",
              "      <td>...</td>\n",
              "      <td>...</td>\n",
              "      <td>...</td>\n",
              "      <td>...</td>\n",
              "      <td>...</td>\n",
              "      <td>...</td>\n",
              "      <td>...</td>\n",
              "      <td>...</td>\n",
              "      <td>...</td>\n",
              "      <td>...</td>\n",
              "      <td>...</td>\n",
              "      <td>...</td>\n",
              "    </tr>\n",
              "    <tr>\n",
              "      <th>12674</th>\n",
              "      <td>16131.0</td>\n",
              "      <td>2020.0</td>\n",
              "      <td>2021-05-23</td>\n",
              "      <td>168.0</td>\n",
              "      <td>166.0</td>\n",
              "      <td>1.0</td>\n",
              "      <td>2.0</td>\n",
              "      <td>1.411190</td>\n",
              "      <td>15.0</td>\n",
              "      <td>5.0</td>\n",
              "      <td>...</td>\n",
              "      <td>5.0</td>\n",
              "      <td>3.0</td>\n",
              "      <td>8.3529</td>\n",
              "      <td>5.0</td>\n",
              "      <td>W</td>\n",
              "      <td>Ligue 1</td>\n",
              "      <td>Nantes</td>\n",
              "      <td>Montpellier</td>\n",
              "      <td>995</td>\n",
              "      <td>969</td>\n",
              "    </tr>\n",
              "    <tr>\n",
              "      <th>12675</th>\n",
              "      <td>16132.0</td>\n",
              "      <td>2020.0</td>\n",
              "      <td>2021-05-23</td>\n",
              "      <td>177.0</td>\n",
              "      <td>176.0</td>\n",
              "      <td>1.0</td>\n",
              "      <td>2.0</td>\n",
              "      <td>1.198190</td>\n",
              "      <td>10.0</td>\n",
              "      <td>3.0</td>\n",
              "      <td>...</td>\n",
              "      <td>5.0</td>\n",
              "      <td>4.0</td>\n",
              "      <td>27.0000</td>\n",
              "      <td>2.0</td>\n",
              "      <td>W</td>\n",
              "      <td>Ligue 1</td>\n",
              "      <td>Reims</td>\n",
              "      <td>Bordeaux</td>\n",
              "      <td>1421</td>\n",
              "      <td>40</td>\n",
              "    </tr>\n",
              "    <tr>\n",
              "      <th>12676</th>\n",
              "      <td>16133.0</td>\n",
              "      <td>2020.0</td>\n",
              "      <td>2021-05-23</td>\n",
              "      <td>163.0</td>\n",
              "      <td>235.0</td>\n",
              "      <td>2.0</td>\n",
              "      <td>0.0</td>\n",
              "      <td>1.332690</td>\n",
              "      <td>12.0</td>\n",
              "      <td>6.0</td>\n",
              "      <td>...</td>\n",
              "      <td>2.0</td>\n",
              "      <td>0.0</td>\n",
              "      <td>39.7273</td>\n",
              "      <td>3.0</td>\n",
              "      <td>L</td>\n",
              "      <td>Ligue 1</td>\n",
              "      <td>Rennes</td>\n",
              "      <td>Nimes</td>\n",
              "      <td>273</td>\n",
              "      <td>1160</td>\n",
              "    </tr>\n",
              "    <tr>\n",
              "      <th>12677</th>\n",
              "      <td>16134.0</td>\n",
              "      <td>2020.0</td>\n",
              "      <td>2021-05-23</td>\n",
              "      <td>175.0</td>\n",
              "      <td>181.0</td>\n",
              "      <td>0.0</td>\n",
              "      <td>1.0</td>\n",
              "      <td>1.460500</td>\n",
              "      <td>19.0</td>\n",
              "      <td>5.0</td>\n",
              "      <td>...</td>\n",
              "      <td>2.0</td>\n",
              "      <td>3.0</td>\n",
              "      <td>14.7200</td>\n",
              "      <td>3.0</td>\n",
              "      <td>W</td>\n",
              "      <td>Ligue 1</td>\n",
              "      <td>Saint-Etienne</td>\n",
              "      <td>Dijon</td>\n",
              "      <td>618</td>\n",
              "      <td>2969</td>\n",
              "    </tr>\n",
              "    <tr>\n",
              "      <th>12678</th>\n",
              "      <td>16135.0</td>\n",
              "      <td>2020.0</td>\n",
              "      <td>2021-05-23</td>\n",
              "      <td>225.0</td>\n",
              "      <td>179.0</td>\n",
              "      <td>1.0</td>\n",
              "      <td>1.0</td>\n",
              "      <td>0.323960</td>\n",
              "      <td>6.0</td>\n",
              "      <td>2.0</td>\n",
              "      <td>...</td>\n",
              "      <td>1.0</td>\n",
              "      <td>0.0</td>\n",
              "      <td>15.9524</td>\n",
              "      <td>3.0</td>\n",
              "      <td>D</td>\n",
              "      <td>Ligue 1</td>\n",
              "      <td>Strasbourg</td>\n",
              "      <td>Lorient</td>\n",
              "      <td>667</td>\n",
              "      <td>1158</td>\n",
              "    </tr>\n",
              "  </tbody>\n",
              "</table>\n",
              "<p>12679 rows × 26 columns</p>\n",
              "</div>\n",
              "      <button class=\"colab-df-convert\" onclick=\"convertToInteractive('df-24354d1d-0ad5-41d5-8ad6-85eb631472a3')\"\n",
              "              title=\"Convert this dataframe to an interactive table.\"\n",
              "              style=\"display:none;\">\n",
              "        \n",
              "  <svg xmlns=\"http://www.w3.org/2000/svg\" height=\"24px\"viewBox=\"0 0 24 24\"\n",
              "       width=\"24px\">\n",
              "    <path d=\"M0 0h24v24H0V0z\" fill=\"none\"/>\n",
              "    <path d=\"M18.56 5.44l.94 2.06.94-2.06 2.06-.94-2.06-.94-.94-2.06-.94 2.06-2.06.94zm-11 1L8.5 8.5l.94-2.06 2.06-.94-2.06-.94L8.5 2.5l-.94 2.06-2.06.94zm10 10l.94 2.06.94-2.06 2.06-.94-2.06-.94-.94-2.06-.94 2.06-2.06.94z\"/><path d=\"M17.41 7.96l-1.37-1.37c-.4-.4-.92-.59-1.43-.59-.52 0-1.04.2-1.43.59L10.3 9.45l-7.72 7.72c-.78.78-.78 2.05 0 2.83L4 21.41c.39.39.9.59 1.41.59.51 0 1.02-.2 1.41-.59l7.78-7.78 2.81-2.81c.8-.78.8-2.07 0-2.86zM5.41 20L4 18.59l7.72-7.72 1.47 1.35L5.41 20z\"/>\n",
              "  </svg>\n",
              "      </button>\n",
              "      \n",
              "  <style>\n",
              "    .colab-df-container {\n",
              "      display:flex;\n",
              "      flex-wrap:wrap;\n",
              "      gap: 12px;\n",
              "    }\n",
              "\n",
              "    .colab-df-convert {\n",
              "      background-color: #E8F0FE;\n",
              "      border: none;\n",
              "      border-radius: 50%;\n",
              "      cursor: pointer;\n",
              "      display: none;\n",
              "      fill: #1967D2;\n",
              "      height: 32px;\n",
              "      padding: 0 0 0 0;\n",
              "      width: 32px;\n",
              "    }\n",
              "\n",
              "    .colab-df-convert:hover {\n",
              "      background-color: #E2EBFA;\n",
              "      box-shadow: 0px 1px 2px rgba(60, 64, 67, 0.3), 0px 1px 3px 1px rgba(60, 64, 67, 0.15);\n",
              "      fill: #174EA6;\n",
              "    }\n",
              "\n",
              "    [theme=dark] .colab-df-convert {\n",
              "      background-color: #3B4455;\n",
              "      fill: #D2E3FC;\n",
              "    }\n",
              "\n",
              "    [theme=dark] .colab-df-convert:hover {\n",
              "      background-color: #434B5C;\n",
              "      box-shadow: 0px 1px 3px 1px rgba(0, 0, 0, 0.15);\n",
              "      filter: drop-shadow(0px 1px 2px rgba(0, 0, 0, 0.3));\n",
              "      fill: #FFFFFF;\n",
              "    }\n",
              "  </style>\n",
              "\n",
              "      <script>\n",
              "        const buttonEl =\n",
              "          document.querySelector('#df-24354d1d-0ad5-41d5-8ad6-85eb631472a3 button.colab-df-convert');\n",
              "        buttonEl.style.display =\n",
              "          google.colab.kernel.accessAllowed ? 'block' : 'none';\n",
              "\n",
              "        async function convertToInteractive(key) {\n",
              "          const element = document.querySelector('#df-24354d1d-0ad5-41d5-8ad6-85eb631472a3');\n",
              "          const dataTable =\n",
              "            await google.colab.kernel.invokeFunction('convertToInteractive',\n",
              "                                                     [key], {});\n",
              "          if (!dataTable) return;\n",
              "\n",
              "          const docLinkHtml = 'Like what you see? Visit the ' +\n",
              "            '<a target=\"_blank\" href=https://colab.research.google.com/notebooks/data_table.ipynb>data table notebook</a>'\n",
              "            + ' to learn more about interactive tables.';\n",
              "          element.innerHTML = '';\n",
              "          dataTable['output_type'] = 'display_data';\n",
              "          await google.colab.output.renderOutput(dataTable, element);\n",
              "          const docLink = document.createElement('div');\n",
              "          docLink.innerHTML = docLinkHtml;\n",
              "          element.appendChild(docLink);\n",
              "        }\n",
              "      </script>\n",
              "    </div>\n",
              "  </div>\n",
              "  "
            ]
          },
          "metadata": {},
          "execution_count": 3
        }
      ],
      "source": [
        "df_appearances=df_appearances.rename(columns={'playerID_df2':'player_id',\"player_club_id\":'club_id'})\n",
        "df_appearances=df_appearances.drop(columns=['name','pretty_name'], axis=1)\n",
        "\n",
        "df_appearances=df_appearances[['gameID', 'leagueID', 'playerID','appearance_id', 'club_id','player_id',  'shots', 'xGoals',\n",
        "       'xGoalsChain', 'xGoalsBuildup', 'assists', 'keyPasses', 'xAssists',\n",
        "       'position', 'positionOrder', 'time',\n",
        "        'date',\n",
        "       ]]\n",
        "\n",
        "df_teams.rename(columns={'name_x':'name'},inplace=True)\n",
        "df_teams.drop(columns=['name_y','url',\"coach_name\",\"foreigners_percentage\",\"foreigners_number\",\"squad_size\",\"stadium_name\",\"stadium_seats\",\"national_team_players\",\"net_transfer_record\"],inplace=True)\n",
        "df_players.drop(columns=[\"contract_expiration_date\",\"agent_name\",\"image_url\"],inplace=True)\n",
        "df_games.drop(columns=['BWH', 'BWD', 'BWA', 'IWH', 'IWD', 'IWA', 'PSH',\n",
        "       'PSD', 'PSA', 'WHH', 'WHD', 'WHA', 'VCH', 'VCD', 'VCA', 'PSCH', 'PSCD',\n",
        "       'PSCA','match_name', 'homeProbability', 'drawProbability',\n",
        "       'awayProbability', 'homeGoalsHalfTime', 'awayGoalsHalfTime', 'B365H',\n",
        "       'B365D', 'B365A', 'leagueID','game_id', 'date_y','redCards_home','yellowCards_home','yellowCards_away', 'redCards_away', 'fouls_home', 'fouls_away'],inplace=True)\n",
        "df_games.rename(columns={'df_games':'date'},inplace=True)\n",
        "\n",
        "\n",
        "df_players.drop(columns='playerID_df2',inplace=True)\n",
        "\n",
        "df_games.rename(columns={'date_y':'date'})"
      ]
    },
    {
      "cell_type": "markdown",
      "metadata": {
        "id": "bWofiCqVj3CF"
      },
      "source": [
        "> llenamos las celdas con valores nulos con las medianas de cada columna"
      ]
    },
    {
      "cell_type": "code",
      "execution_count": 4,
      "metadata": {
        "id": "T0jH9r9ijHQX"
      },
      "outputs": [],
      "source": [
        "\n",
        "\n",
        "\n",
        "df_teams[\"total_market_value\"] = df_teams[\"total_market_value\"].fillna(\n",
        "    df_teams[\"total_market_value\"].median()\n",
        ")\n",
        "\n",
        "df_teams[\"average_age\"] = df_teams[\"average_age\"].fillna(df_teams[\"average_age\"].median()\n",
        ")\n",
        "\n",
        "df_players[\"market_value_in_gbp\"] = df_players[\"market_value_in_gbp\"].fillna(\n",
        "    df_players[\"market_value_in_gbp\"].median()\n",
        ")\n",
        "\n",
        "df_players[\"highest_market_value_in_gbp\"] = df_players[\"highest_market_value_in_gbp\"].fillna(\n",
        "    df_players[\"highest_market_value_in_gbp\"].median()\n",
        ")\n",
        "\n",
        "df_players[\"foot\"] = df_players[\"foot\"].fillna(\n",
        "    df_players[\"foot\"].value_counts().index[0]\n",
        ")\n",
        "\n",
        "df_players[\"sub_position\"] = df_players[\"sub_position\"].fillna(\n",
        "    df_players[\"sub_position\"].value_counts().index[0]\n",
        ")\n",
        "df_players['date_of_birth'].fillna(value=pd.to_datetime('1/1/1985'), inplace=True)\n",
        "\n",
        "\n"
      ]
    },
    {
      "cell_type": "markdown",
      "metadata": {
        "id": "_1tG--PEYIpa"
      },
      "source": [
        "> Revisamos los datasets en busqueda de valores nulos"
      ]
    },
    {
      "cell_type": "code",
      "execution_count": 5,
      "metadata": {
        "colab": {
          "base_uri": "https://localhost:8080/"
        },
        "id": "09i4sJL6asBm",
        "outputId": "6089ae41-149d-4463-b2b5-08c15647c6f1"
      },
      "outputs": [
        {
          "output_type": "execute_result",
          "data": {
            "text/plain": [
              "<AxesSubplot:>"
            ]
          },
          "metadata": {},
          "execution_count": 5
        }
      ],
      "source": [
        "import missingno as msno\n",
        "\n",
        "msno.matrix(df_teams,color=(26 / 255, 51 / 255, 113 / 255))"
      ]
    },
    {
      "cell_type": "code",
      "execution_count": 6,
      "metadata": {
        "colab": {
          "base_uri": "https://localhost:8080/"
        },
        "id": "t81bZt2abA20",
        "outputId": "6f83f2d1-9447-41c3-9a49-5c8387b47e55"
      },
      "outputs": [
        {
          "output_type": "execute_result",
          "data": {
            "text/plain": [
              "<AxesSubplot:>"
            ]
          },
          "metadata": {},
          "execution_count": 6
        }
      ],
      "source": [
        "msno.matrix(df_games,color=(26 / 255, 51 / 255, 113 / 255),labels=True)\n",
        "\n"
      ]
    },
    {
      "cell_type": "code",
      "execution_count": 7,
      "metadata": {
        "id": "uwFTG-uXOEFg"
      },
      "outputs": [],
      "source": [
        "# profile_df_games = ProfileReport(df_games)\n",
        "# profile_df_games"
      ]
    },
    {
      "cell_type": "code",
      "execution_count": 8,
      "metadata": {
        "colab": {
          "base_uri": "https://localhost:8080/"
        },
        "id": "s-Qi67zvbBGY",
        "outputId": "527e1e6b-c33a-41de-ebc3-2c23043fafc0"
      },
      "outputs": [
        {
          "output_type": "execute_result",
          "data": {
            "text/plain": [
              "<AxesSubplot:>"
            ]
          },
          "metadata": {},
          "execution_count": 8
        }
      ],
      "source": [
        "msno.matrix(df_appearances,color=(26 / 255, 51 / 255, 113 / 255))"
      ]
    },
    {
      "cell_type": "code",
      "execution_count": 9,
      "metadata": {
        "id": "XJx2oen8OEFh"
      },
      "outputs": [],
      "source": [
        "# profile_df_appearances = ProfileReport(df_appearances)\n",
        "# profile_df_appearances"
      ]
    },
    {
      "cell_type": "code",
      "execution_count": 10,
      "metadata": {
        "colab": {
          "base_uri": "https://localhost:8080/"
        },
        "id": "XHc8DT1CbA-_",
        "outputId": "329b67b7-eb73-40bd-b4b3-98c2655c1b0b"
      },
      "outputs": [
        {
          "output_type": "execute_result",
          "data": {
            "text/plain": [
              "<AxesSubplot:>"
            ]
          },
          "metadata": {},
          "execution_count": 10
        }
      ],
      "source": [
        "msno.matrix(df_players,color=(26 / 255, 51 / 255, 113 / 255))"
      ]
    },
    {
      "cell_type": "markdown",
      "metadata": {
        "id": "94psxOEDpVkl"
      },
      "source": [
        "#### MERGE DE DATOS DE DF_APPEARANCES CON DF_GAMES\n",
        "\n",
        "> Con la union de los datos de df_appearances vamos a tener estadisticas segun las posiciones de los jugadores por cada equipo. Creamos una columna donde agrupamos las estadisticas de las posiciones individuales en tres posiciones generales como la defensa, el medio y delanteros, y de cada uno de estos tenemos la suma de los xGoals, xAssits, xGoalsChains y demas estadisticas. De esta forma podemos entender que participacion tiene cada zona y que tan importantes son para que el equipo gane."
      ]
    },
    {
      "cell_type": "code",
      "execution_count": 11,
      "metadata": {
        "id": "x3zjGGbwpVkl"
      },
      "outputs": [],
      "source": [
        "\n",
        "def positions(elemento):\n",
        "  defensores = ['GK','DR', 'DL', 'DC']\n",
        "  mediocampistas = ['MC','ML','MR','DMR','DML','DMC']\n",
        "  delanteros = ['FWR', 'FW', 'FWL','AMR', 'AMC','AML']\n",
        "  if elemento in defensores:\n",
        "    return \"def\"\n",
        "  elif elemento in mediocampistas:\n",
        "    return \"med\"\n",
        "  else:\n",
        "    return \"del\"\n",
        "\n",
        "df_appearances['position_agrup']=df_appearances['position'].apply(lambda x: positions(x))\n",
        "\n",
        "df_games_only_gameID_and_teams_home = df_games[['gameID','home_club_id']]\n",
        "df_games_only_gameID_and_teams_away = df_games[['gameID','away_club_id']]\n",
        "\n",
        "df_appearances_grouped = df_appearances.groupby(by=['gameID','club_id','position_agrup'])[[\"shots\",\"xGoals\",\"xGoalsChain\",'assists','keyPasses','xAssists']].sum().reset_index()\n",
        "df_appareances_pivot = df_appearances_grouped.pivot(index=['gameID','club_id'],columns='position_agrup').reset_index()\n",
        "df_appareances_pivot.columns = ['_'.join(col) for col in df_appareances_pivot.columns.values]\n",
        "df_appareances_pivot.columns\n",
        "df_games_only_gameID_and_teams_home = df_games_only_gameID_and_teams_home.merge(df_appareances_pivot,left_on=['gameID','home_club_id'],right_on=['gameID_', 'club_id_'],how='inner')\n",
        "\n",
        "df_games_only_gameID_and_teams_away = df_games_only_gameID_and_teams_away.merge(df_appareances_pivot,left_on=['gameID','away_club_id'],right_on=['gameID_', 'club_id_'],how='inner')\n",
        "\n",
        "df_games_only_gameID_and_teams_home.drop(columns=['home_club_id','gameID_'],inplace=True)\n",
        "df_games_only_gameID_and_teams_home.columns = [col + '_home' for col in df_games_only_gameID_and_teams_home.columns]\n",
        "df_games_only_gameID_and_teams_home.rename(columns={'gameID_home':'gameID','club_id__home':'club_id_home'},inplace=True)\n",
        "\n",
        "\n",
        "df_games_only_gameID_and_teams_away.drop(columns=['away_club_id','gameID_'],inplace=True)\n",
        "df_games_only_gameID_and_teams_away.columns = [col + '_away' for col in df_games_only_gameID_and_teams_away.columns]\n",
        "df_games_only_gameID_and_teams_away.rename(columns={'gameID_away':'gameID','club_id__away':'club_id_away'},inplace=True)\n",
        "\n",
        "\n",
        "df_games_all_stats  = pd.merge(df_games_only_gameID_and_teams_home,df_games_only_gameID_and_teams_away)\n",
        "\n",
        "df_games = df_games.merge(df_games_all_stats)\n",
        "df_games.drop(columns=[ 'club_id_home','club_id_away'],inplace=True)\n",
        "df_games.rename(columns={'date_x':\"date\"},inplace=True)\n",
        "\n",
        "#ordenamos las columnas\n",
        "\n",
        "df_games= df_games[[# datos del partido\n",
        "                    'gameID', 'season', 'date','liga',\n",
        "                    'homeTeamID', 'awayTeamID','home_name', 'away_name','home_club_id', 'away_club_id',\n",
        "                    # estadisticas del equipo local\n",
        "                    'result_home','homeGoals','xGoals_home','shots_home', 'shotsOnTarget_home','deep_home', 'ppda_home', 'corners_home',\n",
        "                    # estadisticas del equipo local segun posision  \n",
        "                    'shots_def_home', 'shots_del_home',\n",
        "                    'shots_med_home', 'xGoals_def_home', 'xGoals_del_home',\n",
        "                    'xGoals_med_home', 'xGoalsChain_def_home', 'xGoalsChain_del_home',\n",
        "                    'xGoalsChain_med_home', 'assists_def_home', 'assists_del_home',\n",
        "                    'assists_med_home', 'keyPasses_def_home', 'keyPasses_del_home',\n",
        "                    'keyPasses_med_home', 'xAssists_def_home', 'xAssists_del_home',\n",
        "                    'xAssists_med_home',\n",
        "                    # estadisticas del equipo visitante\n",
        "                    'result_away','awayGoals','xGoals_away','shots_away', 'shotsOnTarget_away', 'deep_away', 'ppda_away',\n",
        "                    'corners_away', \n",
        "                    # estadisticas del equipo visitante segun posision\n",
        "                    'shots_def_away', 'shots_del_away',\n",
        "                    'shots_med_away', 'xGoals_def_away', 'xGoals_del_away',\n",
        "                    'xGoals_med_away', 'xGoalsChain_def_away', 'xGoalsChain_del_away',\n",
        "                    'xGoalsChain_med_away', 'assists_def_away', 'assists_del_away',\n",
        "                    'assists_med_away', 'keyPasses_def_away', 'keyPasses_del_away',\n",
        "                    'keyPasses_med_away', 'xAssists_def_away', 'xAssists_del_away',\n",
        "                    'xAssists_med_away']]\n"
      ]
    },
    {
      "cell_type": "code",
      "source": [
        "df_games.columns"
      ],
      "metadata": {
        "id": "5Z4YVN2YaxcM",
        "outputId": "c1d54773-5f7a-4a60-c9de-fd1b51bd1a73",
        "colab": {
          "base_uri": "https://localhost:8080/"
        }
      },
      "execution_count": 12,
      "outputs": [
        {
          "output_type": "execute_result",
          "data": {
            "text/plain": [
              "Index(['gameID', 'season', 'date', 'liga', 'homeTeamID', 'awayTeamID',\n",
              "       'home_name', 'away_name', 'home_club_id', 'away_club_id', 'result_home',\n",
              "       'homeGoals', 'xGoals_home', 'shots_home', 'shotsOnTarget_home',\n",
              "       'deep_home', 'ppda_home', 'corners_home', 'shots_def_home',\n",
              "       'shots_del_home', 'shots_med_home', 'xGoals_def_home',\n",
              "       'xGoals_del_home', 'xGoals_med_home', 'xGoalsChain_def_home',\n",
              "       'xGoalsChain_del_home', 'xGoalsChain_med_home', 'assists_def_home',\n",
              "       'assists_del_home', 'assists_med_home', 'keyPasses_def_home',\n",
              "       'keyPasses_del_home', 'keyPasses_med_home', 'xAssists_def_home',\n",
              "       'xAssists_del_home', 'xAssists_med_home', 'result_away', 'awayGoals',\n",
              "       'xGoals_away', 'shots_away', 'shotsOnTarget_away', 'deep_away',\n",
              "       'ppda_away', 'corners_away', 'shots_def_away', 'shots_del_away',\n",
              "       'shots_med_away', 'xGoals_def_away', 'xGoals_del_away',\n",
              "       'xGoals_med_away', 'xGoalsChain_def_away', 'xGoalsChain_del_away',\n",
              "       'xGoalsChain_med_away', 'assists_def_away', 'assists_del_away',\n",
              "       'assists_med_away', 'keyPasses_def_away', 'keyPasses_del_away',\n",
              "       'keyPasses_med_away', 'xAssists_def_away', 'xAssists_del_away',\n",
              "       'xAssists_med_away'],\n",
              "      dtype='object')"
            ]
          },
          "metadata": {},
          "execution_count": 12
        }
      ]
    },
    {
      "cell_type": "markdown",
      "source": [
        "> Despues de realizar el EDA nos queda un dataframe con varias columnas, las cuales ahora vamos a explicar los datos que contiene cada una:\n",
        "\n",
        "```\n",
        "'gameID', 'season', 'date','liga' \n",
        "                    'homeTeamID', 'awayTeamID','home_name', 'away_name','home_club_id', 'away_club_id'\n",
        "```\n",
        "contiene los datos propios de cada partido para poder identificarlos y ubicarlo en el tiempo, como asi saber tambien a que temporada pertenece.\n",
        "\n",
        "---\n",
        "\n",
        "```\n",
        "'result_home','homeGoals','xGoals_home','shots_home', 'shotsOnTarget_home','deep_home', 'ppda_home', 'corners_home', \n",
        "```\n",
        "```\n",
        "'result_away','awayGoals','xGoals_away','shots_away', 'shotsOnTarget_away', 'deep_away', 'ppda_away',\n",
        "                    'corners_away', \n",
        "```\n",
        "Estadistica del partido tanto como para el local y para el visitante: goles , goles esperados, tiros al arco , tiros al arco al arco, pases a 20 metros del area del oponente, pases permitidos al rival antes de un ataque defensivo, y tiros de esquinas ejecutados\n",
        "\n",
        "---\n",
        "\n",
        "\n",
        "\n",
        "```\n",
        "'shots_def_home', 'shots_del_home',\n",
        "                    'shots_med_home', 'xGoals_def_home', 'xGoals_del_home',\n",
        "                    'xGoals_med_home', 'xGoalsChain_def_home', 'xGoalsChain_del_home',\n",
        "                    'xGoalsChain_med_home', 'assists_def_home', 'assists_del_home',\n",
        "                    'assists_med_home', 'keyPasses_def_home', 'keyPasses_del_home',\n",
        "                    'keyPasses_med_home', 'xAssists_def_home', 'xAssists_del_home',\n",
        "                    'xAssists_med_home'\n",
        "```\n",
        "\n",
        "\n",
        "```\n",
        "'shots_def_away', 'shots_del_away',\n",
        "                    'shots_med_away', 'xGoals_def_away', 'xGoals_del_away',\n",
        "                    'xGoals_med_away', 'xGoalsChain_def_away', 'xGoalsChain_del_away',\n",
        "                    'xGoalsChain_med_away', 'assists_def_away', 'assists_del_away',\n",
        "                    'assists_med_away', 'keyPasses_def_away', 'keyPasses_del_away',\n",
        "                    'keyPasses_med_away', 'xAssists_def_away', 'xAssists_del_away',\n",
        "                    'xAssists_med_away'\n",
        "```\n",
        "En estas columnas tenemos distintos datos segun la posicio de cada equipo, donde segun el dato entre guiones medio representa la posicion dentro de la cancha. Estos pueden ser _def_ ( defensa ), _del_ ( delantera ) y _med_ ( mediocampo ). Luego por cada posiciones tenemos tiros al arco, goles esperados, participacion del posicion por goles esperados y asistencia en goles esperados. \n",
        "\n",
        "\n",
        "\n",
        "\n",
        "\n"
      ],
      "metadata": {
        "id": "323mZl3pavzm"
      }
    },
    {
      "cell_type": "markdown",
      "metadata": {
        "id": "PvETccqyx8yP"
      },
      "source": [
        "## <font color='#2ca18c'>4 - ANALISIS EXPLORATORIO</font> <a name=\"Analisis\"></a>"
      ]
    },
    {
      "cell_type": "code",
      "execution_count": 13,
      "metadata": {
        "id": "zXr2Pe_m0kMJ"
      },
      "outputs": [],
      "source": [
        "import seaborn as sns\n",
        "from cycler import cycler\n",
        "import matplotlib.pyplot as plt\n",
        "from matplotlib import cycler\n",
        "\n",
        "colors = cycler('color',\n",
        "                ['#c14364',  \n",
        "                 '#ff916b', \n",
        "                 '#F2ECAD',  \n",
        "                 '#2ca18c',\n",
        "                 \"#1A3371\"])\n",
        "plt.rc('axes', facecolor='#E6E6E6', edgecolor='none',\n",
        "       axisbelow=True, grid=True, prop_cycle=colors)\n",
        "plt.rc('grid', color='#2ca18c', linestyle='solid')\n",
        "plt.rc('xtick', direction='out', color='#1A3371')\n",
        "plt.rc('ytick', direction='out', color='#1A3371')\n",
        "plt.rc('patch', edgecolor=\"#1A3371\")\n",
        "plt.rc('lines', linewidth=2)\n",
        "plt.rcParams['font.size'] =  12.0\n",
        "plt.rcParams['axes.formatter.useoffset']= True\n",
        "plt.rcParams[\"figure.figsize\"] = (20,10)\n",
        "plt.rcParams['axes.axisbelow'] = True"
      ]
    },
    {
      "cell_type": "markdown",
      "metadata": {
        "id": "yCeunxoGpVkm"
      },
      "source": [
        "#### Separamos el dataset"
      ]
    },
    {
      "cell_type": "code",
      "execution_count": 14,
      "metadata": {
        "id": "uzpZWbt_pVkm"
      },
      "outputs": [],
      "source": [
        "\n",
        "\n",
        "df_games_1_parte = df_games[['gameID', 'season', 'date', 'homeTeamID', 'awayTeamID', 'homeGoals',\n",
        "       'awayGoals', 'home_club_id', 'away_club_id', 'result_away',\n",
        "       'result_home', 'liga', 'home_name', 'away_name', \n",
        "        'xGoals_home', 'shots_home', 'shotsOnTarget_home',\n",
        "       'deep_home', 'ppda_home', 'corners_home', 'xGoals_away', 'shots_away',\n",
        "       'shotsOnTarget_away', 'deep_away', 'ppda_away', 'corners_away']]\n",
        "\n",
        "df_games_2_parte = df_games[ [ \n",
        "       'shots_def_home', 'shots_del_home', 'shots_med_home', 'xGoals_def_home',\n",
        "       'xGoals_del_home', 'xGoals_med_home', 'xGoalsChain_def_home',\n",
        "       'xGoalsChain_del_home', 'xGoalsChain_med_home', 'assists_def_home',\n",
        "       'assists_del_home', 'assists_med_home', 'keyPasses_def_home',\n",
        "       'keyPasses_del_home', 'keyPasses_med_home', 'xAssists_def_home',\n",
        "       'xAssists_del_home', 'xAssists_med_home', 'shots_def_away',\n",
        "       'shots_del_away', 'shots_med_away', 'xGoals_def_away',\n",
        "       'xGoals_del_away', 'xGoals_med_away', 'xGoalsChain_def_away',\n",
        "       'xGoalsChain_del_away', 'xGoalsChain_med_away', 'assists_def_away',\n",
        "       'assists_del_away', 'assists_med_away', 'keyPasses_def_away',\n",
        "       'keyPasses_del_away', 'keyPasses_med_away', 'xAssists_def_away',\n",
        "       'xAssists_del_away', 'xAssists_med_away']]   \n",
        "\n",
        "\n"
      ]
    },
    {
      "cell_type": "markdown",
      "metadata": {
        "id": "3ifgWeZ3pVkm"
      },
      "source": [
        "#### que participacion tiene cada zona en la anotacion de  un gol?\n"
      ]
    },
    {
      "cell_type": "code",
      "execution_count": 15,
      "metadata": {
        "id": "iybcmruOpVkm"
      },
      "outputs": [],
      "source": [
        "hb = plt.hexbin(x=df_games[\"xGoals_del_home\"], y=df_games[\"homeGoals\"], gridsize=10)\n",
        "plt.colorbar(hb)\n",
        "plt.xlabel(\"xGoals delanteros\")\n",
        "plt.ylabel(\"goles\")\n",
        "plt.show()\n"
      ]
    },
    {
      "cell_type": "code",
      "execution_count": 16,
      "metadata": {
        "id": "7qlUZhMApVkm"
      },
      "outputs": [],
      "source": [
        "hb = plt.hexbin(x=df_games[\"xGoals_med_home\"], y=df_games[\"homeGoals\"], gridsize=10)\n",
        "plt.colorbar(hb)\n",
        "plt.xlabel(\"xGoals Mediocampistas\")\n",
        "plt.ylabel(\"goles\")\n",
        "plt.show()\n"
      ]
    },
    {
      "cell_type": "code",
      "execution_count": 17,
      "metadata": {
        "id": "MXV4iWt0pVkn"
      },
      "outputs": [],
      "source": [
        "hb = plt.hexbin(x=df_games[\"xGoals_def_home\"], y=df_games[\"homeGoals\"], gridsize=10)\n",
        "plt.colorbar(hb)\n",
        "plt.xlabel(\"xGoals defensas\")\n",
        "plt.ylabel(\"goles\")\n",
        "plt.show()\n"
      ]
    },
    {
      "cell_type": "markdown",
      "metadata": {
        "id": "kUH4hZKNP9Ke"
      },
      "source": [
        "> <font color='425FD6'> **¿El equipo local, gana mucho más que el \n",
        "visitante?**</font>"
      ]
    },
    {
      "cell_type": "code",
      "execution_count": 18,
      "metadata": {
        "id": "ayrQZ2tsp4v-"
      },
      "outputs": [],
      "source": [
        "df_games.groupby(['result_home'])['gameID'].count().plot(kind = \"pie\",autopct='%1.1f%%').set_title('Porcentaje de victorias segun localia')\n",
        "\n",
        "plt.show()"
      ]
    },
    {
      "cell_type": "markdown",
      "metadata": {
        "id": "4YJU6mzSQCRb"
      },
      "source": [
        "Como era de esperarse el equipo local resulta más victorioso que el visitante, aunque la diferencia es más acotada de lo que podíamos pensar.\n",
        "L = Derrota del local\n",
        "D = Empate\n",
        "W = Victoria del local"
      ]
    },
    {
      "cell_type": "code",
      "execution_count": 19,
      "metadata": {
        "id": "xtCq8m6eG-Jp"
      },
      "outputs": [],
      "source": [
        "\n",
        "\n",
        "df_games[\"goal_diff\"]= abs(df_games[\"homeGoals\"]  - df_games[\"awayGoals\"])\n",
        "\n",
        "df_games[\"diff_labels\"]= df_games['goal_diff'].apply(lambda x: str(x) if x<4 else '4 o mas' )\n",
        "df_games[\"totalGoals\"]= df_games[\"homeGoals\"]  + df_games[\"awayGoals\"]\n",
        "\n",
        "\n",
        "\n"
      ]
    },
    {
      "cell_type": "markdown",
      "metadata": {
        "id": "8VvdKjbEs5av"
      },
      "source": [
        "> <font color='425FD6'> **¿Como fue la evolucion de la cantidad de goles en las ultimas temporadas?**</font>"
      ]
    },
    {
      "cell_type": "code",
      "execution_count": 20,
      "metadata": {
        "id": "iKzlObbQm9qT"
      },
      "outputs": [],
      "source": [
        "\n",
        "df_games.groupby(['season'])['totalGoals'].sum().plot()\n",
        "plt.show()"
      ]
    },
    {
      "cell_type": "markdown",
      "metadata": {
        "id": "P-fmPEvfQxlP"
      },
      "source": [
        "Como puede apreciarse en el gráfico, no existe una relación sobre la hipótesis planteada, ya que si bien parecía que la tendencia después del año 2016 era decreciente hasta el año 2019, en el año 2020 se revirtió y casi igualó la cúspide alcanzada en el año 2016 del rango de tiempo analizado."
      ]
    },
    {
      "cell_type": "markdown",
      "metadata": {
        "id": "nKhecAAcu4J-"
      },
      "source": [
        "\n",
        "\n",
        "> <font color='425FD6'>**¿Que liga es la más atractiva para ver fútbol, o sea en cual hay más goles por partido?**</font>\n"
      ]
    },
    {
      "cell_type": "code",
      "execution_count": 21,
      "metadata": {
        "id": "bG9vF4SXreSv"
      },
      "outputs": [],
      "source": [
        "\n",
        "\n",
        "\n",
        "df_f_game_seriea=df_games.loc[df_games['liga']==\"Serie A\"]\n",
        "df_f_game_laliga=df_games.loc[df_games['liga']==\"La Liga\"]\n",
        "df_f_game_premier=df_games.loc[df_games['liga']==\"Premier League\"]\n",
        "df_f_game_bundesliga=df_games.loc[df_games['liga']==\"Bundesliga\"]\n",
        "df_f_game_ligue1=df_games.loc[df_games['liga']==\"Ligue 1\"]\n",
        "\n",
        "x_seriea=df_f_game_seriea.groupby(['diff_labels'])['gameID']\n",
        "x_laliga=df_f_game_laliga.groupby(['diff_labels'])['gameID']\n",
        "x_premier=df_f_game_premier.groupby(['diff_labels'])['gameID']\n",
        "x_bundesliga=df_f_game_bundesliga.groupby(['diff_labels'])['gameID']\n",
        "x_ligue1=df_f_game_ligue1.groupby(['diff_labels'])['gameID']\n",
        "\n",
        "\n",
        "fig, ax = plt.subplots(3, 2, figsize=(15, 15))\n",
        "autopct='%.1f%%'\n",
        "wedgeprops={'linewidth': 3.0, 'edgecolor': 'white'}\n",
        "textprops={'size': 'x-large'}\n",
        "ax[0,0].pie(x_seriea.count(),labels= x_seriea.groups.keys(), autopct=autopct,wedgeprops=wedgeprops,\n",
        "    textprops=textprops)\n",
        "ax[0,1].pie(x_laliga.count(),labels= x_laliga.groups.keys(), autopct=autopct,wedgeprops=wedgeprops,\n",
        "    textprops=textprops)\n",
        "ax[1,0].pie(x_premier.count(),labels= x_premier.groups.keys(), autopct=autopct,wedgeprops=wedgeprops,\n",
        "    textprops=textprops)\n",
        "ax[1,1].pie(x_bundesliga.count(),labels= x_bundesliga.groups.keys(), autopct=autopct,wedgeprops=wedgeprops,\n",
        "    textprops=textprops)\n",
        "ax[2,0].pie(x_ligue1.count(),labels= x_ligue1.groups.keys(), autopct=autopct,wedgeprops=wedgeprops,\n",
        "    textprops=textprops)\n",
        "ax[0,0].set_title('Serie A')\n",
        "ax[0,1].set_title('La Liga')\n",
        "ax[1,0].set_title('Premier League')\n",
        "ax[1,1].set_title('Bundesliga')\n",
        "ax[2,0].set_title('Ligue 1')\n",
        "plt.show()"
      ]
    },
    {
      "cell_type": "markdown",
      "metadata": {
        "id": "7cwKxB6uu9e8"
      },
      "source": [
        "Como se puede visualizar en los gráficos, la Bundesliga y la Premier League son las más atractiva, debido a que son las que tienen el porcentaje más alto de varios goles por partido. También son las que tienen el menor porcentaje de 0 goles por partido."
      ]
    },
    {
      "cell_type": "markdown",
      "metadata": {
        "id": "GIaoTPut7PVv"
      },
      "source": [
        "### <font color='#2ca18c'>Analizamos xGoals</font>\n",
        "\n"
      ]
    },
    {
      "cell_type": "markdown",
      "metadata": {
        "id": "n1d1U3Sf7bCI"
      },
      "source": [
        "> Agrupamos los equipos por localía y tomamos los xGoals en esa condición (local o visitante). Luego creamos una nueva variable que va a representar la diferencia de xGoals entre los contricantes"
      ]
    },
    {
      "cell_type": "code",
      "execution_count": 22,
      "metadata": {
        "id": "Kgl6hKPpIYSg"
      },
      "outputs": [],
      "source": [
        "prom_home_xgoal=df_games.groupby(['homeTeamID'],as_index=False)\n",
        "prom_away_xgoal=df_games.groupby(['awayTeamID'],as_index=False)\n",
        "prom_home_xgoal=prom_home_xgoal['xGoals_home'].mean().sort_values(by=\"xGoals_home\",ascending=False)\n",
        "prom_away_xgoal=prom_away_xgoal['xGoals_away'].mean().sort_values(by=\"xGoals_away\",ascending=False)\n",
        "\n",
        "#se mergea con el dataset principal\n",
        "\n",
        "df_games=pd.merge(df_games,prom_home_xgoal,   \n",
        "    left_on=\"homeTeamID\",\n",
        "    right_on=\"homeTeamID\",\n",
        "    suffixes=(\"\", \"_prom\")\n",
        "  )\n",
        "\n",
        "df_games=pd.merge(df_games,prom_away_xgoal,   \n",
        "    left_on=\"awayTeamID\",\n",
        "    right_on=\"awayTeamID\",\n",
        "    suffixes=(\"\", \"_prom\")\n",
        "  )\n",
        "\n",
        "\n",
        "df_games[\"xgoal_diff\"]= df_games[\"xGoals_home_prom\"]  - df_games[\"xGoals_away_prom\"]"
      ]
    },
    {
      "cell_type": "code",
      "execution_count": 23,
      "metadata": {
        "id": "HtUelv7h2Zpb"
      },
      "outputs": [],
      "source": [
        "fig, axs = plt.subplots(1, 1,\n",
        "                        figsize =(10, 15),\n",
        "                        tight_layout = True)\n",
        " \n",
        "l=df_games['xgoal_diff'].loc[ (df_games['result_home'] == \"L\")]\n",
        "w=df_games['xgoal_diff'].loc[ (df_games['result_home'] == \"W\")]\n",
        "d=df_games['xgoal_diff'].loc[ (df_games['result_home'] == \"D\")]\n",
        "plt.hist([w,l,d], bins=50, stacked=True, density=True)\n",
        "plt.show()"
      ]
    },
    {
      "cell_type": "markdown",
      "metadata": {
        "id": "xrJ5DfA888Tf"
      },
      "source": [
        ">En el gráfico que precede se puede observar cómo cambia el resultado según la condición de localía. Si se juega de visitante, se necesita una mayor diferencia de xGoals para ganar que si se juega de local.\n",
        "También se observan varios outliers que en el siguiente paso los vamos a eliminar."
      ]
    },
    {
      "cell_type": "markdown",
      "metadata": {
        "id": "29272qF1mupK"
      },
      "source": [
        "> Eliminamos Outliers dentro de la nueva variable creada"
      ]
    },
    {
      "cell_type": "code",
      "execution_count": 24,
      "metadata": {
        "id": "tSNHj5Q67yRa",
        "outputId": "1b1e4198-3227-40c1-c9d5-64e4b616ea8d",
        "colab": {
          "base_uri": "https://localhost:8080/"
        }
      },
      "outputs": [
        {
          "output_type": "execute_result",
          "data": {
            "text/plain": [
              "<AxesSubplot:xlabel='result_home', ylabel='xgoal_diff'>"
            ]
          },
          "metadata": {},
          "execution_count": 24
        }
      ],
      "source": [
        "figbi, axesbi = plt.subplots(1, 2, figsize=(20, 5))\n",
        "sns.boxplot(x=df_games.result_away, y=df_games.xgoal_diff, data=df_games,ax=axesbi[0])\n",
        "sns.boxplot(x=df_games.result_home, y=df_games.xgoal_diff, data=df_games,ax=axesbi[1])"
      ]
    },
    {
      "cell_type": "code",
      "execution_count": 25,
      "metadata": {
        "id": "zM6NrABELcId"
      },
      "outputs": [],
      "source": [
        "Q1_w =  df_games['xgoal_diff'].loc[ (df_games['result_home'] == \"W\")].quantile(0.25)\n",
        "Q3_w = df_games['xgoal_diff'].loc[ (df_games['result_home'] == \"W\")].quantile(0.75)\n",
        "IQR_w = Q3_w - Q1_w\n",
        "Higher_outlier_w = Q3_w + (IQR_w * 1.5)\n",
        "lower_outlier_w = Q1_w - (IQR_w * 1.5)\n",
        "\n",
        "Q1_l =  df_games['xgoal_diff'].loc[ (df_games['result_home'] == \"L\")].quantile(0.25)\n",
        "Q3_l = df_games['xgoal_diff'].loc[ (df_games['result_home'] == \"L\")].quantile(0.75)\n",
        "IQR_l = Q3_l - Q1_l\n",
        "Higher_outlier_l = Q3_l + (IQR_l * 1.5)\n",
        "lower_outlier_l = Q1_l - (IQR_l * 1.5)\n",
        "\n",
        "Q1_d =  df_games['xgoal_diff'].loc[ (df_games['result_home'] == \"D\")].quantile(0.25)\n",
        "Q3_d = df_games['xgoal_diff'].loc[ (df_games['result_home'] == \"D\")].quantile(0.75)\n",
        "IQR_d = Q3_d - Q1_d\n",
        "Higher_outlier_d = Q3_d + (IQR_d * 1.5)\n",
        "lower_outlier_d = Q1_d - (IQR_d * 1.5)\n",
        "\n",
        "df_games = df_games[ ~((df_games['result_home'] == \"W\") & ((df_games['xgoal_diff'] > 1.4) | (df_games['xgoal_diff'] < -0.5 )))]\n",
        "df_games = df_games[ ~((df_games['result_home'] == \"L\") & ((df_games['xgoal_diff'] > 0.9) | (df_games['xgoal_diff'] < -0.9 ))) ]\n",
        "df_games = df_games[ ~((df_games['result_home'] == \"D\") & ((df_games['xgoal_diff'] > 1) | (df_games['xgoal_diff'] < -0.5 )))]\n"
      ]
    },
    {
      "cell_type": "code",
      "execution_count": 26,
      "metadata": {
        "id": "F-gYfX70LcId",
        "outputId": "dba5bc7c-8aeb-40b6-e8b6-f069b4450592",
        "colab": {
          "base_uri": "https://localhost:8080/"
        }
      },
      "outputs": [
        {
          "output_type": "execute_result",
          "data": {
            "text/plain": [
              "<AxesSubplot:xlabel='result_home', ylabel='xgoal_diff'>"
            ]
          },
          "metadata": {},
          "execution_count": 26
        }
      ],
      "source": [
        "figbi, axesbi = plt.subplots(1, 2, figsize=(20, 5))\n",
        "sns.boxplot(x=df_games.result_away, y=df_games.xgoal_diff, data=df_games,ax=axesbi[0])\n",
        "sns.boxplot(x=df_games.result_home, y=df_games.xgoal_diff, data=df_games,ax=axesbi[1])\n"
      ]
    },
    {
      "cell_type": "markdown",
      "metadata": {
        "id": "9D7O6ywey7tP"
      },
      "source": [
        "## <font color='#2ca18c'>4 - INGENIERIA DE DATOS</font> <a name=\"Ingenieria\"></a>"
      ]
    },
    {
      "cell_type": "code",
      "execution_count": 27,
      "metadata": {
        "id": "urlNZV0MpVkp"
      },
      "outputs": [],
      "source": [
        "df_games = df_games[['gameID', 'season', 'date', 'homeTeamID', 'awayTeamID', 'homeGoals',\n",
        "       'awayGoals','home_club_id', 'away_club_id','result_away','result_home', 'liga', 'home_name', 'away_name','diff_labels','totalGoals','goal_diff','xGoals_home_prom', 'xGoals_away_prom', 'xgoal_diff','xGoals_home', 'shots_home', 'shotsOnTarget_home',\n",
        "       'deep_home', 'ppda_home', 'corners_home',  'xGoals_away',\n",
        "       'shots_away', 'shotsOnTarget_away', 'deep_away', 'ppda_away',\n",
        "       'corners_away', \n",
        "       'shots_def_home', 'shots_del_home',\n",
        "       'shots_med_home', 'xGoals_def_home', 'xGoals_del_home',\n",
        "       'xGoals_med_home', 'xGoalsChain_def_home', 'xGoalsChain_del_home',\n",
        "       'xGoalsChain_med_home', 'assists_def_home', 'assists_del_home',\n",
        "       'assists_med_home', 'keyPasses_def_home', 'keyPasses_del_home',\n",
        "       'keyPasses_med_home', 'xAssists_def_home', 'xAssists_del_home',\n",
        "       'xAssists_med_home', 'shots_def_away', 'shots_del_away',\n",
        "       'shots_med_away', 'xGoals_def_away', 'xGoals_del_away',\n",
        "       'xGoals_med_away', 'xGoalsChain_def_away', 'xGoalsChain_del_away',\n",
        "       'xGoalsChain_med_away', 'assists_def_away', 'assists_del_away',\n",
        "       'assists_med_away', 'keyPasses_def_away', 'keyPasses_del_away',\n",
        "       'keyPasses_med_away', 'xAssists_def_away', 'xAssists_del_away',\n",
        "       'xAssists_med_away']]"
      ]
    },
    {
      "cell_type": "markdown",
      "metadata": {
        "id": "80nI8Ks7zD0F"
      },
      "source": [
        "> La siguiente funcion crea una nueva columna donde el 1 representa la victoria  y el 0 puede ser empate/derrota. La vamos a utilizar despues de realizar el escalado."
      ]
    },
    {
      "cell_type": "code",
      "execution_count": 28,
      "metadata": {
        "id": "W5amTaEDCm-W",
        "outputId": "191277e1-160f-4bdb-a5f5-aacef10c7525",
        "colab": {
          "base_uri": "https://localhost:8080/"
        }
      },
      "outputs": [
        {
          "output_type": "stream",
          "name": "stderr",
          "text": [
            "<ipython-input-28-4e1372468812>:8: SettingWithCopyWarning: \n",
            "A value is trying to be set on a copy of a slice from a DataFrame.\n",
            "Try using .loc[row_indexer,col_indexer] = value instead\n",
            "\n",
            "See the caveats in the documentation: https://pandas.pydata.org/pandas-docs/stable/user_guide/indexing.html#returning-a-view-versus-a-copy\n",
            "  df_games['all_result']=df_games['result_home'].apply(lambda x: whowin(x))\n"
          ]
        }
      ],
      "source": [
        "def whowin(x):\n",
        "  if x=='W':\n",
        "    return 1\n",
        " \n",
        "  else:\n",
        "    return 0\n",
        "  \n",
        "df_games['all_result']=df_games['result_home'].apply(lambda x: whowin(x))"
      ]
    },
    {
      "cell_type": "markdown",
      "metadata": {
        "id": "DFImgr6z0Y1E"
      },
      "source": [
        "### <font color='#2ca18c'>Escalado del dataset</font>\n",
        "\n",
        "\n"
      ]
    },
    {
      "cell_type": "code",
      "execution_count": 29,
      "metadata": {
        "id": "txwgJdV3z7he"
      },
      "outputs": [],
      "source": [
        "from sklearn.preprocessing import StandardScaler"
      ]
    },
    {
      "cell_type": "markdown",
      "metadata": {
        "id": "HVkpE9KlzRd9"
      },
      "source": [
        ">Se escaló utilizando el método de standard scaler  en todas las columnas salvo en season."
      ]
    },
    {
      "cell_type": "code",
      "execution_count": 30,
      "metadata": {
        "id": "Xml4vEUoTrUP"
      },
      "outputs": [],
      "source": [
        "df_games_df_teams_col=df_games[['season','date', 'gameID', 'homeTeamID', 'awayTeamID', 'result_home','all_result','xgoal_diff','xGoals_home', 'shots_home', 'shotsOnTarget_home',\n",
        "       'deep_home', 'ppda_home', 'corners_home',  'xGoals_away',\n",
        "       'shots_away', 'shotsOnTarget_away', 'deep_away', 'ppda_away',\n",
        "       'corners_away', \n",
        "       'shots_def_home', 'shots_del_home',\n",
        "       'shots_med_home', 'xGoals_def_home', 'xGoals_del_home',\n",
        "       'xGoals_med_home', 'xGoalsChain_def_home', 'xGoalsChain_del_home',\n",
        "       'xGoalsChain_med_home', 'assists_def_home', 'assists_del_home',\n",
        "       'assists_med_home', 'keyPasses_def_home', 'keyPasses_del_home',\n",
        "       'keyPasses_med_home', 'xAssists_def_home', 'xAssists_del_home',\n",
        "       'xAssists_med_home', 'shots_def_away', 'shots_del_away',\n",
        "       'shots_med_away', 'xGoals_def_away', 'xGoals_del_away',\n",
        "       'xGoals_med_away', 'xGoalsChain_def_away', 'xGoalsChain_del_away',\n",
        "       'xGoalsChain_med_away', 'assists_def_away', 'assists_del_away',\n",
        "       'assists_med_away', 'keyPasses_def_away', 'keyPasses_del_away',\n",
        "       'keyPasses_med_away', 'xAssists_def_away', 'xAssists_del_away',\n",
        "       'xAssists_med_away']]"
      ]
    },
    {
      "cell_type": "code",
      "execution_count": 31,
      "metadata": {
        "id": "avK0l3C_Cm-X"
      },
      "outputs": [],
      "source": [
        "df_games_df_teams_sum_season=df_games_df_teams_col[['season','all_result','date', 'gameID', 'homeTeamID', 'awayTeamID', 'result_home']]\n",
        "df_games_df_teams_col_no_season=df_games_df_teams_col[['xgoal_diff','xGoals_home', 'shots_home', 'shotsOnTarget_home',\n",
        "       'deep_home', 'ppda_home', 'corners_home',  'xGoals_away',\n",
        "       'shots_away', 'shotsOnTarget_away', 'deep_away', 'ppda_away',\n",
        "       'corners_away', \n",
        "       'shots_def_home', 'shots_del_home',\n",
        "       'shots_med_home', 'xGoals_def_home', 'xGoals_del_home',\n",
        "       'xGoals_med_home', 'xGoalsChain_def_home', 'xGoalsChain_del_home',\n",
        "       'xGoalsChain_med_home', 'assists_def_home', 'assists_del_home',\n",
        "       'assists_med_home', 'keyPasses_def_home', 'keyPasses_del_home',\n",
        "       'keyPasses_med_home', 'xAssists_def_home', 'xAssists_del_home',\n",
        "       'xAssists_med_home', 'shots_def_away', 'shots_del_away',\n",
        "       'shots_med_away', 'xGoals_def_away', 'xGoals_del_away',\n",
        "       'xGoals_med_away', 'xGoalsChain_def_away', 'xGoalsChain_del_away',\n",
        "       'xGoalsChain_med_away', 'assists_def_away', 'assists_del_away',\n",
        "       'assists_med_away', 'keyPasses_def_away', 'keyPasses_del_away',\n",
        "       'keyPasses_med_away', 'xAssists_def_away', 'xAssists_del_away',\n",
        "       'xAssists_med_away']]\n",
        "datos_escalados=StandardScaler().fit_transform(df_games_df_teams_col_no_season)"
      ]
    },
    {
      "cell_type": "code",
      "execution_count": 32,
      "metadata": {
        "id": "JlmcBApYTrUP"
      },
      "outputs": [],
      "source": [
        "df1_scaled=pd.DataFrame(datos_escalados,columns=['xgoal_diff','xGoals_home', 'shots_home', 'shotsOnTarget_home',\n",
        "       'deep_home', 'ppda_home', 'corners_home',  'xGoals_away',\n",
        "       'shots_away', 'shotsOnTarget_away', 'deep_away', 'ppda_away',\n",
        "       'corners_away', \n",
        "       'shots_def_home', 'shots_del_home',\n",
        "       'shots_med_home', 'xGoals_def_home', 'xGoals_del_home',\n",
        "       'xGoals_med_home', 'xGoalsChain_def_home', 'xGoalsChain_del_home',\n",
        "       'xGoalsChain_med_home', 'assists_def_home', 'assists_del_home',\n",
        "       'assists_med_home', 'keyPasses_def_home', 'keyPasses_del_home',\n",
        "       'keyPasses_med_home', 'xAssists_def_home', 'xAssists_del_home',\n",
        "       'xAssists_med_home', 'shots_def_away', 'shots_del_away',\n",
        "       'shots_med_away', 'xGoals_def_away', 'xGoals_del_away',\n",
        "       'xGoals_med_away', 'xGoalsChain_def_away', 'xGoalsChain_del_away',\n",
        "       'xGoalsChain_med_away', 'assists_def_away', 'assists_del_away',\n",
        "       'assists_med_away', 'keyPasses_def_away', 'keyPasses_del_away',\n",
        "       'keyPasses_med_away', 'xAssists_def_away', 'xAssists_del_away',\n",
        "       'xAssists_med_away'],index=df_games_df_teams_col_no_season.index)\n",
        "\n",
        "df_games_df_teams_sum=pd.concat([df_games_df_teams_sum_season,df1_scaled], axis=1)\n",
        "\n",
        "\n"
      ]
    },
    {
      "cell_type": "code",
      "execution_count": 33,
      "metadata": {
        "id": "5OZx-bgnTrUQ"
      },
      "outputs": [],
      "source": [
        "df_games_df_teams_sum.dropna(inplace=True)"
      ]
    },
    {
      "cell_type": "markdown",
      "metadata": {
        "id": "6mmhUkgw0DGy"
      },
      "source": [
        "> Elegimos las columnas que utilizaremos para el modelado."
      ]
    },
    {
      "cell_type": "code",
      "execution_count": 34,
      "metadata": {
        "id": "B_Atewc3TrUX",
        "outputId": "1a56675b-03e7-4f00-985e-6d89556244eb",
        "colab": {
          "base_uri": "https://localhost:8080/"
        }
      },
      "outputs": [
        {
          "output_type": "stream",
          "name": "stderr",
          "text": [
            "/usr/local/lib/python3.8/dist-packages/pandas/core/frame.py:4906: SettingWithCopyWarning: \n",
            "A value is trying to be set on a copy of a slice from a DataFrame\n",
            "\n",
            "See the caveats in the documentation: https://pandas.pydata.org/pandas-docs/stable/user_guide/indexing.html#returning-a-view-versus-a-copy\n",
            "  return super().drop(\n"
          ]
        }
      ],
      "source": [
        "df_roll=df_games_df_teams_sum[['date','all_result','season','gameID','homeTeamID','awayTeamID' ,'xgoal_diff','xGoals_home', 'shots_home', 'shotsOnTarget_home', 'deep_home',\n",
        "       'ppda_home',  'corners_home',\n",
        "       'xGoals_away', 'shots_away',\n",
        "       'shotsOnTarget_away', 'deep_away', 'ppda_away',\n",
        "       'corners_away','result_home', 'shots_def_home', 'shots_del_home',\n",
        "       'shots_med_home', 'xGoals_def_home', 'xGoals_del_home',\n",
        "       'xGoals_med_home', 'xGoalsChain_def_home', 'xGoalsChain_del_home',\n",
        "       'xGoalsChain_med_home', 'assists_def_home', 'assists_del_home',\n",
        "       'assists_med_home', 'keyPasses_def_home', 'keyPasses_del_home',\n",
        "       'keyPasses_med_home', 'xAssists_def_home', 'xAssists_del_home',\n",
        "       'xAssists_med_home', 'shots_def_away', 'shots_del_away',\n",
        "       'shots_med_away', 'xGoals_def_away', 'xGoals_del_away',\n",
        "       'xGoals_med_away', 'xGoalsChain_def_away', 'xGoalsChain_del_away',\n",
        "       'xGoalsChain_med_away', 'assists_def_away', 'assists_del_away',\n",
        "       'assists_med_away', 'keyPasses_def_away', 'keyPasses_del_away',\n",
        "       'keyPasses_med_away', 'xAssists_def_away', 'xAssists_del_away',\n",
        "       'xAssists_med_away']]\n",
        "\n",
        "\n",
        "df_roll.drop(columns='result_home',axis=1,inplace=True)\n"
      ]
    },
    {
      "cell_type": "markdown",
      "metadata": {
        "id": "SBIVmxGDTrUX"
      },
      "source": [
        "\n",
        "\n",
        "\n",
        "\n",
        "\n",
        "\n",
        "### <font color='#2ca18c'> Optimización de feature engineering</font>"
      ]
    },
    {
      "cell_type": "markdown",
      "metadata": {
        "id": "ixtH7-kEnw8I"
      },
      "source": [
        "> creamos una nueva columna donde se va a representar el promedio de los 3 ultimos xGoals de cada equipo, como tambien otras estadisticas de cada partido."
      ]
    },
    {
      "cell_type": "markdown",
      "metadata": {
        "id": "bHtBVaAlsoJy"
      },
      "source": [
        "> creamos una funcion donde va a tomar un grupo de un groupBy, las columnas de las cuales va crear una nueva columna con los promedios de los ultimos 3 partidos. El tercer parametro va a ser los nombres de las nuevas columnas."
      ]
    },
    {
      "cell_type": "code",
      "execution_count": 35,
      "metadata": {
        "id": "EJfczwEZTrUX"
      },
      "outputs": [],
      "source": [
        "def rolling_averages(group,cols,new_cols):\n",
        "    group=group.sort_values('date')\n",
        "    rolling_stats=group[cols].rolling(3,closed='left').mean()\n",
        "    group[new_cols]=rolling_stats\n",
        "    group=group.dropna(subset=new_cols)\n",
        "    return group"
      ]
    },
    {
      "cell_type": "code",
      "execution_count": 36,
      "metadata": {
        "id": "l3t5ILE3TrUX"
      },
      "outputs": [],
      "source": [
        "cols_home=['xGoals_home', 'shots_home', 'shotsOnTarget_home', 'deep_home',\n",
        "       'ppda_home',  'corners_home','shots_def_home', 'shots_del_home',\n",
        "       'shots_med_home', 'xGoals_def_home', 'xGoals_del_home',\n",
        "       'xGoals_med_home', 'xGoalsChain_def_home', 'xGoalsChain_del_home',\n",
        "       'xGoalsChain_med_home', 'assists_def_home', 'assists_del_home',\n",
        "       'assists_med_home', 'keyPasses_def_home', 'keyPasses_del_home',\n",
        "       'keyPasses_med_home', 'xAssists_def_home', 'xAssists_del_home',\n",
        "       'xAssists_med_home']\n",
        "new_cols_home=[f'{c}_rolling' for c in cols_home]\n"
      ]
    },
    {
      "cell_type": "code",
      "execution_count": 37,
      "metadata": {
        "id": "jy7sZG-RTrUX"
      },
      "outputs": [],
      "source": [
        "cols_away=['xGoals_away', 'shots_away',\n",
        "       'shotsOnTarget_away', 'deep_away', 'ppda_away',\n",
        "       'corners_away', 'shots_def_away', 'shots_del_away',\n",
        "       'shots_med_away', 'xGoals_def_away', 'xGoals_del_away',\n",
        "       'xGoals_med_away', 'xGoalsChain_def_away', 'xGoalsChain_del_away',\n",
        "       'xGoalsChain_med_away', 'assists_def_away', 'assists_del_away',\n",
        "       'assists_med_away', 'keyPasses_def_away', 'keyPasses_del_away',\n",
        "       'keyPasses_med_away', 'xAssists_def_away', 'xAssists_del_away',\n",
        "       'xAssists_med_away']\n",
        "new_cols_away=[f'{c}_rolling' for c in cols_away]"
      ]
    },
    {
      "cell_type": "code",
      "execution_count": 38,
      "metadata": {
        "id": "4uac0yUATrUY"
      },
      "outputs": [],
      "source": [
        "home_grouped_matches=df_roll.groupby('homeTeamID').apply(lambda x: rolling_averages(x,cols_home,new_cols_home) )\n",
        "away_grouped_matches=df_roll.groupby('awayTeamID').apply(lambda x: rolling_averages(x,cols_away,new_cols_away) )"
      ]
    },
    {
      "cell_type": "code",
      "execution_count": 39,
      "metadata": {
        "id": "ZPdFRHWpTrUY"
      },
      "outputs": [],
      "source": [
        "home_grouped_matches=home_grouped_matches.droplevel('homeTeamID')\n",
        "away_grouped_matches=away_grouped_matches.droplevel('awayTeamID')"
      ]
    },
    {
      "cell_type": "code",
      "execution_count": 40,
      "metadata": {
        "id": "xKQmnaeyTrUY"
      },
      "outputs": [],
      "source": [
        "home_rolling=home_grouped_matches[['gameID', 'xGoals_home_rolling', 'shots_home_rolling',\n",
        "       'shotsOnTarget_home_rolling', 'deep_home_rolling', 'ppda_home_rolling',\n",
        "       'corners_home_rolling', 'shots_def_home_rolling',\n",
        "       'shots_del_home_rolling', 'shots_med_home_rolling',\n",
        "       'xGoals_def_home_rolling', 'xGoals_del_home_rolling',\n",
        "       'xGoals_med_home_rolling', 'xGoalsChain_def_home_rolling',\n",
        "       'xGoalsChain_del_home_rolling', 'xGoalsChain_med_home_rolling',\n",
        "       'assists_def_home_rolling', 'assists_del_home_rolling',\n",
        "       'assists_med_home_rolling', 'keyPasses_def_home_rolling',\n",
        "       'keyPasses_del_home_rolling', 'keyPasses_med_home_rolling',\n",
        "       'xAssists_def_home_rolling', 'xAssists_del_home_rolling',\n",
        "       'xAssists_med_home_rolling']]\n",
        "\n",
        "away_rolling=away_grouped_matches[['gameID','xGoals_away_rolling', 'shots_away_rolling',\n",
        "       'shotsOnTarget_away_rolling', 'deep_away_rolling', 'ppda_away_rolling',\n",
        "       'corners_away_rolling', 'shots_def_away_rolling',\n",
        "       'shots_del_away_rolling', 'shots_med_away_rolling',\n",
        "       'xGoals_def_away_rolling', 'xGoals_del_away_rolling',\n",
        "       'xGoals_med_away_rolling', 'xGoalsChain_def_away_rolling',\n",
        "       'xGoalsChain_del_away_rolling', 'xGoalsChain_med_away_rolling',\n",
        "       'assists_def_away_rolling', 'assists_del_away_rolling',\n",
        "       'assists_med_away_rolling', 'keyPasses_def_away_rolling',\n",
        "       'keyPasses_del_away_rolling', 'keyPasses_med_away_rolling',\n",
        "       'xAssists_def_away_rolling', 'xAssists_del_away_rolling',\n",
        "       'xAssists_med_away_rolling']]\n",
        "\n",
        "home_away=pd.merge(home_rolling,away_rolling)\n",
        "df_roll=pd.merge(df_roll,home_away)\n"
      ]
    },
    {
      "cell_type": "code",
      "execution_count": 41,
      "metadata": {
        "id": "ZwzRbjXqOEFr",
        "outputId": "512f8b2c-d190-41c0-d571-334f92103d42",
        "colab": {
          "base_uri": "https://localhost:8080/"
        }
      },
      "outputs": [
        {
          "output_type": "execute_result",
          "data": {
            "text/plain": [
              "Index(['date', 'all_result', 'season', 'gameID', 'homeTeamID', 'awayTeamID',\n",
              "       'xgoal_diff', 'xGoals_home', 'shots_home', 'shotsOnTarget_home',\n",
              "       'deep_home', 'ppda_home', 'corners_home', 'xGoals_away', 'shots_away',\n",
              "       'shotsOnTarget_away', 'deep_away', 'ppda_away', 'corners_away',\n",
              "       'shots_def_home', 'shots_del_home', 'shots_med_home', 'xGoals_def_home',\n",
              "       'xGoals_del_home', 'xGoals_med_home', 'xGoalsChain_def_home',\n",
              "       'xGoalsChain_del_home', 'xGoalsChain_med_home', 'assists_def_home',\n",
              "       'assists_del_home', 'assists_med_home', 'keyPasses_def_home',\n",
              "       'keyPasses_del_home', 'keyPasses_med_home', 'xAssists_def_home',\n",
              "       'xAssists_del_home', 'xAssists_med_home', 'shots_def_away',\n",
              "       'shots_del_away', 'shots_med_away', 'xGoals_def_away',\n",
              "       'xGoals_del_away', 'xGoals_med_away', 'xGoalsChain_def_away',\n",
              "       'xGoalsChain_del_away', 'xGoalsChain_med_away', 'assists_def_away',\n",
              "       'assists_del_away', 'assists_med_away', 'keyPasses_def_away',\n",
              "       'keyPasses_del_away', 'keyPasses_med_away', 'xAssists_def_away',\n",
              "       'xAssists_del_away', 'xAssists_med_away', 'xGoals_home_rolling',\n",
              "       'shots_home_rolling', 'shotsOnTarget_home_rolling', 'deep_home_rolling',\n",
              "       'ppda_home_rolling', 'corners_home_rolling', 'shots_def_home_rolling',\n",
              "       'shots_del_home_rolling', 'shots_med_home_rolling',\n",
              "       'xGoals_def_home_rolling', 'xGoals_del_home_rolling',\n",
              "       'xGoals_med_home_rolling', 'xGoalsChain_def_home_rolling',\n",
              "       'xGoalsChain_del_home_rolling', 'xGoalsChain_med_home_rolling',\n",
              "       'assists_def_home_rolling', 'assists_del_home_rolling',\n",
              "       'assists_med_home_rolling', 'keyPasses_def_home_rolling',\n",
              "       'keyPasses_del_home_rolling', 'keyPasses_med_home_rolling',\n",
              "       'xAssists_def_home_rolling', 'xAssists_del_home_rolling',\n",
              "       'xAssists_med_home_rolling', 'xGoals_away_rolling',\n",
              "       'shots_away_rolling', 'shotsOnTarget_away_rolling', 'deep_away_rolling',\n",
              "       'ppda_away_rolling', 'corners_away_rolling', 'shots_def_away_rolling',\n",
              "       'shots_del_away_rolling', 'shots_med_away_rolling',\n",
              "       'xGoals_def_away_rolling', 'xGoals_del_away_rolling',\n",
              "       'xGoals_med_away_rolling', 'xGoalsChain_def_away_rolling',\n",
              "       'xGoalsChain_del_away_rolling', 'xGoalsChain_med_away_rolling',\n",
              "       'assists_def_away_rolling', 'assists_del_away_rolling',\n",
              "       'assists_med_away_rolling', 'keyPasses_def_away_rolling',\n",
              "       'keyPasses_del_away_rolling', 'keyPasses_med_away_rolling',\n",
              "       'xAssists_def_away_rolling', 'xAssists_del_away_rolling',\n",
              "       'xAssists_med_away_rolling'],\n",
              "      dtype='object')"
            ]
          },
          "metadata": {},
          "execution_count": 41
        }
      ],
      "source": [
        "pd.options.display.max_seq_items = 2000\n",
        "df_roll.columns\n"
      ]
    },
    {
      "cell_type": "code",
      "execution_count": 42,
      "metadata": {
        "id": "Iz4Y5GKDTrUY",
        "outputId": "834f0b99-9092-4188-c0b6-fd417f264efe",
        "colab": {
          "base_uri": "https://localhost:8080/"
        }
      },
      "outputs": [
        {
          "output_type": "stream",
          "name": "stderr",
          "text": [
            "<ipython-input-42-633af188f76f>:26: SettingWithCopyWarning: \n",
            "A value is trying to be set on a copy of a slice from a DataFrame.\n",
            "Try using .loc[row_indexer,col_indexer] = value instead\n",
            "\n",
            "See the caveats in the documentation: https://pandas.pydata.org/pandas-docs/stable/user_guide/indexing.html#returning-a-view-versus-a-copy\n",
            "  df_roll['date']=pd.to_datetime(df_roll['date'])\n",
            "<ipython-input-42-633af188f76f>:27: SettingWithCopyWarning: \n",
            "A value is trying to be set on a copy of a slice from a DataFrame.\n",
            "Try using .loc[row_indexer,col_indexer] = value instead\n",
            "\n",
            "See the caveats in the documentation: https://pandas.pydata.org/pandas-docs/stable/user_guide/indexing.html#returning-a-view-versus-a-copy\n",
            "  df_roll['date']=pd.to_datetime(df_roll['date'].dt.date)\n",
            "/usr/local/lib/python3.8/dist-packages/pandas/util/_decorators.py:311: SettingWithCopyWarning: \n",
            "A value is trying to be set on a copy of a slice from a DataFrame\n",
            "\n",
            "See the caveats in the documentation: https://pandas.pydata.org/pandas-docs/stable/user_guide/indexing.html#returning-a-view-versus-a-copy\n",
            "  return func(*args, **kwargs)\n"
          ]
        }
      ],
      "source": [
        "df_roll=df_roll[['date','all_result','season', 'xgoal_diff',\n",
        "       'xGoals_home_rolling', 'shots_home_rolling',\n",
        "       'shotsOnTarget_home_rolling', 'deep_home_rolling', 'ppda_home_rolling',\n",
        "       'corners_home_rolling', 'shots_def_home_rolling',\n",
        "       'shots_del_home_rolling', 'shots_med_home_rolling',\n",
        "       'xGoals_def_home_rolling', 'xGoals_del_home_rolling',\n",
        "       'xGoals_med_home_rolling', 'xGoalsChain_def_home_rolling',\n",
        "       'xGoalsChain_del_home_rolling', 'xGoalsChain_med_home_rolling',\n",
        "       'assists_def_home_rolling', 'assists_del_home_rolling',\n",
        "       'assists_med_home_rolling', 'keyPasses_def_home_rolling',\n",
        "       'keyPasses_del_home_rolling', 'keyPasses_med_home_rolling',\n",
        "       'xAssists_def_home_rolling', 'xAssists_del_home_rolling',\n",
        "       'xAssists_med_home_rolling','xGoals_away_rolling', 'shots_away_rolling',\n",
        "       'shotsOnTarget_away_rolling', 'deep_away_rolling', 'ppda_away_rolling',\n",
        "       'corners_away_rolling', 'shots_def_away_rolling',\n",
        "       'shots_del_away_rolling', 'shots_med_away_rolling',\n",
        "       'xGoals_def_away_rolling', 'xGoals_del_away_rolling',\n",
        "       'xGoals_med_away_rolling', 'xGoalsChain_def_away_rolling',\n",
        "       'xGoalsChain_del_away_rolling', 'xGoalsChain_med_away_rolling',\n",
        "       'assists_def_away_rolling', 'assists_del_away_rolling',\n",
        "       'assists_med_away_rolling', 'keyPasses_def_away_rolling',\n",
        "       'keyPasses_del_away_rolling', 'keyPasses_med_away_rolling',\n",
        "       'xAssists_def_away_rolling', 'xAssists_del_away_rolling',\n",
        "       'xAssists_med_away_rolling']]\n",
        "\n",
        "df_roll['date']=pd.to_datetime(df_roll['date'])\n",
        "df_roll['date']=pd.to_datetime(df_roll['date'].dt.date)\n",
        "df_roll.sort_values(by='date',inplace=True)\n",
        "\n",
        "test=df_roll.loc[df_roll[\"season\"]>2018]\n",
        "train=df_roll.loc[df_roll[\"season\"]<=2017]\n",
        "\n",
        "\n",
        "\n",
        "y_train = train['all_result']\n",
        "x_train = train.drop('all_result',axis= 1)\n",
        "\n",
        "y_test = test['all_result']\n",
        "x_test = test.drop('all_result',axis= 1)\n"
      ]
    },
    {
      "cell_type": "code",
      "execution_count": 43,
      "metadata": {
        "id": "G6av9AXVOEFs"
      },
      "outputs": [],
      "source": [
        "\n",
        "x_train = x_train.drop(columns={'season','date'},axis= 1)\n",
        "x_test = x_test.drop(columns={'season','date'},axis= 1)"
      ]
    },
    {
      "cell_type": "markdown",
      "metadata": {
        "id": "C0frlJ89S6Hg"
      },
      "source": [
        "## <font color='#2ca18c'>5 - MODELADO </font> <a name=\"Modelado\"></a>"
      ]
    },
    {
      "cell_type": "markdown",
      "metadata": {
        "id": "SNZCqxOk0kcM"
      },
      "source": [
        ">Importamos los paquetes necesarios.\n"
      ]
    },
    {
      "cell_type": "code",
      "execution_count": 44,
      "metadata": {
        "id": "8dLH5yyQnmNs"
      },
      "outputs": [],
      "source": [
        "import sklearn.preprocessing \n",
        "\n",
        "from sklearn import metrics\n",
        "from sklearn.metrics import accuracy_score\n",
        "from sklearn.tree import DecisionTreeClassifier  #arbol de decision\n",
        "from sklearn import tree #arbol de decision\n",
        "from sklearn.ensemble import RandomForestClassifier\n",
        "from sklearn.linear_model import LogisticRegression\n",
        "from sklearn.model_selection import train_test_split\n",
        "\n",
        "from sklearn.metrics import confusion_matrix, ConfusionMatrixDisplay"
      ]
    },
    {
      "cell_type": "code",
      "execution_count": 45,
      "metadata": {
        "id": "rL2hmM8YOEFs"
      },
      "outputs": [],
      "source": [
        "\n",
        "x = df_roll.loc[:, df_roll.columns != 'all_result']\n",
        "y = df_roll.loc[:, df_roll.columns == 'all_result']\n",
        "\n",
        "x.drop(columns={'date','season'},inplace=True)\n",
        "\n"
      ]
    },
    {
      "cell_type": "code",
      "execution_count": 46,
      "metadata": {
        "id": "IcGwv0M-OEFs",
        "outputId": "de651cac-0d5d-45bb-80fb-5b24d16a4bfa",
        "colab": {
          "base_uri": "https://localhost:8080/",
          "height": 488
        }
      },
      "outputs": [
        {
          "output_type": "execute_result",
          "data": {
            "text/plain": [
              "       xgoal_diff  xGoals_home_rolling  shots_home_rolling  \\\n",
              "10922    0.444591            -0.635696           -1.275316   \n",
              "9793     1.559327             0.141917            0.347421   \n",
              "10489   -0.897009            -0.117384           -0.042036   \n",
              "9173     0.265111             0.236391            0.087783   \n",
              "10989    0.449519            -0.421781           -0.496402   \n",
              "...           ...                  ...                 ...   \n",
              "575      1.600200             0.378584           -0.431492   \n",
              "7855    -0.091720            -0.006390           -0.885859   \n",
              "11248   -0.199160            -0.830840           -1.015678   \n",
              "9380    -0.174813            -0.036621            0.022874   \n",
              "2665    -0.739006             0.298430            0.347421   \n",
              "\n",
              "       shotsOnTarget_home_rolling  deep_home_rolling  ppda_home_rolling  \\\n",
              "10922                   -0.393978          -0.634214           0.239976   \n",
              "9793                    -0.128430           0.042000          -0.460176   \n",
              "10489                   -0.659526          -0.549688          -0.254002   \n",
              "9173                     0.004344           0.549161          -0.000765   \n",
              "10989                   -0.128430          -0.972322           0.261012   \n",
              "...                           ...                ...                ...   \n",
              "575                      0.137118           0.464635          -0.399324   \n",
              "7855                    -0.393978          -0.211580           0.000547   \n",
              "11248                   -0.925073          -0.549688           1.295611   \n",
              "9380                    -0.261204           0.126527          -0.176232   \n",
              "2665                     0.137118           0.802742          -0.310701   \n",
              "\n",
              "       corners_home_rolling  shots_def_home_rolling  shots_del_home_rolling  \\\n",
              "10922             -0.719055               -1.007749               -0.612215   \n",
              "9793              -0.031007                0.017329                0.901997   \n",
              "10489             -0.375031                0.837391               -0.359847   \n",
              "9173               0.427691               -0.187687                0.986120   \n",
              "10989              0.198342                0.632375               -1.032830   \n",
              "...                     ...                     ...                     ...   \n",
              "575                0.427691               -0.392702               -1.201076   \n",
              "7855              -0.489706                0.017329               -0.528092   \n",
              "11248             -1.063078               -0.392702               -0.696338   \n",
              "9380               0.427691                0.837391               -0.443969   \n",
              "2665              -0.145682               -0.392702                0.481383   \n",
              "\n",
              "       shots_med_home_rolling  ...  xGoalsChain_med_away_rolling  \\\n",
              "10922               -0.867126  ...                     -0.687323   \n",
              "9793                -0.624332  ...                     -0.585892   \n",
              "10489               -0.017347  ...                     -0.136768   \n",
              "9173                -1.109920  ...                      0.146346   \n",
              "10989                0.225447  ...                     -0.807864   \n",
              "...                       ...  ...                           ...   \n",
              "575                  1.196623  ...                      0.141378   \n",
              "7855                -0.867126  ...                     -0.490882   \n",
              "11248               -0.624332  ...                     -0.051746   \n",
              "9380                 0.225447  ...                     -0.312780   \n",
              "2665                 0.225447  ...                      0.858652   \n",
              "\n",
              "       assists_def_away_rolling  assists_del_away_rolling  \\\n",
              "10922                 -0.371219                 -0.612199   \n",
              "9793                  -0.371219                 -0.612199   \n",
              "10489                  0.499867                 -0.131924   \n",
              "9173                   0.499867                  0.348351   \n",
              "10989                 -0.371219                  0.348351   \n",
              "...                         ...                       ...   \n",
              "575                    0.499867                 -0.612199   \n",
              "7855                   0.499867                 -0.612199   \n",
              "11248                 -0.371219                  0.348351   \n",
              "9380                   0.499867                  0.348351   \n",
              "2665                  -0.371219                 -0.131924   \n",
              "\n",
              "       assists_med_away_rolling  keyPasses_def_away_rolling  \\\n",
              "10922                 -0.480315                   -0.343292   \n",
              "9793                   0.147124                   -0.571271   \n",
              "10489                  0.147124                    1.252562   \n",
              "9173                   0.147124                   -0.115313   \n",
              "10989                 -0.480315                   -0.343292   \n",
              "...                         ...                         ...   \n",
              "575                   -0.480315                    0.340646   \n",
              "7855                  -0.480315                    1.252562   \n",
              "11248                  0.774562                   -0.799250   \n",
              "9380                   0.147124                   -0.115313   \n",
              "2665                  -0.480315                   -0.343292   \n",
              "\n",
              "       keyPasses_del_away_rolling  keyPasses_med_away_rolling  \\\n",
              "10922                   -0.848466                   -0.083182   \n",
              "9793                     0.136800                   -0.368578   \n",
              "10489                   -0.478991                   -0.225880   \n",
              "9173                    -0.478991                   -0.225880   \n",
              "10989                    0.013642                   -0.939368   \n",
              "...                           ...                         ...   \n",
              "575                     -1.217941                   -0.083182   \n",
              "7855                    -0.971625                    0.487608   \n",
              "11248                    0.259958                    0.487608   \n",
              "9380                     0.013642                   -0.368578   \n",
              "2665                    -0.355833                    1.058399   \n",
              "\n",
              "       xAssists_def_away_rolling  xAssists_del_away_rolling  \\\n",
              "10922                  -0.285277                  -0.772079   \n",
              "9793                   -0.367399                  -0.674188   \n",
              "10489                   0.770596                  -0.589712   \n",
              "9173                   -0.265916                  -0.630102   \n",
              "10989                  -0.432309                  -0.336971   \n",
              "...                          ...                        ...   \n",
              "575                     0.296709                  -0.893958   \n",
              "7855                    0.045926                  -0.790467   \n",
              "11248                  -0.591074                  -0.055982   \n",
              "9380                   -0.166574                   0.477298   \n",
              "2665                   -0.185793                  -0.490617   \n",
              "\n",
              "       xAssists_med_away_rolling  \n",
              "10922                  -0.271597  \n",
              "9793                   -0.010191  \n",
              "10489                  -0.386841  \n",
              "9173                   -0.173800  \n",
              "10989                  -0.753459  \n",
              "...                          ...  \n",
              "575                     0.815121  \n",
              "7855                   -0.097065  \n",
              "11248                  -0.099012  \n",
              "9380                   -0.511149  \n",
              "2665                    1.070253  \n",
              "\n",
              "[11290 rows x 49 columns]"
            ],
            "text/html": [
              "\n",
              "  <div id=\"df-edfcd0b5-b3fa-4b84-81e4-bcd61e2025b8\">\n",
              "    <div class=\"colab-df-container\">\n",
              "      <div>\n",
              "<style scoped>\n",
              "    .dataframe tbody tr th:only-of-type {\n",
              "        vertical-align: middle;\n",
              "    }\n",
              "\n",
              "    .dataframe tbody tr th {\n",
              "        vertical-align: top;\n",
              "    }\n",
              "\n",
              "    .dataframe thead th {\n",
              "        text-align: right;\n",
              "    }\n",
              "</style>\n",
              "<table border=\"1\" class=\"dataframe\">\n",
              "  <thead>\n",
              "    <tr style=\"text-align: right;\">\n",
              "      <th></th>\n",
              "      <th>xgoal_diff</th>\n",
              "      <th>xGoals_home_rolling</th>\n",
              "      <th>shots_home_rolling</th>\n",
              "      <th>shotsOnTarget_home_rolling</th>\n",
              "      <th>deep_home_rolling</th>\n",
              "      <th>ppda_home_rolling</th>\n",
              "      <th>corners_home_rolling</th>\n",
              "      <th>shots_def_home_rolling</th>\n",
              "      <th>shots_del_home_rolling</th>\n",
              "      <th>shots_med_home_rolling</th>\n",
              "      <th>...</th>\n",
              "      <th>xGoalsChain_med_away_rolling</th>\n",
              "      <th>assists_def_away_rolling</th>\n",
              "      <th>assists_del_away_rolling</th>\n",
              "      <th>assists_med_away_rolling</th>\n",
              "      <th>keyPasses_def_away_rolling</th>\n",
              "      <th>keyPasses_del_away_rolling</th>\n",
              "      <th>keyPasses_med_away_rolling</th>\n",
              "      <th>xAssists_def_away_rolling</th>\n",
              "      <th>xAssists_del_away_rolling</th>\n",
              "      <th>xAssists_med_away_rolling</th>\n",
              "    </tr>\n",
              "  </thead>\n",
              "  <tbody>\n",
              "    <tr>\n",
              "      <th>10922</th>\n",
              "      <td>0.444591</td>\n",
              "      <td>-0.635696</td>\n",
              "      <td>-1.275316</td>\n",
              "      <td>-0.393978</td>\n",
              "      <td>-0.634214</td>\n",
              "      <td>0.239976</td>\n",
              "      <td>-0.719055</td>\n",
              "      <td>-1.007749</td>\n",
              "      <td>-0.612215</td>\n",
              "      <td>-0.867126</td>\n",
              "      <td>...</td>\n",
              "      <td>-0.687323</td>\n",
              "      <td>-0.371219</td>\n",
              "      <td>-0.612199</td>\n",
              "      <td>-0.480315</td>\n",
              "      <td>-0.343292</td>\n",
              "      <td>-0.848466</td>\n",
              "      <td>-0.083182</td>\n",
              "      <td>-0.285277</td>\n",
              "      <td>-0.772079</td>\n",
              "      <td>-0.271597</td>\n",
              "    </tr>\n",
              "    <tr>\n",
              "      <th>9793</th>\n",
              "      <td>1.559327</td>\n",
              "      <td>0.141917</td>\n",
              "      <td>0.347421</td>\n",
              "      <td>-0.128430</td>\n",
              "      <td>0.042000</td>\n",
              "      <td>-0.460176</td>\n",
              "      <td>-0.031007</td>\n",
              "      <td>0.017329</td>\n",
              "      <td>0.901997</td>\n",
              "      <td>-0.624332</td>\n",
              "      <td>...</td>\n",
              "      <td>-0.585892</td>\n",
              "      <td>-0.371219</td>\n",
              "      <td>-0.612199</td>\n",
              "      <td>0.147124</td>\n",
              "      <td>-0.571271</td>\n",
              "      <td>0.136800</td>\n",
              "      <td>-0.368578</td>\n",
              "      <td>-0.367399</td>\n",
              "      <td>-0.674188</td>\n",
              "      <td>-0.010191</td>\n",
              "    </tr>\n",
              "    <tr>\n",
              "      <th>10489</th>\n",
              "      <td>-0.897009</td>\n",
              "      <td>-0.117384</td>\n",
              "      <td>-0.042036</td>\n",
              "      <td>-0.659526</td>\n",
              "      <td>-0.549688</td>\n",
              "      <td>-0.254002</td>\n",
              "      <td>-0.375031</td>\n",
              "      <td>0.837391</td>\n",
              "      <td>-0.359847</td>\n",
              "      <td>-0.017347</td>\n",
              "      <td>...</td>\n",
              "      <td>-0.136768</td>\n",
              "      <td>0.499867</td>\n",
              "      <td>-0.131924</td>\n",
              "      <td>0.147124</td>\n",
              "      <td>1.252562</td>\n",
              "      <td>-0.478991</td>\n",
              "      <td>-0.225880</td>\n",
              "      <td>0.770596</td>\n",
              "      <td>-0.589712</td>\n",
              "      <td>-0.386841</td>\n",
              "    </tr>\n",
              "    <tr>\n",
              "      <th>9173</th>\n",
              "      <td>0.265111</td>\n",
              "      <td>0.236391</td>\n",
              "      <td>0.087783</td>\n",
              "      <td>0.004344</td>\n",
              "      <td>0.549161</td>\n",
              "      <td>-0.000765</td>\n",
              "      <td>0.427691</td>\n",
              "      <td>-0.187687</td>\n",
              "      <td>0.986120</td>\n",
              "      <td>-1.109920</td>\n",
              "      <td>...</td>\n",
              "      <td>0.146346</td>\n",
              "      <td>0.499867</td>\n",
              "      <td>0.348351</td>\n",
              "      <td>0.147124</td>\n",
              "      <td>-0.115313</td>\n",
              "      <td>-0.478991</td>\n",
              "      <td>-0.225880</td>\n",
              "      <td>-0.265916</td>\n",
              "      <td>-0.630102</td>\n",
              "      <td>-0.173800</td>\n",
              "    </tr>\n",
              "    <tr>\n",
              "      <th>10989</th>\n",
              "      <td>0.449519</td>\n",
              "      <td>-0.421781</td>\n",
              "      <td>-0.496402</td>\n",
              "      <td>-0.128430</td>\n",
              "      <td>-0.972322</td>\n",
              "      <td>0.261012</td>\n",
              "      <td>0.198342</td>\n",
              "      <td>0.632375</td>\n",
              "      <td>-1.032830</td>\n",
              "      <td>0.225447</td>\n",
              "      <td>...</td>\n",
              "      <td>-0.807864</td>\n",
              "      <td>-0.371219</td>\n",
              "      <td>0.348351</td>\n",
              "      <td>-0.480315</td>\n",
              "      <td>-0.343292</td>\n",
              "      <td>0.013642</td>\n",
              "      <td>-0.939368</td>\n",
              "      <td>-0.432309</td>\n",
              "      <td>-0.336971</td>\n",
              "      <td>-0.753459</td>\n",
              "    </tr>\n",
              "    <tr>\n",
              "      <th>...</th>\n",
              "      <td>...</td>\n",
              "      <td>...</td>\n",
              "      <td>...</td>\n",
              "      <td>...</td>\n",
              "      <td>...</td>\n",
              "      <td>...</td>\n",
              "      <td>...</td>\n",
              "      <td>...</td>\n",
              "      <td>...</td>\n",
              "      <td>...</td>\n",
              "      <td>...</td>\n",
              "      <td>...</td>\n",
              "      <td>...</td>\n",
              "      <td>...</td>\n",
              "      <td>...</td>\n",
              "      <td>...</td>\n",
              "      <td>...</td>\n",
              "      <td>...</td>\n",
              "      <td>...</td>\n",
              "      <td>...</td>\n",
              "      <td>...</td>\n",
              "    </tr>\n",
              "    <tr>\n",
              "      <th>575</th>\n",
              "      <td>1.600200</td>\n",
              "      <td>0.378584</td>\n",
              "      <td>-0.431492</td>\n",
              "      <td>0.137118</td>\n",
              "      <td>0.464635</td>\n",
              "      <td>-0.399324</td>\n",
              "      <td>0.427691</td>\n",
              "      <td>-0.392702</td>\n",
              "      <td>-1.201076</td>\n",
              "      <td>1.196623</td>\n",
              "      <td>...</td>\n",
              "      <td>0.141378</td>\n",
              "      <td>0.499867</td>\n",
              "      <td>-0.612199</td>\n",
              "      <td>-0.480315</td>\n",
              "      <td>0.340646</td>\n",
              "      <td>-1.217941</td>\n",
              "      <td>-0.083182</td>\n",
              "      <td>0.296709</td>\n",
              "      <td>-0.893958</td>\n",
              "      <td>0.815121</td>\n",
              "    </tr>\n",
              "    <tr>\n",
              "      <th>7855</th>\n",
              "      <td>-0.091720</td>\n",
              "      <td>-0.006390</td>\n",
              "      <td>-0.885859</td>\n",
              "      <td>-0.393978</td>\n",
              "      <td>-0.211580</td>\n",
              "      <td>0.000547</td>\n",
              "      <td>-0.489706</td>\n",
              "      <td>0.017329</td>\n",
              "      <td>-0.528092</td>\n",
              "      <td>-0.867126</td>\n",
              "      <td>...</td>\n",
              "      <td>-0.490882</td>\n",
              "      <td>0.499867</td>\n",
              "      <td>-0.612199</td>\n",
              "      <td>-0.480315</td>\n",
              "      <td>1.252562</td>\n",
              "      <td>-0.971625</td>\n",
              "      <td>0.487608</td>\n",
              "      <td>0.045926</td>\n",
              "      <td>-0.790467</td>\n",
              "      <td>-0.097065</td>\n",
              "    </tr>\n",
              "    <tr>\n",
              "      <th>11248</th>\n",
              "      <td>-0.199160</td>\n",
              "      <td>-0.830840</td>\n",
              "      <td>-1.015678</td>\n",
              "      <td>-0.925073</td>\n",
              "      <td>-0.549688</td>\n",
              "      <td>1.295611</td>\n",
              "      <td>-1.063078</td>\n",
              "      <td>-0.392702</td>\n",
              "      <td>-0.696338</td>\n",
              "      <td>-0.624332</td>\n",
              "      <td>...</td>\n",
              "      <td>-0.051746</td>\n",
              "      <td>-0.371219</td>\n",
              "      <td>0.348351</td>\n",
              "      <td>0.774562</td>\n",
              "      <td>-0.799250</td>\n",
              "      <td>0.259958</td>\n",
              "      <td>0.487608</td>\n",
              "      <td>-0.591074</td>\n",
              "      <td>-0.055982</td>\n",
              "      <td>-0.099012</td>\n",
              "    </tr>\n",
              "    <tr>\n",
              "      <th>9380</th>\n",
              "      <td>-0.174813</td>\n",
              "      <td>-0.036621</td>\n",
              "      <td>0.022874</td>\n",
              "      <td>-0.261204</td>\n",
              "      <td>0.126527</td>\n",
              "      <td>-0.176232</td>\n",
              "      <td>0.427691</td>\n",
              "      <td>0.837391</td>\n",
              "      <td>-0.443969</td>\n",
              "      <td>0.225447</td>\n",
              "      <td>...</td>\n",
              "      <td>-0.312780</td>\n",
              "      <td>0.499867</td>\n",
              "      <td>0.348351</td>\n",
              "      <td>0.147124</td>\n",
              "      <td>-0.115313</td>\n",
              "      <td>0.013642</td>\n",
              "      <td>-0.368578</td>\n",
              "      <td>-0.166574</td>\n",
              "      <td>0.477298</td>\n",
              "      <td>-0.511149</td>\n",
              "    </tr>\n",
              "    <tr>\n",
              "      <th>2665</th>\n",
              "      <td>-0.739006</td>\n",
              "      <td>0.298430</td>\n",
              "      <td>0.347421</td>\n",
              "      <td>0.137118</td>\n",
              "      <td>0.802742</td>\n",
              "      <td>-0.310701</td>\n",
              "      <td>-0.145682</td>\n",
              "      <td>-0.392702</td>\n",
              "      <td>0.481383</td>\n",
              "      <td>0.225447</td>\n",
              "      <td>...</td>\n",
              "      <td>0.858652</td>\n",
              "      <td>-0.371219</td>\n",
              "      <td>-0.131924</td>\n",
              "      <td>-0.480315</td>\n",
              "      <td>-0.343292</td>\n",
              "      <td>-0.355833</td>\n",
              "      <td>1.058399</td>\n",
              "      <td>-0.185793</td>\n",
              "      <td>-0.490617</td>\n",
              "      <td>1.070253</td>\n",
              "    </tr>\n",
              "  </tbody>\n",
              "</table>\n",
              "<p>11290 rows × 49 columns</p>\n",
              "</div>\n",
              "      <button class=\"colab-df-convert\" onclick=\"convertToInteractive('df-edfcd0b5-b3fa-4b84-81e4-bcd61e2025b8')\"\n",
              "              title=\"Convert this dataframe to an interactive table.\"\n",
              "              style=\"display:none;\">\n",
              "        \n",
              "  <svg xmlns=\"http://www.w3.org/2000/svg\" height=\"24px\"viewBox=\"0 0 24 24\"\n",
              "       width=\"24px\">\n",
              "    <path d=\"M0 0h24v24H0V0z\" fill=\"none\"/>\n",
              "    <path d=\"M18.56 5.44l.94 2.06.94-2.06 2.06-.94-2.06-.94-.94-2.06-.94 2.06-2.06.94zm-11 1L8.5 8.5l.94-2.06 2.06-.94-2.06-.94L8.5 2.5l-.94 2.06-2.06.94zm10 10l.94 2.06.94-2.06 2.06-.94-2.06-.94-.94-2.06-.94 2.06-2.06.94z\"/><path d=\"M17.41 7.96l-1.37-1.37c-.4-.4-.92-.59-1.43-.59-.52 0-1.04.2-1.43.59L10.3 9.45l-7.72 7.72c-.78.78-.78 2.05 0 2.83L4 21.41c.39.39.9.59 1.41.59.51 0 1.02-.2 1.41-.59l7.78-7.78 2.81-2.81c.8-.78.8-2.07 0-2.86zM5.41 20L4 18.59l7.72-7.72 1.47 1.35L5.41 20z\"/>\n",
              "  </svg>\n",
              "      </button>\n",
              "      \n",
              "  <style>\n",
              "    .colab-df-container {\n",
              "      display:flex;\n",
              "      flex-wrap:wrap;\n",
              "      gap: 12px;\n",
              "    }\n",
              "\n",
              "    .colab-df-convert {\n",
              "      background-color: #E8F0FE;\n",
              "      border: none;\n",
              "      border-radius: 50%;\n",
              "      cursor: pointer;\n",
              "      display: none;\n",
              "      fill: #1967D2;\n",
              "      height: 32px;\n",
              "      padding: 0 0 0 0;\n",
              "      width: 32px;\n",
              "    }\n",
              "\n",
              "    .colab-df-convert:hover {\n",
              "      background-color: #E2EBFA;\n",
              "      box-shadow: 0px 1px 2px rgba(60, 64, 67, 0.3), 0px 1px 3px 1px rgba(60, 64, 67, 0.15);\n",
              "      fill: #174EA6;\n",
              "    }\n",
              "\n",
              "    [theme=dark] .colab-df-convert {\n",
              "      background-color: #3B4455;\n",
              "      fill: #D2E3FC;\n",
              "    }\n",
              "\n",
              "    [theme=dark] .colab-df-convert:hover {\n",
              "      background-color: #434B5C;\n",
              "      box-shadow: 0px 1px 3px 1px rgba(0, 0, 0, 0.15);\n",
              "      filter: drop-shadow(0px 1px 2px rgba(0, 0, 0, 0.3));\n",
              "      fill: #FFFFFF;\n",
              "    }\n",
              "  </style>\n",
              "\n",
              "      <script>\n",
              "        const buttonEl =\n",
              "          document.querySelector('#df-edfcd0b5-b3fa-4b84-81e4-bcd61e2025b8 button.colab-df-convert');\n",
              "        buttonEl.style.display =\n",
              "          google.colab.kernel.accessAllowed ? 'block' : 'none';\n",
              "\n",
              "        async function convertToInteractive(key) {\n",
              "          const element = document.querySelector('#df-edfcd0b5-b3fa-4b84-81e4-bcd61e2025b8');\n",
              "          const dataTable =\n",
              "            await google.colab.kernel.invokeFunction('convertToInteractive',\n",
              "                                                     [key], {});\n",
              "          if (!dataTable) return;\n",
              "\n",
              "          const docLinkHtml = 'Like what you see? Visit the ' +\n",
              "            '<a target=\"_blank\" href=https://colab.research.google.com/notebooks/data_table.ipynb>data table notebook</a>'\n",
              "            + ' to learn more about interactive tables.';\n",
              "          element.innerHTML = '';\n",
              "          dataTable['output_type'] = 'display_data';\n",
              "          await google.colab.output.renderOutput(dataTable, element);\n",
              "          const docLink = document.createElement('div');\n",
              "          docLink.innerHTML = docLinkHtml;\n",
              "          element.appendChild(docLink);\n",
              "        }\n",
              "      </script>\n",
              "    </div>\n",
              "  </div>\n",
              "  "
            ]
          },
          "metadata": {},
          "execution_count": 46
        }
      ],
      "source": [
        "x"
      ]
    },
    {
      "cell_type": "code",
      "execution_count": 47,
      "metadata": {
        "id": "iRu5LY1VOEFt",
        "outputId": "744ade98-9ef3-4a2a-a53c-5f7140354c71",
        "colab": {
          "base_uri": "https://localhost:8080/"
        }
      },
      "outputs": [
        {
          "output_type": "stream",
          "name": "stdout",
          "text": [
            "Optimization terminated successfully.\n",
            "         Current function value: 0.611697\n",
            "         Iterations 5\n",
            "                               Results: Logit\n",
            "============================================================================\n",
            "Model:                   Logit               Pseudo R-squared:    0.110     \n",
            "Dependent Variable:      all_result          AIC:                 13910.1079\n",
            "Date:                    2023-03-03 13:37    BIC:                 14269.3599\n",
            "No. Observations:        11290               Log-Likelihood:      -6906.1   \n",
            "Df Model:                48                  LL-Null:             -7756.1   \n",
            "Df Residuals:            11241               LLR p-value:         0.0000    \n",
            "Converged:               1.0000              Scale:               1.0000    \n",
            "No. Iterations:          5.0000                                             \n",
            "----------------------------------------------------------------------------\n",
            "                              Coef.  Std.Err.    z    P>|z|   [0.025  0.975]\n",
            "----------------------------------------------------------------------------\n",
            "xgoal_diff                    0.7806   0.0296 26.4118 0.0000  0.7227  0.8386\n",
            "xGoals_home_rolling           0.1473   0.3415  0.4315 0.6661 -0.5220  0.8167\n",
            "shots_home_rolling           -0.8142   0.3183 -2.5581 0.0105 -1.4380 -0.1904\n",
            "shotsOnTarget_home_rolling    0.1417   0.0559  2.5334 0.0113  0.0321  0.2513\n",
            "deep_home_rolling             0.0986   0.0429  2.2963 0.0217  0.0144  0.1827\n",
            "ppda_home_rolling            -0.0248   0.0340 -0.7300 0.4654 -0.0915  0.0418\n",
            "corners_home_rolling          0.0228   0.0419  0.5448 0.5859 -0.0593  0.1049\n",
            "shots_def_home_rolling        0.2309   0.1076  2.1459 0.0319  0.0200  0.4418\n",
            "shots_del_home_rolling        0.4877   0.2456  1.9855 0.0471  0.0063  0.9692\n",
            "shots_med_home_rolling        0.3446   0.1739  1.9816 0.0475  0.0038  0.6854\n",
            "xGoals_def_home_rolling      -0.0303   0.0979 -0.3094 0.7570 -0.2222  0.1616\n",
            "xGoals_del_home_rolling       0.0814   0.2866  0.2841 0.7764 -0.4803  0.6431\n",
            "xGoals_med_home_rolling      -0.0906   0.1417 -0.6393 0.5227 -0.3683  0.1871\n",
            "xGoalsChain_def_home_rolling  0.0257   0.0569  0.4512 0.6518 -0.0858  0.1371\n",
            "xGoalsChain_del_home_rolling -0.2329   0.0893 -2.6081 0.0091 -0.4079 -0.0579\n",
            "xGoalsChain_med_home_rolling  0.1693   0.0705  2.4011 0.0163  0.0311  0.3075\n",
            "assists_def_home_rolling      0.0180   0.0433  0.4152 0.6780 -0.0670  0.1030\n",
            "assists_del_home_rolling     -0.0264   0.0480 -0.5508 0.5818 -0.1204  0.0676\n",
            "assists_med_home_rolling      0.0724   0.0453  1.5974 0.1102 -0.0164  0.1611\n",
            "keyPasses_def_home_rolling    0.0850   0.0569  1.4951 0.1349 -0.0264  0.1965\n",
            "keyPasses_del_home_rolling    0.0354   0.0834  0.4248 0.6710 -0.1281  0.1989\n",
            "keyPasses_med_home_rolling    0.1439   0.0752  1.9144 0.0556 -0.0034  0.2913\n",
            "xAssists_def_home_rolling    -0.0595   0.0609 -0.9769 0.3286 -0.1790  0.0599\n",
            "xAssists_del_home_rolling     0.0417   0.0888  0.4699 0.6384 -0.1323  0.2157\n",
            "xAssists_med_home_rolling    -0.2120   0.0731 -2.8989 0.0037 -0.3553 -0.0687\n",
            "xGoals_away_rolling          -0.2001   0.3749 -0.5339 0.5934 -0.9348  0.5345\n",
            "shots_away_rolling           -0.4427   0.3163 -1.3995 0.1617 -1.0628  0.1773\n",
            "shotsOnTarget_away_rolling    0.0573   0.0570  1.0049 0.3149 -0.0544  0.1690\n",
            "deep_away_rolling            -0.0094   0.0436 -0.2145 0.8302 -0.0948  0.0761\n",
            "ppda_away_rolling             0.0324   0.0336  0.9668 0.3336 -0.0333  0.0982\n",
            "corners_away_rolling          0.0132   0.0415  0.3187 0.7499 -0.0681  0.0945\n",
            "shots_def_away_rolling        0.2153   0.1050  2.0495 0.0404  0.0094  0.4211\n",
            "shots_del_away_rolling        0.2748   0.2466  1.1145 0.2651 -0.2085  0.7581\n",
            "shots_med_away_rolling        0.1453   0.1675  0.8678 0.3855 -0.1829  0.4735\n",
            "xGoals_def_away_rolling      -0.1322   0.1032 -1.2815 0.2000 -0.3344  0.0700\n",
            "xGoals_del_away_rolling       0.0266   0.3115  0.0853 0.9320 -0.5839  0.6371\n",
            "xGoals_med_away_rolling       0.1132   0.1514  0.7474 0.4548 -0.1836  0.4100\n",
            "xGoalsChain_def_away_rolling -0.0684   0.0593 -1.1543 0.2484 -0.1847  0.0478\n",
            "xGoalsChain_del_away_rolling  0.1127   0.0923  1.2215 0.2219 -0.0681  0.2936\n",
            "xGoalsChain_med_away_rolling -0.0965   0.0702 -1.3741 0.1694 -0.2341  0.0411\n",
            "assists_def_away_rolling      0.0209   0.0441  0.4738 0.6357 -0.0656  0.1074\n",
            "assists_del_away_rolling      0.0185   0.0471  0.3925 0.6947 -0.0738  0.1108\n",
            "assists_med_away_rolling     -0.0874   0.0445 -1.9647 0.0494 -0.1746 -0.0002\n",
            "keyPasses_def_away_rolling   -0.0865   0.0583 -1.4853 0.1375 -0.2007  0.0277\n",
            "keyPasses_del_away_rolling    0.0121   0.0821  0.1472 0.8830 -0.1489  0.1731\n",
            "keyPasses_med_away_rolling    0.0700   0.0731  0.9575 0.3383 -0.0733  0.2134\n",
            "xAssists_def_away_rolling     0.0575   0.0618  0.9309 0.3519 -0.0636  0.1786\n",
            "xAssists_del_away_rolling    -0.0082   0.0912 -0.0905 0.9279 -0.1870  0.1705\n",
            "xAssists_med_away_rolling     0.0388   0.0738  0.5257 0.5991 -0.1058  0.1834\n",
            "============================================================================\n",
            "\n"
          ]
        }
      ],
      "source": [
        "\n",
        "import statsmodels.api as sm\n",
        "logit_model=sm.Logit(y,x)\n",
        "result=logit_model.fit()\n",
        "print(result.summary2())\n"
      ]
    },
    {
      "cell_type": "markdown",
      "metadata": {
        "id": "XuWUSj6MsnOy"
      },
      "source": [
        "\n",
        "#### <font color='#2ca18c'>Árbol de decisión </font> \n",
        "\n",
        ">Se optó por utilizar un árbol de decisión como algoritmo de clasificación para entrenar el modelo con los datos elegidos.\n",
        "Antes de utilizarlo, se decidió asignarle un 1 a las victorias y un 0 a cualquier otro tipo de resultados (empates y derrotas)."
      ]
    },
    {
      "cell_type": "markdown",
      "metadata": {
        "id": "KcAsjGKiuPKf"
      },
      "source": [
        ">Se utilizó un training set con los datos menores obtenidos al año 2017 inclusive. El test set se realizó con los años posteriores a dicho año."
      ]
    },
    {
      "cell_type": "code",
      "execution_count": 48,
      "metadata": {
        "id": "PodSHqDRTrUQ",
        "outputId": "ac683cc8-5530-49a7-c27b-89bf0c9f20b1",
        "colab": {
          "base_uri": "https://localhost:8080/"
        }
      },
      "outputs": [
        {
          "output_type": "execute_result",
          "data": {
            "text/plain": [
              "0.6490369917456436"
            ]
          },
          "metadata": {},
          "execution_count": 48
        }
      ],
      "source": [
        "from sklearn.ensemble import RandomForestClassifier\n",
        "rf=RandomForestClassifier(n_estimators=50, min_samples_split=10, random_state=1)\n",
        "rf.fit(x_train,y_train)\n",
        "predictions=rf.predict(x_test)\n",
        "from sklearn.metrics import accuracy_score\n",
        "acc=accuracy_score(y_test,predictions)\n",
        "acc "
      ]
    },
    {
      "cell_type": "markdown",
      "metadata": {
        "id": "Lq1_c2uFuVmy"
      },
      "source": [
        ">Se utilizó la métrica del accuracy para demostrar la eficiencia del método. El mismo es de un 0.64, es decir que las predicciones efectuadas sobre si un equipo gana o no tiene una precisión de un 58%, o sea en la mayor cantidad de los casos acierta."
      ]
    },
    {
      "cell_type": "code",
      "execution_count": 49,
      "metadata": {
        "id": "T14MAgjhrbc-",
        "outputId": "b883af90-af0f-4536-f346-7ae35ab038ee",
        "colab": {
          "base_uri": "https://localhost:8080/"
        }
      },
      "outputs": [
        {
          "output_type": "execute_result",
          "data": {
            "text/plain": [
              "<sklearn.metrics._plot.confusion_matrix.ConfusionMatrixDisplay at 0x7f2d28893e80>"
            ]
          },
          "metadata": {},
          "execution_count": 49
        }
      ],
      "source": [
        "sklearn.metrics.SCORERS.keys() \n",
        "plt.figure(figsize=(10,6))\n",
        "ConfusionMatrixDisplay.from_estimator(rf, x_test, y_test, display_labels=['Negative', 'Positive'])"
      ]
    },
    {
      "cell_type": "markdown",
      "metadata": {
        "id": "L5sSupykusMj"
      },
      "source": [
        "\n",
        "\n",
        "##### <font color='#2ca18c'>**Precision** </font> "
      ]
    },
    {
      "cell_type": "code",
      "execution_count": 50,
      "metadata": {
        "id": "IkKykBPzB_Ky",
        "outputId": "52376969-26fb-47cd-fd73-79865abc04f8",
        "colab": {
          "base_uri": "https://localhost:8080/"
        }
      },
      "outputs": [
        {
          "output_type": "execute_result",
          "data": {
            "text/plain": [
              "0.5973214285714286"
            ]
          },
          "metadata": {},
          "execution_count": 50
        }
      ],
      "source": [
        "preds = rf.predict(x_test) \n",
        "\n",
        "precision = metrics.precision_score(y_test, preds)\n",
        "precision"
      ]
    },
    {
      "cell_type": "markdown",
      "metadata": {
        "id": "Qoy_UwkYuwUo"
      },
      "source": [
        "\n",
        "\n",
        "\n",
        "##### <font color='#2ca18c'>**Recall**</font> "
      ]
    },
    {
      "cell_type": "code",
      "execution_count": 51,
      "metadata": {
        "id": "rURgy1J0CB6f",
        "outputId": "7f0a0fe7-fbe4-45f7-bb85-3eee303b43af",
        "colab": {
          "base_uri": "https://localhost:8080/"
        }
      },
      "outputs": [
        {
          "output_type": "execute_result",
          "data": {
            "text/plain": [
              "0.48975109809663253"
            ]
          },
          "metadata": {},
          "execution_count": 51
        }
      ],
      "source": [
        "recall = metrics.recall_score(y_test, preds)\n",
        "recall"
      ]
    },
    {
      "cell_type": "markdown",
      "metadata": {
        "id": "iHpKN2x2u2hR"
      },
      "source": [
        ">Con la métrica precisión se busca minimizar los falsos positivos y con recall se busca minimizar los falsos negativos. Ambos valores son muy similares, como puede visualizarse."
      ]
    },
    {
      "cell_type": "markdown",
      "metadata": {
        "id": "-TVTdr03u9Tk"
      },
      "source": [
        "\n",
        "\n",
        "##### <font color='#2ca18c'>**F1**</font> "
      ]
    },
    {
      "cell_type": "code",
      "execution_count": 52,
      "metadata": {
        "id": "ojcKUtA1CGbS",
        "outputId": "cc1daf42-961e-49d3-b3fd-484b4bdf9ec7",
        "colab": {
          "base_uri": "https://localhost:8080/"
        }
      },
      "outputs": [
        {
          "output_type": "execute_result",
          "data": {
            "text/plain": [
              "0.5382139983909895"
            ]
          },
          "metadata": {},
          "execution_count": 52
        }
      ],
      "source": [
        "f1_score = metrics.f1_score(y_test, preds)\n",
        "f1_score "
      ]
    },
    {
      "cell_type": "markdown",
      "metadata": {
        "id": "UqITZrLhvAB4"
      },
      "source": [
        ">Como era de esperarse al no ser valores muy altos de precisión y de recall, el F1 tampoco lo será, ya que su cálculo depende de los parámetros mencionados."
      ]
    },
    {
      "cell_type": "code",
      "execution_count": 53,
      "metadata": {
        "id": "MPavSgxnL2kp"
      },
      "outputs": [],
      "source": [
        "preds_train = rf.predict(x_train) "
      ]
    },
    {
      "cell_type": "markdown",
      "metadata": {
        "id": "3fuqULwTvrU3"
      },
      "source": [
        "\n",
        "\n",
        "##### <font color='#2ca18c'> **Underfitting u Overfitting**</font> "
      ]
    },
    {
      "cell_type": "code",
      "execution_count": 54,
      "metadata": {
        "id": "Czf-YzeLHyRL",
        "outputId": "dc2c4e2e-0960-4269-aa31-81ef5b533fdc",
        "colab": {
          "base_uri": "https://localhost:8080/"
        }
      },
      "outputs": [
        {
          "output_type": "execute_result",
          "data": {
            "text/plain": [
              "0.9954287515762925"
            ]
          },
          "metadata": {},
          "execution_count": 54
        }
      ],
      "source": [
        "train_accuracy = metrics.accuracy_score(y_train, preds_train)\n",
        "train_accuracy "
      ]
    },
    {
      "cell_type": "code",
      "execution_count": 55,
      "metadata": {
        "id": "2AHNuhnCHyOc",
        "outputId": "482f3e6c-26c8-4525-fe51-1c5cb5c5d72d",
        "colab": {
          "base_uri": "https://localhost:8080/"
        }
      },
      "outputs": [
        {
          "output_type": "execute_result",
          "data": {
            "text/plain": [
              "0.6490369917456436"
            ]
          },
          "metadata": {},
          "execution_count": 55
        }
      ],
      "source": [
        "preds_test = rf.predict(x_test) \n",
        "\n",
        "test_accuracy = metrics.accuracy_score(y_test, preds_test)\n",
        "test_accuracy "
      ]
    },
    {
      "cell_type": "markdown",
      "metadata": {
        "id": "62v4ZsmNvzL4"
      },
      "source": [
        ">Al evaluar si encuadra dentro de un modelo underfitting-overfitting, se puede concluir que está dentro de esta última categoría, debido a que con los datos del entrenamiento se obtiene una precisión del 100%, pero cuando se tiene en cuenta los datos del test, la misma baja a un 64%, esto da una idea que el modelo se adapta mucho a los datos existentes y no así a los datos nuevos.\n",
        "Para aumentar esta precisión, quizás habría que probar con más modelos o realizar un future engineering más exhaustivo\n"
      ]
    },
    {
      "cell_type": "markdown",
      "metadata": {
        "id": "xFSnodhDVM61"
      },
      "source": [
        "\n",
        "\n",
        "\n",
        "\n",
        "##### <font color='#2ca18c'> Regresión logística</font> "
      ]
    },
    {
      "cell_type": "markdown",
      "metadata": {
        "id": "i_WGrLTQbLkN"
      },
      "source": [
        ">Empezamos a implementar el modelo de regresión logística"
      ]
    },
    {
      "cell_type": "markdown",
      "metadata": {
        "id": "bSHk9pLDpl50"
      },
      "source": [
        "> Preparamos el modelo donde vamos a dividir el datasets en las partes de testeo y entrenamientos"
      ]
    },
    {
      "cell_type": "code",
      "execution_count": 56,
      "metadata": {
        "id": "EUCgClp-TrUZ",
        "outputId": "e87ce2af-d080-49af-9212-206b10ef7cb6",
        "colab": {
          "base_uri": "https://localhost:8080/",
          "height": 75
        }
      },
      "outputs": [
        {
          "output_type": "execute_result",
          "data": {
            "text/plain": [
              "LogisticRegression(max_iter=20000, n_jobs=-1)"
            ],
            "text/html": [
              "<style>#sk-container-id-1 {color: black;background-color: white;}#sk-container-id-1 pre{padding: 0;}#sk-container-id-1 div.sk-toggleable {background-color: white;}#sk-container-id-1 label.sk-toggleable__label {cursor: pointer;display: block;width: 100%;margin-bottom: 0;padding: 0.3em;box-sizing: border-box;text-align: center;}#sk-container-id-1 label.sk-toggleable__label-arrow:before {content: \"▸\";float: left;margin-right: 0.25em;color: #696969;}#sk-container-id-1 label.sk-toggleable__label-arrow:hover:before {color: black;}#sk-container-id-1 div.sk-estimator:hover label.sk-toggleable__label-arrow:before {color: black;}#sk-container-id-1 div.sk-toggleable__content {max-height: 0;max-width: 0;overflow: hidden;text-align: left;background-color: #f0f8ff;}#sk-container-id-1 div.sk-toggleable__content pre {margin: 0.2em;color: black;border-radius: 0.25em;background-color: #f0f8ff;}#sk-container-id-1 input.sk-toggleable__control:checked~div.sk-toggleable__content {max-height: 200px;max-width: 100%;overflow: auto;}#sk-container-id-1 input.sk-toggleable__control:checked~label.sk-toggleable__label-arrow:before {content: \"▾\";}#sk-container-id-1 div.sk-estimator input.sk-toggleable__control:checked~label.sk-toggleable__label {background-color: #d4ebff;}#sk-container-id-1 div.sk-label input.sk-toggleable__control:checked~label.sk-toggleable__label {background-color: #d4ebff;}#sk-container-id-1 input.sk-hidden--visually {border: 0;clip: rect(1px 1px 1px 1px);clip: rect(1px, 1px, 1px, 1px);height: 1px;margin: -1px;overflow: hidden;padding: 0;position: absolute;width: 1px;}#sk-container-id-1 div.sk-estimator {font-family: monospace;background-color: #f0f8ff;border: 1px dotted black;border-radius: 0.25em;box-sizing: border-box;margin-bottom: 0.5em;}#sk-container-id-1 div.sk-estimator:hover {background-color: #d4ebff;}#sk-container-id-1 div.sk-parallel-item::after {content: \"\";width: 100%;border-bottom: 1px solid gray;flex-grow: 1;}#sk-container-id-1 div.sk-label:hover label.sk-toggleable__label {background-color: #d4ebff;}#sk-container-id-1 div.sk-serial::before {content: \"\";position: absolute;border-left: 1px solid gray;box-sizing: border-box;top: 0;bottom: 0;left: 50%;z-index: 0;}#sk-container-id-1 div.sk-serial {display: flex;flex-direction: column;align-items: center;background-color: white;padding-right: 0.2em;padding-left: 0.2em;position: relative;}#sk-container-id-1 div.sk-item {position: relative;z-index: 1;}#sk-container-id-1 div.sk-parallel {display: flex;align-items: stretch;justify-content: center;background-color: white;position: relative;}#sk-container-id-1 div.sk-item::before, #sk-container-id-1 div.sk-parallel-item::before {content: \"\";position: absolute;border-left: 1px solid gray;box-sizing: border-box;top: 0;bottom: 0;left: 50%;z-index: -1;}#sk-container-id-1 div.sk-parallel-item {display: flex;flex-direction: column;z-index: 1;position: relative;background-color: white;}#sk-container-id-1 div.sk-parallel-item:first-child::after {align-self: flex-end;width: 50%;}#sk-container-id-1 div.sk-parallel-item:last-child::after {align-self: flex-start;width: 50%;}#sk-container-id-1 div.sk-parallel-item:only-child::after {width: 0;}#sk-container-id-1 div.sk-dashed-wrapped {border: 1px dashed gray;margin: 0 0.4em 0.5em 0.4em;box-sizing: border-box;padding-bottom: 0.4em;background-color: white;}#sk-container-id-1 div.sk-label label {font-family: monospace;font-weight: bold;display: inline-block;line-height: 1.2em;}#sk-container-id-1 div.sk-label-container {text-align: center;}#sk-container-id-1 div.sk-container {/* jupyter's `normalize.less` sets `[hidden] { display: none; }` but bootstrap.min.css set `[hidden] { display: none !important; }` so we also need the `!important` here to be able to override the default hidden behavior on the sphinx rendered scikit-learn.org. See: https://github.com/scikit-learn/scikit-learn/issues/21755 */display: inline-block !important;position: relative;}#sk-container-id-1 div.sk-text-repr-fallback {display: none;}</style><div id=\"sk-container-id-1\" class=\"sk-top-container\"><div class=\"sk-text-repr-fallback\"><pre>LogisticRegression(max_iter=20000, n_jobs=-1)</pre><b>In a Jupyter environment, please rerun this cell to show the HTML representation or trust the notebook. <br />On GitHub, the HTML representation is unable to render, please try loading this page with nbviewer.org.</b></div><div class=\"sk-container\" hidden><div class=\"sk-item\"><div class=\"sk-estimator sk-toggleable\"><input class=\"sk-toggleable__control sk-hidden--visually\" id=\"sk-estimator-id-1\" type=\"checkbox\" checked><label for=\"sk-estimator-id-1\" class=\"sk-toggleable__label sk-toggleable__label-arrow\">LogisticRegression</label><div class=\"sk-toggleable__content\"><pre>LogisticRegression(max_iter=20000, n_jobs=-1)</pre></div></div></div></div></div>"
            ]
          },
          "metadata": {},
          "execution_count": 56
        }
      ],
      "source": [
        "from sklearn.linear_model import LogisticRegression\n",
        "from sklearn import metrics\n",
        "\n",
        "logreg = LogisticRegression(max_iter=20000, n_jobs=-1)\n",
        "logreg.fit(x_train, y_train)"
      ]
    },
    {
      "cell_type": "code",
      "execution_count": 57,
      "metadata": {
        "id": "P96QhmQQTrUZ",
        "outputId": "7d808c88-c106-4076-8aef-9430062e7405",
        "colab": {
          "base_uri": "https://localhost:8080/"
        }
      },
      "outputs": [
        {
          "output_type": "stream",
          "name": "stdout",
          "text": [
            "Accuracy con el modelo de regresión logística: 0.65\n"
          ]
        }
      ],
      "source": [
        "y_pred = logreg.predict(x_test)\n",
        "print('Accuracy con el modelo de regresión logística: {:.2f}'.format(logreg.score(x_test, y_test)))"
      ]
    },
    {
      "cell_type": "markdown",
      "metadata": {
        "id": "fuQPpuoovarV"
      },
      "source": [
        ">Se puede observar que el accuracy aumenta con el nuevo modelo y un feature engineering más exhaustivo."
      ]
    },
    {
      "cell_type": "markdown",
      "metadata": {
        "id": "YzW1v66PvWjw"
      },
      "source": [
        ">Matriz de confusión según regresión logística"
      ]
    },
    {
      "cell_type": "code",
      "execution_count": 58,
      "metadata": {
        "id": "kr3McMb9TrUZ",
        "outputId": "756eac5e-a49b-4116-b12a-e57d046188d2",
        "colab": {
          "base_uri": "https://localhost:8080/"
        }
      },
      "outputs": [
        {
          "output_type": "execute_result",
          "data": {
            "text/plain": [
              "<sklearn.metrics._plot.confusion_matrix.ConfusionMatrixDisplay at 0x7f2d287bfc70>"
            ]
          },
          "metadata": {},
          "execution_count": 58
        }
      ],
      "source": [
        "sklearn.metrics.SCORERS.keys() \n",
        "plt.figure(figsize=(10,6))\n",
        "ConfusionMatrixDisplay.from_estimator(logreg, x_test, y_test, display_labels=['Negative', 'Positive'])"
      ]
    },
    {
      "cell_type": "markdown",
      "metadata": {
        "id": "1lnkwA9GsVhY"
      },
      "source": [
        ">Cuadro resumen de métricas "
      ]
    },
    {
      "cell_type": "code",
      "execution_count": 59,
      "metadata": {
        "id": "gS45pkTOTrUZ",
        "outputId": "7ac67af3-11f4-453d-9a88-4f797ee22929",
        "colab": {
          "base_uri": "https://localhost:8080/"
        }
      },
      "outputs": [
        {
          "output_type": "stream",
          "name": "stdout",
          "text": [
            "              precision    recall  f1-score   support\n",
            "\n",
            "           0       0.69      0.75      0.72      1905\n",
            "           1       0.60      0.52      0.56      1366\n",
            "\n",
            "    accuracy                           0.65      3271\n",
            "   macro avg       0.64      0.64      0.64      3271\n",
            "weighted avg       0.65      0.65      0.65      3271\n",
            "\n"
          ]
        }
      ],
      "source": [
        "from sklearn.metrics import classification_report\n",
        "print(classification_report(y_test, y_pred))"
      ]
    },
    {
      "cell_type": "markdown",
      "metadata": {
        "id": "vXIjpq3x5ued"
      },
      "source": [
        "## <font color='#2ca18c'>8 - UTILIZACION API</font> <a name=\"API\"></a>\n"
      ]
    },
    {
      "cell_type": "code",
      "execution_count": 60,
      "metadata": {
        "id": "2jEHytOy9kjW"
      },
      "outputs": [],
      "source": [
        "import requests\n",
        "import pandas as pd\n",
        "import json\n",
        "from pandas import json_normalize "
      ]
    },
    {
      "cell_type": "code",
      "execution_count": 61,
      "metadata": {
        "id": "iL9vEG1evDfY"
      },
      "outputs": [],
      "source": [
        "# from google.colab import drive\n",
        "# import os\n",
        "# drive.mount('/content/gdrive')\n",
        "# # Establecer ruta de acceso en drive\n",
        "# import os\n",
        "# print(os.getcwd())\n",
        "# os.chdir(\"/content/gdrive/My Drive\")"
      ]
    },
    {
      "cell_type": "markdown",
      "metadata": {
        "id": "Tnzq_Fn7z0_L"
      },
      "source": [
        ">Se creó la Key de la API por seguridad"
      ]
    },
    {
      "cell_type": "code",
      "execution_count": 62,
      "metadata": {
        "id": "M4lMGlYsu12F"
      },
      "outputs": [],
      "source": [
        "# api_txt = \"api_credentials.txt\" #en este archivo guarde solo el string con el api_key\n",
        "# file1 = open(api_txt, \"r\")\n",
        "# api_key = file1.read() #aca lo guardo en una variable"
      ]
    },
    {
      "cell_type": "markdown",
      "metadata": {
        "id": "b3nOuMj80pWM"
      },
      "source": [
        ">La API se obtuvo del marketplace \"Rapidapi\", la cuál ofrece 100 request gratis. La cuenta ya fue dada de baja ya que estaba próximo a llegar al límite gratuito."
      ]
    },
    {
      "cell_type": "markdown",
      "metadata": {
        "id": "ZfZT82W6z5Uh"
      },
      "source": [
        ">Se utilizó un for loop para pasar de JSON a DataFrame en todas las páginas. El FOR LOOP va ingresando los numero de cada pagina en el querystring para que luego normalicemos el json y lo agreguemos a un dataset. Debido a que cada vez que realizamos un pedido en la API ya cuenta como una request, esta se va restando de los 100 request gratis."
      ]
    },
    {
      "cell_type": "code",
      "execution_count": 63,
      "metadata": {
        "id": "JWqo14sCuMNm"
      },
      "outputs": [],
      "source": [
        "# df_all_players=pd.DataFrame()\n",
        "# for pagina in range(1,30):\n",
        "#   url = \"https://api-football-v1.p.rapidapi.com/v3/players\"\n",
        "\n",
        "#   querystring = {\"league\":\"39\",\"season\":\"2020\",\"page\":f\"{pagina}\"}\n",
        "\n",
        "#   headers = {\n",
        "#     \"X-RapidAPI-Key\": api_key,\n",
        "#     \"X-RapidAPI-Host\": \"api-football-v1.p.rapidapi.com\"\n",
        "#   }\n",
        "\n",
        "#   response = requests.request(\"GET\", url, headers=headers, params=querystring)\n",
        "#   response_json = response.json()\n",
        "#   df1_json=response_json['response']\n",
        "\n",
        "#   df_final=pd.DataFrame()\n",
        "#   for key in df1_json:\n",
        "#       player_data = key['player']\n",
        "#       player_stat = key['statistics']\n",
        "#       df1=pd.json_normalize(player_data)\n",
        "      \n",
        "#       df2=pd.json_normalize(player_stat)\n",
        "      \n",
        "#       df=pd.concat([df1, df2], axis=1)\n",
        "      \n",
        "#       df_final= df_final.append(df)\n",
        "      \n",
        "#   df_all_players=df_all_players.append(df_final)\n"
      ]
    },
    {
      "cell_type": "markdown",
      "metadata": {
        "id": "l4ihdF8t4N3G"
      },
      "source": [
        "## <font color='#2ca18c'>9 - CONCLUSIONES</font> <a name=\"API\"></a>"
      ]
    },
    {
      "cell_type": "markdown",
      "metadata": {
        "id": "qTkR7SFepVky"
      },
      "source": []
    }
  ],
  "metadata": {
    "colab": {
      "provenance": [],
      "toc_visible": true,
      "include_colab_link": true
    },
    "kernelspec": {
      "display_name": "Python 3",
      "language": "python",
      "name": "python3"
    },
    "language_info": {
      "codemirror_mode": {
        "name": "ipython",
        "version": 3
      },
      "file_extension": ".py",
      "mimetype": "text/x-python",
      "name": "python",
      "nbconvert_exporter": "python",
      "pygments_lexer": "ipython3",
      "version": "3.10.5"
    },
    "vscode": {
      "interpreter": {
        "hash": "0f7c5ce30e5f0d7cc845aa124c9e975c020ec21fe98e4a7c7b29adf0872a8c47"
      }
    }
  },
  "nbformat": 4,
  "nbformat_minor": 0
}