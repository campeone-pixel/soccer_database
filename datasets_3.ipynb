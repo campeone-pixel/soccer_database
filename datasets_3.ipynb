{
 "cells": [
  {
   "cell_type": "code",
   "execution_count": 22,
   "metadata": {},
   "outputs": [
    {
     "data": {
      "text/plain": [
       "' df_games = pd.read_csv(\"https://raw.githubusercontent.com/campeone-pixel/soccer_database/master/originales/games.csv\")\\ndf_teams = pd.read_csv(\"https://raw.githubusercontent.com/campeone-pixel/soccer_database/master/originales/teams.csv\")\\ndf_teamstats = pd.read_csv(\"https://raw.githubusercontent.com/campeone-pixel/soccer_database/master/originales/teamstats.csv\")\\ndf_leagues = pd.read_csv(\"https://raw.githubusercontent.com/campeone-pixel/soccer_database/master/originales/leagues.csv\")\\ndf_appearances = pd.read_csv(\"https://raw.githubusercontent.com/campeone-pixel/soccer_database/master/originales/appearances.csv\")\\ndf_players = pd.read_csv(\"https://raw.githubusercontent.com/campeone-pixel/soccer_database/master/originales/players.csv\", encoding=\"ISO-8859-1\")\\ndf_shots = pd.read_csv(\"https://raw.githubusercontent.com/campeone-pixel/soccer_database/master/originales/shots.csv\") '"
      ]
     },
     "execution_count": 22,
     "metadata": {},
     "output_type": "execute_result"
    }
   ],
   "source": [
    "import sqlite3\n",
    "import pandas as pd\n",
    "import numpy as np \n",
    "import pandas as pd\n",
    "import seaborn as sns\n",
    "import matplotlib.pyplot as plt\n",
    "\n",
    "\n",
    "df_games = pd.read_csv(\"originales/games.csv\")\n",
    "df_teams = pd.read_csv(\"originales/teams.csv\")\n",
    "df_teamstats = pd.read_csv(\"originales/teamstats.csv\")\n",
    "df_leagues = pd.read_csv(\"originales/leagues.csv\")\n",
    "df_appearances = pd.read_csv(\"originales/appearances.csv\")\n",
    "df_players = pd.read_csv(\"originales/players.csv\", encoding=\"ISO-8859-1\")\n",
    "df_shots = pd.read_csv(\"originales/shots.csv\")\n",
    "\n",
    "\n",
    "\n",
    "\"\"\" df_games = pd.read_csv(\"https://raw.githubusercontent.com/campeone-pixel/soccer_database/master/originales/games.csv\")\n",
    "df_teams = pd.read_csv(\"https://raw.githubusercontent.com/campeone-pixel/soccer_database/master/originales/teams.csv\")\n",
    "df_teamstats = pd.read_csv(\"https://raw.githubusercontent.com/campeone-pixel/soccer_database/master/originales/teamstats.csv\")\n",
    "df_leagues = pd.read_csv(\"https://raw.githubusercontent.com/campeone-pixel/soccer_database/master/originales/leagues.csv\")\n",
    "df_appearances = pd.read_csv(\"https://raw.githubusercontent.com/campeone-pixel/soccer_database/master/originales/appearances.csv\")\n",
    "df_players = pd.read_csv(\"https://raw.githubusercontent.com/campeone-pixel/soccer_database/master/originales/players.csv\", encoding=\"ISO-8859-1\")\n",
    "df_shots = pd.read_csv(\"https://raw.githubusercontent.com/campeone-pixel/soccer_database/master/originales/shots.csv\") \"\"\""
   ]
  },
  {
   "cell_type": "code",
   "execution_count": 23,
   "metadata": {},
   "outputs": [],
   "source": [
    "df_teamstats_away = df_teamstats.loc[df_teamstats[\"location\"] == \"a\"]\n",
    "df_teamstats_home = df_teamstats.loc[df_teamstats[\"location\"] == \"h\"]\n",
    "df_teamstats_merged = pd.merge(\n",
    "    df_teamstats_home, df_teamstats_away, on=\"gameID\", suffixes=[\"_home\", \"_away\"]\n",
    ")\n",
    "\n",
    "df_games_merged_with_teamstats = pd.merge(\n",
    "    df_games, df_teamstats_merged, on=\"gameID\", suffixes=(\"\", \"_remove\")\n",
    ")\n",
    "df_games_merged_with_teamstats = df_games_merged_with_teamstats.drop(\n",
    "    df_games_merged_with_teamstats.iloc[:, 13:34], axis=1\n",
    ")\n",
    "df_games_merged_with_teamstats = df_games_merged_with_teamstats.drop(\n",
    "    [\"homeProbability\", \"drawProbability\", \"awayProbability\"], axis=1\n",
    ")\n",
    "df_games_merged_with_teamstats = df_games_merged_with_teamstats.drop(\n",
    "    [\"teamID_home\", \"teamID_away\"], axis=1\n",
    ")\n",
    "\n",
    "df_games_merged_with_leagues = pd.merge(\n",
    "    df_games_merged_with_teamstats, df_leagues, on=\"leagueID\"\n",
    ")\n",
    "\n",
    "df_games_merged_with_team = pd.merge(\n",
    "    df_games_merged_with_leagues,\n",
    "    df_teams,\n",
    "    left_on=[\"homeTeamID\"],\n",
    "    right_on=[\"teamID\"],\n",
    "    how=\"left\",\n",
    ")\n",
    "df_games_merged_with_team = pd.merge(\n",
    "    df_games_merged_with_team,\n",
    "    df_teams,\n",
    "    left_on=[\"awayTeamID\"],\n",
    "    right_on=[\"teamID\"],\n",
    "    how=\"left\",\n",
    ")\n",
    "\n",
    "df_f_game = df_games_merged_with_team.rename(\n",
    "    columns={\"name_x\": \"liga\", \"name_y\": \"home_name\", \"name\": \"away_name\"}\n",
    ")\n",
    "df_f_game = df_f_game.drop(\n",
    "    [\n",
    "        \"understatNotation\",\n",
    "        \"season_home\",\n",
    "        \"date_home\",\n",
    "        \"location_home\",\n",
    "        \"goals_away\",\n",
    "        \"goals_home\",\n",
    "        \"season_away\",\n",
    "        \"date_away\",\n",
    "        \"location_away\",\n",
    "        \"location_away\",\n",
    "        \"teamID_x\",\n",
    "        \"teamID_y\",\n",
    "    ],\n",
    "    axis=1,\n",
    ")\n",
    "\n",
    "\n",
    "# df_appearances = pd.read_csv(\"appearances.csv\")\n",
    "# df_players = pd.read_csv(\"players.csv\", encoding=\"ISO-8859-1\")\n",
    "# df_shots = pd.read_csv(\"shots.csv\")\n",
    "\n",
    "df_apperance_merged_with_players = pd.merge(\n",
    "    df_appearances, df_players, on=\"playerID\"\n",
    ")\n",
    "\n",
    "\n",
    "\n"
   ]
  },
  {
   "cell_type": "code",
   "execution_count": 24,
   "metadata": {},
   "outputs": [
    {
     "name": "stdout",
     "output_type": "stream",
     "text": [
      "<class 'pandas.core.frame.DataFrame'>\n",
      "RangeIndex: 25619 entries, 0 to 25618\n",
      "Data columns (total 22 columns):\n",
      " #   Column                       Non-Null Count  Dtype  \n",
      "---  ------                       --------------  -----  \n",
      " 0   player_id                    25619 non-null  int64  \n",
      " 1   pretty_name                  25619 non-null  object \n",
      " 2   club_id                      25619 non-null  int64  \n",
      " 3   club_pretty_name             25619 non-null  object \n",
      " 4   current_club_id              25619 non-null  int64  \n",
      " 5   country_of_citizenship       25618 non-null  object \n",
      " 6   country_of_birth             23903 non-null  object \n",
      " 7   date_of_birth                25593 non-null  object \n",
      " 8   position                     25619 non-null  object \n",
      " 9   sub_position                 22544 non-null  object \n",
      " 10  name                         25619 non-null  object \n",
      " 11  foot                         23727 non-null  object \n",
      " 12  height_in_cm                 25619 non-null  int64  \n",
      " 13  market_value_in_gbp          18462 non-null  float64\n",
      " 14  highest_market_value_in_gbp  24649 non-null  float64\n",
      " 15  agent_name                   16384 non-null  object \n",
      " 16  contract_expiration_date     17300 non-null  object \n",
      " 17  domestic_competition_id      25619 non-null  object \n",
      " 18  club_name                    25619 non-null  object \n",
      " 19  image_url                    9636 non-null   object \n",
      " 20  last_season                  25619 non-null  int64  \n",
      " 21  url                          25619 non-null  object \n",
      "dtypes: float64(2), int64(5), object(15)\n",
      "memory usage: 4.3+ MB\n"
     ]
    },
    {
     "data": {
      "text/plain": [
       "' df2_appearances = pd.read_csv(\"https://raw.githubusercontent.com/campeone-pixel/soccer_database/master/players/appearances.csv\")\\ndf2_club_games = pd.read_csv(\"https://raw.githubusercontent.com/campeone-pixel/soccer_database/master/players/club_games.csv\")\\ndf2_clubs = pd.read_csv(\"https://raw.githubusercontent.com/campeone-pixel/soccer_database/master/players/clubs.csv\")\\ndf2_competitions = pd.read_csv(\"https://raw.githubusercontent.com/campeone-pixel/soccer_database/master/players/competitions.csv\")\\ndf2_games = pd.read_csv(\"https://raw.githubusercontent.com/campeone-pixel/soccer_database/master/players/games.csv\")\\ndf2_player_val= pd.read_csv(\"https://raw.githubusercontent.com/campeone-pixel/soccer_database/master/players/player_valuations.csv\")\\ndf2_players = pd.read_csv(\"https://raw.githubusercontent.com/campeone-pixel/soccer_database/master/players/players.csv\") '"
      ]
     },
     "execution_count": 24,
     "metadata": {},
     "output_type": "execute_result"
    }
   ],
   "source": [
    "df2_appearances = pd.read_csv(\"players/appearances.csv\")\n",
    "df2_club_games = pd.read_csv(\"players/club_games.csv\")\n",
    "df2_clubs = pd.read_csv(\"players/clubs.csv\")\n",
    "df2_competitions = pd.read_csv(\"players/competitions.csv\")\n",
    "df2_games = pd.read_csv(\"players/games.csv\")\n",
    "df2_player_val= pd.read_csv(\"players/player_valuations.csv\")\n",
    "df2_players = pd.read_csv(\"players/players.csv\")\n",
    "df2_players.info()\n",
    "\n",
    "\n",
    "\"\"\" df2_appearances = pd.read_csv(\"https://raw.githubusercontent.com/campeone-pixel/soccer_database/master/players/appearances.csv\")\n",
    "df2_club_games = pd.read_csv(\"https://raw.githubusercontent.com/campeone-pixel/soccer_database/master/players/club_games.csv\")\n",
    "df2_clubs = pd.read_csv(\"https://raw.githubusercontent.com/campeone-pixel/soccer_database/master/players/clubs.csv\")\n",
    "df2_competitions = pd.read_csv(\"https://raw.githubusercontent.com/campeone-pixel/soccer_database/master/players/competitions.csv\")\n",
    "df2_games = pd.read_csv(\"https://raw.githubusercontent.com/campeone-pixel/soccer_database/master/players/games.csv\")\n",
    "df2_player_val= pd.read_csv(\"https://raw.githubusercontent.com/campeone-pixel/soccer_database/master/players/player_valuations.csv\")\n",
    "df2_players = pd.read_csv(\"https://raw.githubusercontent.com/campeone-pixel/soccer_database/master/players/players.csv\") \"\"\"\n"
   ]
  },
  {
   "cell_type": "code",
   "execution_count": null,
   "metadata": {},
   "outputs": [],
   "source": []
  },
  {
   "cell_type": "code",
   "execution_count": 25,
   "metadata": {},
   "outputs": [],
   "source": [
    "\n",
    "top_5_ligas=df2_competitions.loc[(df2_competitions['pretty_name']=='Bundesliga') | (df2_competitions['pretty_name']=='Laliga') | (df2_competitions['pretty_name']=='Premier League') | (df2_competitions['pretty_name']=='Serie A') | (df2_competitions['pretty_name']=='Ligue 1') ]\n",
    "#!pip install thefuzz\n",
    "#!pip install rapidfuzz\n",
    "#!pip install python-Levenshtein\n",
    "df_f_game[['date','hour']]=df_f_game['date'].str.split(' ',1,expand=True)\n",
    "pd.options.mode.chained_assignment = None  # default='warn'\n",
    "\n",
    "from fuzzywuzzy import fuzz, process\n",
    "\n",
    "\n",
    "from thefuzz import process, fuzz\n",
    "\n",
    "def match_teams(df_x,df_match,score):\n",
    "\n",
    " \n",
    "\n",
    "\n",
    "  match=process.extractOne(df_x.name, df_m_filter.name,score_cutoff=score,scorer=fuzz.WRatio)\n",
    "  \n",
    "  \n",
    "  if match:\n",
    "    return match[2]\n",
    "  else:\n",
    "    return 2\n",
    "\n",
    "#---------------------------------------------------------------------------------------------------------\n",
    "# top_5_ligas[\"pretty_name\"]      df_teams.name\n",
    "#top_5_ligas['new_id'] = df_teams.loc[top_5_ligas[\"pretty_name\"].apply(lambda x: match(x,df_teams.name,70) ).values,\"name\"].values\n",
    "#---------------------------------------------------------------------------------------------------------\n",
    "\n",
    "seasons=df_f_game[\"season\"].unique()\n",
    "df2_games= df2_games[df2_games['season'].isin(seasons)]\n",
    "df2_games_top5= df2_games[df2_games['competition_id'].isin(top_5_ligas['competition_id'])]\n",
    "df2_clubs_top5=df2_clubs[df2_clubs['domestic_competition_id'].isin(top_5_ligas['competition_id'])]\n",
    "\n",
    "#---------------------------------------------------------------------------------------------------------\n",
    "# df2_clubs_top5['pretty_name']   df_teams.name\n",
    "#df2_clubs_top5['new_id'] = df_teams.loc[df2_clubs_top5.apply(lambda x: match(x,df_teams,80) ).values,\"teamID\"].values\n",
    "#---------------------------------------------------------------------------------------------------------\n",
    "\n",
    "\n",
    "df2_appearances_top5= df2_appearances[df2_appearances['game_id'].isin(df2_games_top5['game_id'])]\n",
    "df2_players_top5=df2_players[df2_players['current_club_id'].isin(df2_clubs_top5['club_id'])]\n",
    "\n",
    "\n",
    "#-----------------------------------------------------------------------------------------\n",
    "# df2_players_top5['pretty_name']      df_players.name\n",
    "#df2_players_top5['new_id'] = df_players.loc[df2_players_top5.apply(lambda x: match(x,df_players,70) ).values,\"name\"].values\n",
    "#----------------------------------------------------------------------------------------------\n",
    "\n",
    "\n",
    "df2_players_val_top5=df2_player_val[df2_player_val['player_id'].isin(df2_players_top5['player_id'])]\n",
    "\n",
    "\n",
    "\n",
    "\n"
   ]
  },
  {
   "cell_type": "code",
   "execution_count": 31,
   "metadata": {},
   "outputs": [
    {
     "name": "stdout",
     "output_type": "stream",
     "text": [
      "Index(['game_id', 'competition_id', 'competition_type', 'season', 'round',\n",
      "       'date', 'home_club_id', 'away_club_id', 'home_club_goals',\n",
      "       'away_club_goals', 'aggregate', 'home_club_position',\n",
      "       'away_club_position', 'club_home_pretty_name', 'club_away_pretty_name',\n",
      "       'home_club_manager_name', 'away_club_manager_name', 'stadium',\n",
      "       'attendance', 'referee', 'url'],\n",
      "      dtype='object')\n",
      "Index(['gameID', 'leagueID', 'season', 'date', 'homeTeamID', 'awayTeamID',\n",
      "       'homeGoals', 'awayGoals', 'homeGoalsHalfTime', 'awayGoalsHalfTime',\n",
      "       'xGoals_home', 'shots_home', 'shotsOnTarget_home', 'deep_home',\n",
      "       'ppda_home', 'fouls_home', 'corners_home', 'yellowCards_home',\n",
      "       'redCards_home', 'result_home', 'xGoals_away', 'shots_away',\n",
      "       'shotsOnTarget_away', 'deep_away', 'ppda_away', 'fouls_away',\n",
      "       'corners_away', 'yellowCards_away', 'redCards_away', 'result_away',\n",
      "       'liga', 'home_name', 'away_name', 'hour'],\n",
      "      dtype='object')\n"
     ]
    }
   ],
   "source": [
    "lista_df_teams=df_teams.columns\n",
    "lista_df2_clubs=df2_clubs.columns\n",
    "df_f_game_col=df_f_game.columns\n",
    "df2_games_top5_col=df2_games_top5.columns\n",
    "print(df2_games_top5_col)\n",
    "print(df_f_game_col)"
   ]
  },
  {
   "cell_type": "code",
   "execution_count": 34,
   "metadata": {},
   "outputs": [
    {
     "data": {
      "text/plain": [
       "11336                    Fc Malaga vs Fc Sevilla\n",
       "11337                   Real Madrid vs Fc Getafe\n",
       "11342                     Sd Eibar vs Fc Cordoba\n",
       "11344          Tsg 1899 Hoffenheim vs Hertha Bsc\n",
       "11346    Borussia Monchengladbach vs Fc Augsburg\n",
       "                          ...                   \n",
       "48544                Fc Turin vs Cagliari Calcio\n",
       "48550               Fc Crotone vs Juventus Turin\n",
       "48559                   Ac Mailand vs Fc Bologna\n",
       "48613             Benevento Calcio vs Fc Bologna\n",
       "48619                  Fc Bologna vs Us Sassuolo\n",
       "Name: match_name, Length: 12681, dtype: object"
      ]
     },
     "execution_count": 34,
     "metadata": {},
     "output_type": "execute_result"
    }
   ],
   "source": [
    "df2_games_top5['match_name']= df2_games_top5['club_home_pretty_name'] +\" vs \" + df2_games_top5['club_away_pretty_name']\n",
    "df2_games_top5['match_name']"
   ]
  },
  {
   "cell_type": "code",
   "execution_count": null,
   "metadata": {},
   "outputs": [],
   "source": []
  }
 ],
 "metadata": {
  "kernelspec": {
   "display_name": "Python 3.10.5 64-bit",
   "language": "python",
   "name": "python3"
  },
  "language_info": {
   "codemirror_mode": {
    "name": "ipython",
    "version": 3
   },
   "file_extension": ".py",
   "mimetype": "text/x-python",
   "name": "python",
   "nbconvert_exporter": "python",
   "pygments_lexer": "ipython3",
   "version": "3.10.5"
  },
  "orig_nbformat": 4,
  "vscode": {
   "interpreter": {
    "hash": "0f7c5ce30e5f0d7cc845aa124c9e975c020ec21fe98e4a7c7b29adf0872a8c47"
   }
  }
 },
 "nbformat": 4,
 "nbformat_minor": 2
}
