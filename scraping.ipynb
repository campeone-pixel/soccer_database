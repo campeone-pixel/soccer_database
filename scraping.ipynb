{
  "cells": [
    {
      "cell_type": "code",
      "execution_count": 160,
      "metadata": {
        "id": "Ojo7lukxLotg"
      },
      "outputs": [],
      "source": [
        "import requests\n",
        "from bs4 import BeautifulSoup\n",
        "import pandas as pd\n",
        "import time"
      ]
    },
    {
      "cell_type": "code",
      "execution_count": 161,
      "metadata": {
        "id": "opD9gbEvLotk"
      },
      "outputs": [],
      "source": [
        "\n",
        "\n",
        "# standings_url = 'https://fbref.com/en/comps/12/2021-2022/2021-2022-La-Liga-Stats'\n",
        "\n",
        "# data = requests.get(standings_url)\n",
        "\n",
        "# soup = BeautifulSoup(data.text)\n",
        "# standings_table= soup.select('table.stats_table')[0]\n",
        "# links = standings_table.find_all('a')\n",
        "\n",
        "# links = [l.get('href') for l in links]\n",
        "\n",
        "# links = [l for l in links if '/squads/' in l ]\n",
        "\n",
        "# team_urls = [f'https://fbref.com{l}' for l in links]\n",
        "# team_url = team_urls[0]\n",
        "# data= requests.get(team_url)\n",
        "# import pandas as pd\n",
        "\n",
        "# matches = pd.read_html(data.text, match='Scores & Fixtures')\n",
        "# soup = BeautifulSoup(data.text)\n",
        "# links = soup.find_all('a')\n",
        "\n",
        "# links = [l.get('href') for l in links]\n",
        "# links = [l for l in links if l and 'all_comps/shooting/' in l]\n",
        "\n",
        "# data = requests.get(f'https://fbref.com{links[0]}')\n",
        "# shooting = pd.read_html(data.text,match='Shooting')[0]\n",
        "# shooting.columns = shooting.columns.droplevel()\n",
        "# shooting.columns\n",
        "# team_data = matches[0].merge(shooting[['Date', 'Sh', 'SoT', 'Dist', 'FK',\n",
        "#        'PK', 'PKatt', 'xG'\n",
        "#        ]],on='Date')\n"
      ]
    },
    {
      "cell_type": "code",
      "execution_count": 162,
      "metadata": {
        "colab": {
          "base_uri": "https://localhost:8080/",
          "height": 381
        },
        "id": "VlGQeaxoLotn",
        "outputId": "a5b3b9da-37fe-4e1b-c9ac-b09a8bfed7ee"
      },
      "outputs": [],
      "source": [
        "\n",
        "\n",
        "lista_ligas = ['https://fbref.com/en/comps/12/2021-2022/2021-2022-La-Liga-Stats',\n",
        "               \"https://fbref.com/en/comps/9/2021-2022/2021-2022-Premier-League-Stats\",\n",
        "               \"https://fbref.com/en/comps/11/2021-2022/2021-2022-Serie-A-Stats\",\n",
        "               \"https://fbref.com/en/comps/13/2021-2022/2021-2022-Ligue-1-Stats\",\n",
        "               \"https://fbref.com/en/comps/20/2021-2022/2021-2022-Bundesliga-Stats\",\n",
        "               ]\n",
        "\n",
        "years = list(range(2021, 2015, -1))\n",
        "all_matches = []\n",
        "log_error = []\n",
        "log = []\n",
        "for year in years:\n",
        "    \n",
        "    for indice,liga in enumerate(lista_ligas):\n",
        "        data = requests.get(liga)\n",
        "        soup = BeautifulSoup(data.text)\n",
        "        \n",
        "   \n",
        "        try:\n",
        "            standings_table = soup.select('table.stats_table')[0]\n",
        "        except Exception as e:\n",
        "            log_error.append(f'error:{e},{lista_ligas[indice]},{team_url}')\n",
        "            continue\n",
        "        \n",
        "\n",
        "        links = [l.get(\"href\") for l in standings_table.find_all('a')]\n",
        "        links = [l for l in links if '/squads/' in l]\n",
        "        team_urls = [f\"https://fbref.com{l}\" for l in links]\n",
        "\n",
        "\n",
        "        previous_season = soup.select(\"a.prev\")[0].get(\"href\")\n",
        "        print(previous_season)\n",
        "        \n",
        "        time.sleep(1)\n",
        "        for team_url in team_urls:\n",
        "            print(str(year) +\" \"+str(indice))\n",
        "            # team_name = team_url.split(\"/\")[-1].replace(\"-Stats\", \"\").replace(\"-\", \" \")\n",
        "            # data = requests.get(team_url)\n",
        "            # time.sleep(1)\n",
        "            # print(team_url)\n",
        "            # try:\n",
        "            #     matches = pd.read_html(data.text, match=\"Scores & Fixtures\")[0]\n",
        "            #     soup = BeautifulSoup(data.text)\n",
        "            #     links = [l.get(\"href\") for l in soup.find_all('a')]\n",
        "            #     time.sleep(1)\n",
        "            # except Exception as e:\n",
        "            #     log_error.append(f'error:{e},{lista_ligas[indice]},{team_url}')\n",
        "            #     continue\n",
        "\n",
        "            # try:\n",
        "            #     links_shooting = [l for l in links if l and 'all_comps/shooting/' in l]\n",
        "            #     data_shooting = requests.get(f\"https://fbref.com{links_shooting[0]}\")\n",
        "            #     shooting = pd.read_html(data_shooting.text, match=\"Shooting\")[0]\n",
        "            #     shooting.columns = shooting.columns.droplevel()\n",
        "            #     time.sleep(1)\n",
        "            # except Exception as e:\n",
        "            #     log_error.append(f'error:{e},{lista_ligas[indice]},{team_url}')\n",
        "            #     continue\n",
        "            # try:\n",
        "            #     links_passing = [l for l in links if l and 'all_comps/passing/' in l]\n",
        "            #     data_passing = requests.get(f\"https://fbref.com{links_passing[0]}\")\n",
        "            #     passing = pd.read_html(data_passing.text, match=\"Passing\")[0]\n",
        "            #     passing.columns = passing.columns.droplevel()\n",
        "            #     time.sleep(1)\n",
        "            # except Exception as e:\n",
        "            #     log_error.append(f'error:{e},{lista_ligas[indice]},{team_url}')\n",
        "            #     continue\n",
        "            # try:\n",
        "            #     links_defensive = [l for l in links if l and 'all_comps/defense/' in l]\n",
        "            #     data_defensive = requests.get(f\"https://fbref.com{links_defensive[0]}\")\n",
        "            #     defensive = pd.read_html(data_defensive.text, match=\"Defensive Actions\")[0]\n",
        "            #     defensive.columns = defensive.columns.droplevel()\n",
        "            #     time.sleep(1)\n",
        "            # except Exception as e:\n",
        "            #     log_error.append(f'error:{e},{lista_ligas[indice]},{team_url}')\n",
        "            #     continue\n",
        "            # try:\n",
        "            #     team_data = matches.merge(shooting[[\"Date\", \"Sh\", \"SoT\", \"Dist\", \"FK\", \"PK\", \"PKatt\",'xG']], on=\"Date\")\n",
        "            # except ValueError:\n",
        "            #     continue\n",
        "            # try:\n",
        "            #     team_data = matches.merge(passing[[\"Date\",'Cmp','Att','TotDist','PrgDist','Ast','xAG', 'xA','KP']], on=\"Date\")\n",
        "            # except ValueError:\n",
        "            #     continue\n",
        "            # try:\n",
        "            #     team_data = matches.merge(defensive[[\"Date\",'Tkl',\t'TklW'\t,'Def 3rd'\t,'Mid 3rd',\t'Att 3rd','Tkl'\t,'Att',\t'Tkl%'\t,'Lost'\t,'Blocks',\t'Sh',\t'Pass'\t,'Int'\t,'Tkl+Int'\t,'Clr',\t'Err' ]], on=\"Date\")\n",
        "            # except ValueError:\n",
        "            #     continue\n",
        "\n",
        "            # team_data[\"Season\"] = year\n",
        "            # team_data[\"Team\"] = team_name\n",
        "            # all_matches.append(team_data)\n",
        "            # time.sleep(2)\n",
        "            pass\n",
        "\n",
        "    \n",
        "     \n",
        "        lista_ligas[indice] = f\"https://fbref.com{previous_season}\"\n",
        "        print(lista_ligas[indice])\n",
        "\n",
        "\n",
        "\n",
        "\n",
        "\n",
        "\n"
      ]
    },
    {
      "cell_type": "code",
      "execution_count": 163,
      "metadata": {
        "id": "OE5V9Je3Lotr"
      },
      "outputs": [
        {
          "ename": "ValueError",
          "evalue": "No objects to concatenate",
          "output_type": "error",
          "traceback": [
            "\u001b[1;31m---------------------------------------------------------------------------\u001b[0m",
            "\u001b[1;31mValueError\u001b[0m                                Traceback (most recent call last)",
            "Cell \u001b[1;32mIn[163], line 1\u001b[0m\n\u001b[1;32m----> 1\u001b[0m match_df \u001b[39m=\u001b[39m pd\u001b[39m.\u001b[39;49mconcat(all_matches)\n\u001b[0;32m      2\u001b[0m match_df\u001b[39m.\u001b[39mcolumns \u001b[39m=\u001b[39m [c\u001b[39m.\u001b[39mlower() \u001b[39mfor\u001b[39;00m c \u001b[39min\u001b[39;00m match_df\u001b[39m.\u001b[39mcolumns]\n\u001b[0;32m      4\u001b[0m match_df\u001b[39m.\u001b[39mto_csv(\u001b[39m'\u001b[39m\u001b[39mmatches.csv\u001b[39m\u001b[39m'\u001b[39m)\n",
            "File \u001b[1;32mc:\\Users\\Mati\\AppData\\Local\\Programs\\Python\\Python310\\lib\\site-packages\\pandas\\util\\_decorators.py:331\u001b[0m, in \u001b[0;36mdeprecate_nonkeyword_arguments.<locals>.decorate.<locals>.wrapper\u001b[1;34m(*args, **kwargs)\u001b[0m\n\u001b[0;32m    325\u001b[0m \u001b[39mif\u001b[39;00m \u001b[39mlen\u001b[39m(args) \u001b[39m>\u001b[39m num_allow_args:\n\u001b[0;32m    326\u001b[0m     warnings\u001b[39m.\u001b[39mwarn(\n\u001b[0;32m    327\u001b[0m         msg\u001b[39m.\u001b[39mformat(arguments\u001b[39m=\u001b[39m_format_argument_list(allow_args)),\n\u001b[0;32m    328\u001b[0m         \u001b[39mFutureWarning\u001b[39;00m,\n\u001b[0;32m    329\u001b[0m         stacklevel\u001b[39m=\u001b[39mfind_stack_level(),\n\u001b[0;32m    330\u001b[0m     )\n\u001b[1;32m--> 331\u001b[0m \u001b[39mreturn\u001b[39;00m func(\u001b[39m*\u001b[39margs, \u001b[39m*\u001b[39m\u001b[39m*\u001b[39mkwargs)\n",
            "File \u001b[1;32mc:\\Users\\Mati\\AppData\\Local\\Programs\\Python\\Python310\\lib\\site-packages\\pandas\\core\\reshape\\concat.py:368\u001b[0m, in \u001b[0;36mconcat\u001b[1;34m(objs, axis, join, ignore_index, keys, levels, names, verify_integrity, sort, copy)\u001b[0m\n\u001b[0;32m    146\u001b[0m \u001b[39m@deprecate_nonkeyword_arguments\u001b[39m(version\u001b[39m=\u001b[39m\u001b[39mNone\u001b[39;00m, allowed_args\u001b[39m=\u001b[39m[\u001b[39m\"\u001b[39m\u001b[39mobjs\u001b[39m\u001b[39m\"\u001b[39m])\n\u001b[0;32m    147\u001b[0m \u001b[39mdef\u001b[39;00m \u001b[39mconcat\u001b[39m(\n\u001b[0;32m    148\u001b[0m     objs: Iterable[NDFrame] \u001b[39m|\u001b[39m Mapping[HashableT, NDFrame],\n\u001b[1;32m   (...)\u001b[0m\n\u001b[0;32m    157\u001b[0m     copy: \u001b[39mbool\u001b[39m \u001b[39m=\u001b[39m \u001b[39mTrue\u001b[39;00m,\n\u001b[0;32m    158\u001b[0m ) \u001b[39m-\u001b[39m\u001b[39m>\u001b[39m DataFrame \u001b[39m|\u001b[39m Series:\n\u001b[0;32m    159\u001b[0m     \u001b[39m\"\"\"\u001b[39;00m\n\u001b[0;32m    160\u001b[0m \u001b[39m    Concatenate pandas objects along a particular axis.\u001b[39;00m\n\u001b[0;32m    161\u001b[0m \n\u001b[1;32m   (...)\u001b[0m\n\u001b[0;32m    366\u001b[0m \u001b[39m    1   3   4\u001b[39;00m\n\u001b[0;32m    367\u001b[0m \u001b[39m    \"\"\"\u001b[39;00m\n\u001b[1;32m--> 368\u001b[0m     op \u001b[39m=\u001b[39m _Concatenator(\n\u001b[0;32m    369\u001b[0m         objs,\n\u001b[0;32m    370\u001b[0m         axis\u001b[39m=\u001b[39;49maxis,\n\u001b[0;32m    371\u001b[0m         ignore_index\u001b[39m=\u001b[39;49mignore_index,\n\u001b[0;32m    372\u001b[0m         join\u001b[39m=\u001b[39;49mjoin,\n\u001b[0;32m    373\u001b[0m         keys\u001b[39m=\u001b[39;49mkeys,\n\u001b[0;32m    374\u001b[0m         levels\u001b[39m=\u001b[39;49mlevels,\n\u001b[0;32m    375\u001b[0m         names\u001b[39m=\u001b[39;49mnames,\n\u001b[0;32m    376\u001b[0m         verify_integrity\u001b[39m=\u001b[39;49mverify_integrity,\n\u001b[0;32m    377\u001b[0m         copy\u001b[39m=\u001b[39;49mcopy,\n\u001b[0;32m    378\u001b[0m         sort\u001b[39m=\u001b[39;49msort,\n\u001b[0;32m    379\u001b[0m     )\n\u001b[0;32m    381\u001b[0m     \u001b[39mreturn\u001b[39;00m op\u001b[39m.\u001b[39mget_result()\n",
            "File \u001b[1;32mc:\\Users\\Mati\\AppData\\Local\\Programs\\Python\\Python310\\lib\\site-packages\\pandas\\core\\reshape\\concat.py:425\u001b[0m, in \u001b[0;36m_Concatenator.__init__\u001b[1;34m(self, objs, axis, join, keys, levels, names, ignore_index, verify_integrity, copy, sort)\u001b[0m\n\u001b[0;32m    422\u001b[0m     objs \u001b[39m=\u001b[39m \u001b[39mlist\u001b[39m(objs)\n\u001b[0;32m    424\u001b[0m \u001b[39mif\u001b[39;00m \u001b[39mlen\u001b[39m(objs) \u001b[39m==\u001b[39m \u001b[39m0\u001b[39m:\n\u001b[1;32m--> 425\u001b[0m     \u001b[39mraise\u001b[39;00m \u001b[39mValueError\u001b[39;00m(\u001b[39m\"\u001b[39m\u001b[39mNo objects to concatenate\u001b[39m\u001b[39m\"\u001b[39m)\n\u001b[0;32m    427\u001b[0m \u001b[39mif\u001b[39;00m keys \u001b[39mis\u001b[39;00m \u001b[39mNone\u001b[39;00m:\n\u001b[0;32m    428\u001b[0m     objs \u001b[39m=\u001b[39m \u001b[39mlist\u001b[39m(com\u001b[39m.\u001b[39mnot_none(\u001b[39m*\u001b[39mobjs))\n",
            "\u001b[1;31mValueError\u001b[0m: No objects to concatenate"
          ]
        }
      ],
      "source": [
        "match_df = pd.concat(all_matches)\n",
        "match_df.columns = [c.lower() for c in match_df.columns]\n",
        "\n",
        "match_df.to_csv('matches.csv')"
      ]
    },
    {
      "cell_type": "code",
      "execution_count": null,
      "metadata": {},
      "outputs": [],
      "source": []
    }
  ],
  "metadata": {
    "colab": {
      "provenance": []
    },
    "kernelspec": {
      "display_name": "Python 3",
      "language": "python",
      "name": "python3"
    },
    "language_info": {
      "codemirror_mode": {
        "name": "ipython",
        "version": 3
      },
      "file_extension": ".py",
      "mimetype": "text/x-python",
      "name": "python",
      "nbconvert_exporter": "python",
      "pygments_lexer": "ipython3",
      "version": "3.10.5"
    },
    "orig_nbformat": 4,
    "vscode": {
      "interpreter": {
        "hash": "0f7c5ce30e5f0d7cc845aa124c9e975c020ec21fe98e4a7c7b29adf0872a8c47"
      }
    }
  },
  "nbformat": 4,
  "nbformat_minor": 0
}
